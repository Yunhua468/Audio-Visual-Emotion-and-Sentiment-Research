{
  "nbformat": 4,
  "nbformat_minor": 0,
  "metadata": {
    "colab": {
      "name": "downloadDataset.ipynb",
      "provenance": []
    },
    "kernelspec": {
      "name": "python3",
      "display_name": "Python 3"
    }
  },
  "cells": [
    {
      "cell_type": "code",
      "metadata": {
        "id": "bHzomUIY1p0D",
        "colab_type": "code",
        "colab": {}
      },
      "source": [
        "import requests\n",
        "r = requests.get('https://zenodo.org/api/records/1188976')\n"
      ],
      "execution_count": 0,
      "outputs": []
    },
    {
      "cell_type": "code",
      "metadata": {
        "id": "N1F5ZzzH1yYf",
        "colab_type": "code",
        "colab": {}
      },
      "source": [
        "with open(\"download.txt\", \"w+\") as f:\n",
        "    for file in r.json()[\"files\"]:\n",
        "        aLink=(file[\"links\"][\"self\"])\n",
        "        f.write(aLink+\"\\n\")"
      ],
      "execution_count": 0,
      "outputs": []
    },
    {
      "cell_type": "code",
      "metadata": {
        "id": "ey3CXb4y25HG",
        "colab_type": "code",
        "colab": {}
      },
      "source": [
        "!sudo apt-get install -y aria2\n"
      ],
      "execution_count": 0,
      "outputs": []
    },
    {
      "cell_type": "code",
      "metadata": {
        "id": "FKoKEIi71zx3",
        "colab_type": "code",
        "colab": {}
      },
      "source": [
        "!aria2c -i download.txt -d ./dataset"
      ],
      "execution_count": 0,
      "outputs": []
    },
    {
      "cell_type": "code",
      "metadata": {
        "id": "x2ptPHbeN3YY",
        "colab_type": "code",
        "colab": {}
      },
      "source": [
        "!unzip \"/content/SharedDatasets/dataset/*\" -d ./unzipped/"
      ],
      "execution_count": 0,
      "outputs": []
    },
    {
      "cell_type": "code",
      "metadata": {
        "id": "C1VE-fHn6tUf",
        "colab_type": "code",
        "outputId": "7eeda2cb-e71f-4aa4-fd41-cd5980c9c0ee",
        "colab": {
          "base_uri": "https://localhost:8080/",
          "height": 34
        }
      },
      "source": [
        "!du -hs ./dataset"
      ],
      "execution_count": 0,
      "outputs": [
        {
          "output_type": "stream",
          "text": [
            "24G\t./dataset\n"
          ],
          "name": "stdout"
        }
      ]
    },
    {
      "cell_type": "code",
      "metadata": {
        "id": "scyf7xSw64Pw",
        "colab_type": "code",
        "colab": {}
      },
      "source": [
        ""
      ],
      "execution_count": 0,
      "outputs": []
    },
    {
      "cell_type": "code",
      "metadata": {
        "id": "Twu7vct4_6AJ",
        "colab_type": "code",
        "outputId": "f564aa8c-59a8-4ef3-94f0-cd3096301d54",
        "colab": {
          "base_uri": "https://localhost:8080/",
          "height": 122
        }
      },
      "source": [
        "from google.colab import drive\n",
        "drive.mount('/content/drive')"
      ],
      "execution_count": 1,
      "outputs": [
        {
          "output_type": "stream",
          "text": [
            "Go to this URL in a browser: https://accounts.google.com/o/oauth2/auth?client_id=947318989803-6bn6qk8qdgf4n4g3pfee6491hc0brc4i.apps.googleusercontent.com&redirect_uri=urn%3aietf%3awg%3aoauth%3a2.0%3aoob&response_type=code&scope=email%20https%3a%2f%2fwww.googleapis.com%2fauth%2fdocs.test%20https%3a%2f%2fwww.googleapis.com%2fauth%2fdrive%20https%3a%2f%2fwww.googleapis.com%2fauth%2fdrive.photos.readonly%20https%3a%2f%2fwww.googleapis.com%2fauth%2fpeopleapi.readonly\n",
            "\n",
            "Enter your authorization code:\n",
            "··········\n",
            "Mounted at /content/drive\n"
          ],
          "name": "stdout"
        }
      ]
    },
    {
      "cell_type": "code",
      "metadata": {
        "id": "MUJ8DY_u_7JW",
        "colab_type": "code",
        "colab": {}
      },
      "source": [
        "!mkdir ./drive/My\\ Drive/SharedDatasets/"
      ],
      "execution_count": 0,
      "outputs": []
    },
    {
      "cell_type": "code",
      "metadata": {
        "id": "lK7CtiJeACn4",
        "colab_type": "code",
        "colab": {}
      },
      "source": [
        "!mv ./dataset ./drive/My\\ Drive/SharedDatasets/"
      ],
      "execution_count": 0,
      "outputs": []
    },
    {
      "cell_type": "code",
      "metadata": {
        "id": "TE-kUBvICsEN",
        "colab_type": "code",
        "colab": {}
      },
      "source": [
        "!cp -r ./drive/My\\ Drive/SharedDatasets/unzipped ./"
      ],
      "execution_count": 0,
      "outputs": []
    },
    {
      "cell_type": "code",
      "metadata": {
        "id": "o0KH_bUc4Ish",
        "colab_type": "code",
        "colab": {}
      },
      "source": [
        "ffmpeg -i my_video.mp4 -c copy -map 0:a output_audio.wav\n"
      ],
      "execution_count": 0,
      "outputs": []
    },
    {
      "cell_type": "code",
      "metadata": {
        "id": "afqVyBXbTrrW",
        "colab_type": "code",
        "colab": {}
      },
      "source": [
        "ls unzipped/*/*.mp4"
      ],
      "execution_count": 0,
      "outputs": []
    },
    {
      "cell_type": "code",
      "metadata": {
        "id": "hz9xE-yKVsis",
        "colab_type": "code",
        "colab": {}
      },
      "source": [
        ""
      ],
      "execution_count": 0,
      "outputs": []
    },
    {
      "cell_type": "code",
      "metadata": {
        "id": "rCP6BaJfTnce",
        "colab_type": "code",
        "colab": {}
      },
      "source": [
        "for f in unzipped/*/*.mp4; do ffmpeg -i \"$f\" -c copy -map 0:a \"encoded/${f%.*}.wav\"; done\n"
      ],
      "execution_count": 0,
      "outputs": []
    },
    {
      "cell_type": "code",
      "metadata": {
        "id": "FX-89XBtWuMY",
        "colab_type": "code",
        "colab": {}
      },
      "source": [
        ""
      ],
      "execution_count": 0,
      "outputs": []
    }
  ]
}
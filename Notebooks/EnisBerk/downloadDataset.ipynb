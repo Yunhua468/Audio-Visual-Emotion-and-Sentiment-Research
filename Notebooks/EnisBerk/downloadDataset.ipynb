{
  "nbformat": 4,
  "nbformat_minor": 0,
  "metadata": {
    "colab": {
      "name": "downloadDataset.ipynb",
      "provenance": [],
      "collapsed_sections": []
    },
    "kernelspec": {
      "name": "python3",
      "display_name": "Python 3"
    }
  },
  "cells": [
    {
      "cell_type": "code",
      "metadata": {
        "id": "bHzomUIY1p0D",
        "colab_type": "code",
        "colab": {}
      },
      "source": [
        "import requests\n",
        "r = requests.get('https://zenodo.org/api/records/1188976')\n"
      ],
      "execution_count": 0,
      "outputs": []
    },
    {
      "cell_type": "code",
      "metadata": {
        "id": "ikbPOewwTVhP",
        "colab_type": "code",
        "outputId": "932277e1-2855-4f64-cdcd-93745b6b7228",
        "colab": {
          "base_uri": "https://localhost:8080/",
          "height": 411
        }
      },
      "source": [
        "!wget https://zenodo.org/api/files/c8f9b6fe-82ac-481c-ad9c-12b5581cb4b4/Audio_Song_Actors_01-24.zip\n",
        "!wget https://zenodo.org/api/files/c8f9b6fe-82ac-481c-ad9c-12b5581cb4b4/Audio_Speech_Actors_01-24.zip\n",
        "\n",
        "!unzip -q -d ./song Audio_Song_Actors_01-24.zip \n",
        "!unzip -q -d ./speech Audio_Speech_Actors_01-24.zip \n"
      ],
      "execution_count": 3,
      "outputs": [
        {
          "output_type": "stream",
          "text": [
            "--2020-05-07 16:26:10--  https://zenodo.org/api/files/c8f9b6fe-82ac-481c-ad9c-12b5581cb4b4/Audio_Song_Actors_01-24.zip\n",
            "Resolving zenodo.org (zenodo.org)... 188.184.117.155\n",
            "Connecting to zenodo.org (zenodo.org)|188.184.117.155|:443... connected.\n",
            "HTTP request sent, awaiting response... 200 OK\n",
            "Length: 225505317 (215M) [application/octet-stream]\n",
            "Saving to: ‘Audio_Song_Actors_01-24.zip’\n",
            "\n",
            "Audio_Song_Actors_0 100%[===================>] 215.06M  9.55MB/s    in 24s     \n",
            "\n",
            "2020-05-07 16:26:36 (9.03 MB/s) - ‘Audio_Song_Actors_01-24.zip’ saved [225505317/225505317]\n",
            "\n",
            "--2020-05-07 16:26:39--  https://zenodo.org/api/files/c8f9b6fe-82ac-481c-ad9c-12b5581cb4b4/Audio_Speech_Actors_01-24.zip\n",
            "Resolving zenodo.org (zenodo.org)... 188.184.117.155\n",
            "Connecting to zenodo.org (zenodo.org)|188.184.117.155|:443... connected.\n",
            "HTTP request sent, awaiting response... 200 OK\n",
            "Length: 208468073 (199M) [application/octet-stream]\n",
            "Saving to: ‘Audio_Speech_Actors_01-24.zip’\n",
            "\n",
            "Audio_Speech_Actors 100%[===================>] 198.81M  10.6MB/s    in 22s     \n",
            "\n",
            "2020-05-07 16:27:03 (8.95 MB/s) - ‘Audio_Speech_Actors_01-24.zip’ saved [208468073/208468073]\n",
            "\n"
          ],
          "name": "stdout"
        }
      ]
    },
    {
      "cell_type": "code",
      "metadata": {
        "id": "N1F5ZzzH1yYf",
        "colab_type": "code",
        "colab": {}
      },
      "source": [
        "with open(\"download.txt\", \"w+\") as f:\n",
        "    for file in r.json()[\"files\"]:\n",
        "        aLink=(file[\"links\"][\"self\"])\n",
        "        f.write(aLink+\"\\n\")"
      ],
      "execution_count": 0,
      "outputs": []
    },
    {
      "cell_type": "code",
      "metadata": {
        "id": "ey3CXb4y25HG",
        "colab_type": "code",
        "colab": {}
      },
      "source": [
        "!sudo apt-get install -y aria2\n"
      ],
      "execution_count": 0,
      "outputs": []
    },
    {
      "cell_type": "code",
      "metadata": {
        "id": "FKoKEIi71zx3",
        "colab_type": "code",
        "colab": {}
      },
      "source": [
        "!aria2c -i download.txt -d ./dataset"
      ],
      "execution_count": 0,
      "outputs": []
    },
    {
      "cell_type": "code",
      "metadata": {
        "id": "x2ptPHbeN3YY",
        "colab_type": "code",
        "colab": {}
      },
      "source": [
        "!unzip \"/content/SharedDatasets/dataset/*\" -d ./unzipped/"
      ],
      "execution_count": 0,
      "outputs": []
    },
    {
      "cell_type": "code",
      "metadata": {
        "id": "C1VE-fHn6tUf",
        "colab_type": "code",
        "outputId": "7eeda2cb-e71f-4aa4-fd41-cd5980c9c0ee",
        "colab": {
          "base_uri": "https://localhost:8080/",
          "height": 34
        }
      },
      "source": [
        "!du -hs ./dataset"
      ],
      "execution_count": 0,
      "outputs": [
        {
          "output_type": "stream",
          "text": [
            "24G\t./dataset\n"
          ],
          "name": "stdout"
        }
      ]
    },
    {
      "cell_type": "code",
      "metadata": {
        "id": "scyf7xSw64Pw",
        "colab_type": "code",
        "colab": {}
      },
      "source": [
        "unzip \"datazipped/*\" -d ./unzipped/"
      ],
      "execution_count": 0,
      "outputs": []
    },
    {
      "cell_type": "code",
      "metadata": {
        "id": "Twu7vct4_6AJ",
        "colab_type": "code",
        "outputId": "862717c7-1d73-4907-ed85-462120822530",
        "colab": {
          "base_uri": "https://localhost:8080/",
          "height": 54
        }
      },
      "source": [
        "from google.colab import drive\n",
        "drive.mount('/content/drive')"
      ],
      "execution_count": 0,
      "outputs": [
        {
          "output_type": "stream",
          "text": [
            "Drive already mounted at /content/drive; to attempt to forcibly remount, call drive.mount(\"/content/drive\", force_remount=True).\n"
          ],
          "name": "stdout"
        }
      ]
    },
    {
      "cell_type": "code",
      "metadata": {
        "id": "pPR6MbpE0r3Z",
        "colab_type": "code",
        "colab": {}
      },
      "source": [
        "!mkdir unzipped\n",
        "!cp -r ./drive/My\\ Drive/SharedDatasets/unzipped/ ./unzipped\n"
      ],
      "execution_count": 0,
      "outputs": []
    },
    {
      "cell_type": "code",
      "metadata": {
        "id": "hZJyg4O03Deg",
        "colab_type": "code",
        "colab": {}
      },
      "source": [
        ""
      ],
      "execution_count": 0,
      "outputs": []
    },
    {
      "cell_type": "markdown",
      "metadata": {
        "id": "0z13Jr3RcLJa",
        "colab_type": "text"
      },
      "source": [
        "Modality (01 = full-AV, 02 = video-only, 03 = audio-only).\n",
        "\n",
        "Vocal channel (01 = speech, 02 = song).\n",
        "\n",
        "Emotion (01 = neutral, 02 = calm, 03 = happy, 04 = sad, 05 = angry, 06 = fearful, 07 = disgust, 08 = surprised).\n",
        "\n",
        "Emotional intensity (01 = normal, 02 = strong). NOTE: There is no strong intensity for the 'neutral' emotion.\n",
        "\n",
        "Statement (01 = \"Kids are talking by the door\", 02 = \"Dogs are sitting by the door\").\n",
        "\n",
        "Repetition (01 = 1st repetition, 02 = 2nd repetition).\n",
        "\n",
        "Actor (01 to 24. Odd numbered actors are male, even numbered actors are female)."
      ]
    },
    {
      "cell_type": "code",
      "metadata": {
        "id": "s7hicXKX9wRT",
        "colab_type": "code",
        "colab": {}
      },
      "source": [
        "import glob\n",
        "file_list=glob.glob(\"./speech/**/*.wav\")+glob.glob(\"./song/**/*.wav\")\n"
      ],
      "execution_count": 0,
      "outputs": []
    },
    {
      "cell_type": "code",
      "metadata": {
        "id": "DgkdRL_h-ohx",
        "colab_type": "code",
        "colab": {
          "base_uri": "https://localhost:8080/",
          "height": 51
        },
        "outputId": "bf0e69cd-3153-4f72-a1bf-7a5ee7ce5c83"
      },
      "source": [
        "fname,part"
      ],
      "execution_count": 23,
      "outputs": [
        {
          "output_type": "execute_result",
          "data": {
            "text/plain": [
              "('./song/Actor_21/03-02-04-01-02-02-21.wav',\n",
              " ['03', '02', '04', '01', '02', '02', '21'])"
            ]
          },
          "metadata": {
            "tags": []
          },
          "execution_count": 23
        }
      ]
    },
    {
      "cell_type": "code",
      "metadata": {
        "id": "FX-89XBtWuMY",
        "colab_type": "code",
        "outputId": "cdbe5234-9956-41aa-b47b-5426363fe1a3",
        "colab": {
          "base_uri": "https://localhost:8080/",
          "height": 306
        }
      },
      "source": [
        "\n",
        "import os\n",
        "import pandas as pd\n",
        "\n",
        "emotion = []\n",
        "gender = []\n",
        "path = []\n",
        "all_files=[]\n",
        "for wavFile in file_list:\n",
        "    fname = wavFile\n",
        "    \n",
        "    part = fname.split('/')[-1][:-4].split('-')\n",
        "    # print(part)\n",
        "    emotion.append(int(part[2]))\n",
        "\n",
        "    temp = int(part[6])\n",
        "    if temp%2 == 0:\n",
        "        temp = \"female\"\n",
        "    else:\n",
        "        temp = \"male\"\n",
        "    gender.append(temp)\n",
        "    path.append(fname.split(\"/\")[-1])\n",
        "\n",
        "        \n",
        "RAV_df = pd.DataFrame(emotion)\n",
        "RAV_df = RAV_df.replace({1:'neutral', 2:'calm', 3:'happy', 4:'sad', 5:'angry', 6:'fear', 7:'disgust', 8:'surprise'})\n",
        "RAV_df = pd.concat([pd.DataFrame(gender),RAV_df],axis=1)\n",
        "RAV_df.columns = ['gender','emotion']\n",
        "RAV_df['labels'] =RAV_df.gender + '_' + RAV_df.emotion\n",
        "RAV_df['source'] = 'RAVDESS'  \n",
        "RAV_df = pd.concat([RAV_df,pd.DataFrame(path, columns = ['path'])],axis=1)\n",
        "# RAV_df = RAV_df.drop(['gender', 'emotion'], axis=1)\n",
        "RAV_df.labels.value_counts()\n"
      ],
      "execution_count": 36,
      "outputs": [
        {
          "output_type": "execute_result",
          "data": {
            "text/plain": [
              "male_sad           192\n",
              "male_calm          192\n",
              "male_fear          192\n",
              "male_happy         192\n",
              "male_angry         192\n",
              "female_angry       184\n",
              "female_fear        184\n",
              "female_sad         184\n",
              "female_happy       184\n",
              "female_calm        184\n",
              "male_disgust        96\n",
              "male_neutral        96\n",
              "male_surprise       96\n",
              "female_surprise     96\n",
              "female_disgust      96\n",
              "female_neutral      92\n",
              "Name: labels, dtype: int64"
            ]
          },
          "metadata": {
            "tags": []
          },
          "execution_count": 36
        }
      ]
    },
    {
      "cell_type": "code",
      "metadata": {
        "id": "c7OUkaeryrMa",
        "colab_type": "code",
        "outputId": "99ae97e8-c37d-4908-9001-ba926d56428d",
        "colab": {
          "base_uri": "https://localhost:8080/",
          "height": 419
        }
      },
      "source": [
        "RAV_df"
      ],
      "execution_count": 37,
      "outputs": [
        {
          "output_type": "execute_result",
          "data": {
            "text/html": [
              "<div>\n",
              "<style scoped>\n",
              "    .dataframe tbody tr th:only-of-type {\n",
              "        vertical-align: middle;\n",
              "    }\n",
              "\n",
              "    .dataframe tbody tr th {\n",
              "        vertical-align: top;\n",
              "    }\n",
              "\n",
              "    .dataframe thead th {\n",
              "        text-align: right;\n",
              "    }\n",
              "</style>\n",
              "<table border=\"1\" class=\"dataframe\">\n",
              "  <thead>\n",
              "    <tr style=\"text-align: right;\">\n",
              "      <th></th>\n",
              "      <th>gender</th>\n",
              "      <th>emotion</th>\n",
              "      <th>labels</th>\n",
              "      <th>source</th>\n",
              "      <th>path</th>\n",
              "    </tr>\n",
              "  </thead>\n",
              "  <tbody>\n",
              "    <tr>\n",
              "      <th>0</th>\n",
              "      <td>male</td>\n",
              "      <td>happy</td>\n",
              "      <td>male_happy</td>\n",
              "      <td>RAVDESS</td>\n",
              "      <td>03-01-03-02-01-02-05.wav</td>\n",
              "    </tr>\n",
              "    <tr>\n",
              "      <th>1</th>\n",
              "      <td>male</td>\n",
              "      <td>angry</td>\n",
              "      <td>male_angry</td>\n",
              "      <td>RAVDESS</td>\n",
              "      <td>03-01-05-02-02-02-05.wav</td>\n",
              "    </tr>\n",
              "    <tr>\n",
              "      <th>2</th>\n",
              "      <td>male</td>\n",
              "      <td>fear</td>\n",
              "      <td>male_fear</td>\n",
              "      <td>RAVDESS</td>\n",
              "      <td>03-01-06-02-02-02-05.wav</td>\n",
              "    </tr>\n",
              "    <tr>\n",
              "      <th>3</th>\n",
              "      <td>male</td>\n",
              "      <td>sad</td>\n",
              "      <td>male_sad</td>\n",
              "      <td>RAVDESS</td>\n",
              "      <td>03-01-04-02-02-01-05.wav</td>\n",
              "    </tr>\n",
              "    <tr>\n",
              "      <th>4</th>\n",
              "      <td>male</td>\n",
              "      <td>surprise</td>\n",
              "      <td>male_surprise</td>\n",
              "      <td>RAVDESS</td>\n",
              "      <td>03-01-08-02-01-01-05.wav</td>\n",
              "    </tr>\n",
              "    <tr>\n",
              "      <th>...</th>\n",
              "      <td>...</td>\n",
              "      <td>...</td>\n",
              "      <td>...</td>\n",
              "      <td>...</td>\n",
              "      <td>...</td>\n",
              "    </tr>\n",
              "    <tr>\n",
              "      <th>2447</th>\n",
              "      <td>male</td>\n",
              "      <td>angry</td>\n",
              "      <td>male_angry</td>\n",
              "      <td>RAVDESS</td>\n",
              "      <td>03-02-05-02-01-01-21.wav</td>\n",
              "    </tr>\n",
              "    <tr>\n",
              "      <th>2448</th>\n",
              "      <td>male</td>\n",
              "      <td>fear</td>\n",
              "      <td>male_fear</td>\n",
              "      <td>RAVDESS</td>\n",
              "      <td>03-02-06-01-02-02-21.wav</td>\n",
              "    </tr>\n",
              "    <tr>\n",
              "      <th>2449</th>\n",
              "      <td>male</td>\n",
              "      <td>happy</td>\n",
              "      <td>male_happy</td>\n",
              "      <td>RAVDESS</td>\n",
              "      <td>03-02-03-01-01-02-21.wav</td>\n",
              "    </tr>\n",
              "    <tr>\n",
              "      <th>2450</th>\n",
              "      <td>male</td>\n",
              "      <td>fear</td>\n",
              "      <td>male_fear</td>\n",
              "      <td>RAVDESS</td>\n",
              "      <td>03-02-06-02-02-01-21.wav</td>\n",
              "    </tr>\n",
              "    <tr>\n",
              "      <th>2451</th>\n",
              "      <td>male</td>\n",
              "      <td>sad</td>\n",
              "      <td>male_sad</td>\n",
              "      <td>RAVDESS</td>\n",
              "      <td>03-02-04-01-02-02-21.wav</td>\n",
              "    </tr>\n",
              "  </tbody>\n",
              "</table>\n",
              "<p>2452 rows × 5 columns</p>\n",
              "</div>"
            ],
            "text/plain": [
              "     gender   emotion         labels   source                      path\n",
              "0      male     happy     male_happy  RAVDESS  03-01-03-02-01-02-05.wav\n",
              "1      male     angry     male_angry  RAVDESS  03-01-05-02-02-02-05.wav\n",
              "2      male      fear      male_fear  RAVDESS  03-01-06-02-02-02-05.wav\n",
              "3      male       sad       male_sad  RAVDESS  03-01-04-02-02-01-05.wav\n",
              "4      male  surprise  male_surprise  RAVDESS  03-01-08-02-01-01-05.wav\n",
              "...     ...       ...            ...      ...                       ...\n",
              "2447   male     angry     male_angry  RAVDESS  03-02-05-02-01-01-21.wav\n",
              "2448   male      fear      male_fear  RAVDESS  03-02-06-01-02-02-21.wav\n",
              "2449   male     happy     male_happy  RAVDESS  03-02-03-01-01-02-21.wav\n",
              "2450   male      fear      male_fear  RAVDESS  03-02-06-02-02-01-21.wav\n",
              "2451   male       sad       male_sad  RAVDESS  03-02-04-01-02-02-21.wav\n",
              "\n",
              "[2452 rows x 5 columns]"
            ]
          },
          "metadata": {
            "tags": []
          },
          "execution_count": 37
        }
      ]
    },
    {
      "cell_type": "code",
      "metadata": {
        "id": "ljENQRl5VBbu",
        "colab_type": "code",
        "colab": {}
      },
      "source": [
        "from sklearn.model_selection import train_test_split\n",
        "\n",
        "X_train, X_test, y_train, y_test\\\n",
        "    = train_test_split(RAV_df[\"path\"], RAV_df[\"emotion\"], test_size=0.2, random_state=42)\n",
        "\n",
        "X_train, X_val, y_train, y_val\\\n",
        "    = train_test_split(X_train, y_train, test_size=0.25, random_state=42)\n"
      ],
      "execution_count": 0,
      "outputs": []
    },
    {
      "cell_type": "code",
      "metadata": {
        "id": "Mog14-0BZF47",
        "colab_type": "code",
        "colab": {}
      },
      "source": [
        ""
      ],
      "execution_count": 0,
      "outputs": []
    },
    {
      "cell_type": "code",
      "metadata": {
        "id": "iWbKRhhGWe0u",
        "colab_type": "code",
        "colab": {}
      },
      "source": [
        "import csv\n",
        "\n",
        "with open('train.csv', mode='w') as employee_file:\n",
        "    employee_writer = csv.writer(employee_file, delimiter=',', quotechar='\"', quoting=csv.QUOTE_MINIMAL)\n",
        "    for i in zip(X_train,y_train):\n",
        "        employee_writer.writerow(i)\n",
        "\n",
        "with open('test.csv', mode='w') as employee_file:\n",
        "    employee_writer = csv.writer(employee_file, delimiter=',', quotechar='\"', quoting=csv.QUOTE_MINIMAL)\n",
        "    for i in zip(X_test,y_test):\n",
        "        employee_writer.writerow(i)\n",
        "\n",
        "with open('valid.csv', mode='w') as employee_file:\n",
        "    employee_writer = csv.writer(employee_file, delimiter=',', quotechar='\"', quoting=csv.QUOTE_MINIMAL)\n",
        "    for i in zip(X_val,y_val):\n",
        "        employee_writer.writerow(i)\n"
      ],
      "execution_count": 0,
      "outputs": []
    },
    {
      "cell_type": "code",
      "metadata": {
        "id": "8ttbm0L2BFAA",
        "colab_type": "code",
        "colab": {
          "base_uri": "https://localhost:8080/",
          "height": 122
        },
        "outputId": "fadcd8ac-9f5a-4ecc-8b53-6fecd3ffc6d0"
      },
      "source": [
        ""
      ],
      "execution_count": 42,
      "outputs": [
        {
          "output_type": "stream",
          "text": [
            "\tzip warning: missing end signature--probably not a zip file (did you\n",
            "\tzip warning: remember to use binary mode when you transferred it?)\n",
            "\tzip warning: (if you are trying to read a damaged archive try -F)\n",
            "\n",
            "zip error: Zip file structure invalid (test.csv)\n"
          ],
          "name": "stdout"
        }
      ]
    },
    {
      "cell_type": "code",
      "metadata": {
        "id": "wgPqcKeV_4Mn",
        "colab_type": "code",
        "colab": {
          "base_uri": "https://localhost:8080/",
          "height": 34
        },
        "outputId": "1cab17fd-27eb-4493-823c-c4529f4e659f"
      },
      "source": [
        "len(y_test),len(y_train),len(y_val)"
      ],
      "execution_count": 40,
      "outputs": [
        {
          "output_type": "execute_result",
          "data": {
            "text/plain": [
              "(491, 1470, 491)"
            ]
          },
          "metadata": {
            "tags": []
          },
          "execution_count": 40
        }
      ]
    },
    {
      "cell_type": "code",
      "metadata": {
        "id": "Pm0Gtt9QXW_l",
        "colab_type": "code",
        "outputId": "f5f90ee0-f157-4ded-f17b-2d437fefbc91",
        "colab": {
          "base_uri": "https://localhost:8080/",
          "height": 153
        }
      },
      "source": [
        "from collections import Counter\n",
        "Counter(y_test)\n"
      ],
      "execution_count": 41,
      "outputs": [
        {
          "output_type": "execute_result",
          "data": {
            "text/plain": [
              "Counter({'angry': 74,\n",
              "         'calm': 78,\n",
              "         'disgust': 32,\n",
              "         'fear': 78,\n",
              "         'happy': 64,\n",
              "         'neutral': 36,\n",
              "         'sad': 77,\n",
              "         'surprise': 52})"
            ]
          },
          "metadata": {
            "tags": []
          },
          "execution_count": 41
        }
      ]
    },
    {
      "cell_type": "code",
      "metadata": {
        "id": "Myq3qgoTXlAm",
        "colab_type": "code",
        "outputId": "322631d3-fb3a-44df-a87e-bf2765e88ffe",
        "colab": {
          "base_uri": "https://localhost:8080/",
          "height": 153
        }
      },
      "source": [
        "Counter(y_val)\n"
      ],
      "execution_count": 31,
      "outputs": [
        {
          "output_type": "execute_result",
          "data": {
            "text/plain": [
              "Counter({'angry': 74,\n",
              "         'calm': 76,\n",
              "         'disgust': 43,\n",
              "         'fear': 75,\n",
              "         'happy': 88,\n",
              "         'neutral': 42,\n",
              "         'sad': 67,\n",
              "         'surprise': 26})"
            ]
          },
          "metadata": {
            "tags": []
          },
          "execution_count": 31
        }
      ]
    },
    {
      "cell_type": "code",
      "metadata": {
        "id": "okTDmFebXo2Z",
        "colab_type": "code",
        "outputId": "9dcb9443-1a5a-4802-ef96-fac255785193",
        "colab": {
          "base_uri": "https://localhost:8080/",
          "height": 153
        }
      },
      "source": [
        "Counter(y_train)\n"
      ],
      "execution_count": 32,
      "outputs": [
        {
          "output_type": "execute_result",
          "data": {
            "text/plain": [
              "Counter({'angry': 228,\n",
              "         'calm': 222,\n",
              "         'disgust': 117,\n",
              "         'fear': 223,\n",
              "         'happy': 224,\n",
              "         'neutral': 110,\n",
              "         'sad': 232,\n",
              "         'surprise': 114})"
            ]
          },
          "metadata": {
            "tags": []
          },
          "execution_count": 32
        }
      ]
    }
  ]
}
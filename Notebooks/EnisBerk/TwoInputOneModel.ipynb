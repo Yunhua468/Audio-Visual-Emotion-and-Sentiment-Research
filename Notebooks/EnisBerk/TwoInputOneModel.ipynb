{
  "nbformat": 4,
  "nbformat_minor": 0,
  "metadata": {
    "colab": {
      "name": "TwoInputOneModel.ipynb",
      "provenance": []
    },
    "kernelspec": {
      "name": "python3",
      "display_name": "Python 3"
    }
  },
  "cells": [
    {
      "cell_type": "code",
      "metadata": {
        "id": "a38QSEONVeAy",
        "colab_type": "code",
        "colab": {}
      },
      "source": [
        "!wget -q https://www.dropbox.com/s/wr1fjnnt254rcq7/Patrick%20Jean-Baptiste%20-%20Emotion_Images.zip?dl=1 -O Emotion_Images.zip\n",
        "\n",
        "!wget -q https://zenodo.org/api/files/c8f9b6fe-82ac-481c-ad9c-12b5581cb4b4/Audio_Song_Actors_01-24.zip\n",
        "!wget -q https://zenodo.org/api/files/c8f9b6fe-82ac-481c-ad9c-12b5581cb4b4/Audio_Speech_Actors_01-24.zip\n",
        "\n",
        "!unzip -q -d ./song Audio_Song_Actors_01-24.zip \n",
        "!unzip -q -d ./speech Audio_Speech_Actors_01-24.zip\n",
        "!unzip -q Emotion_Images.zip\n",
        "\n",
        "!wget -q https://www.dropbox.com/s/yigijs122togfk4/embeddings.dat?dl=1  -O embeddings.dat\n",
        "!wget -q https://www.dropbox.com/s/qdhtexle4p0ngc3/DatasetSplitCSV.zip?dl=1 -O DatasetSplitCSV.zip\n",
        "!unzip -q DatasetSplitCSV.zip\n"
      ],
      "execution_count": 0,
      "outputs": []
    },
    {
      "cell_type": "code",
      "metadata": {
        "id": "Fh8OxAnhVjuW",
        "colab_type": "code",
        "colab": {}
      },
      "source": [
        "!wget -q https://www.dropbox.com/s/yigijs122togfk4/embeddings.dat?dl=1  -O embeddings.dat\n",
        "!wget -q https://www.dropbox.com/s/qdhtexle4p0ngc3/DatasetSplitCSV.zip?dl=1 -O DatasetSplitCSV.zip\n",
        "!unzip -q DatasetSplitCSV.zip"
      ],
      "execution_count": 0,
      "outputs": []
    },
    {
      "cell_type": "code",
      "metadata": {
        "id": "NSRpuN18WMUJ",
        "colab_type": "code",
        "colab": {}
      },
      "source": [
        "import pandas as pd\n",
        "import numpy as np\n",
        "\n",
        "import tensorflow as tf\n",
        "from tensorflow import keras\n",
        "from tensorflow.keras import layers\n",
        "\n",
        "import glob"
      ],
      "execution_count": 0,
      "outputs": []
    },
    {
      "cell_type": "code",
      "metadata": {
        "id": "X5jQWITnV7Ad",
        "colab_type": "code",
        "colab": {}
      },
      "source": [
        "def mapReduce(embed,funcName):\n",
        "    if funcName==\"Avg\":\n",
        "        embed= [np.average(embed,axis=0)]\n",
        "    if funcName==\"Pad\":\n",
        "        embed=np.pad(embed, [( 0,6-embed.shape[0]), (0, 0)], mode='constant', constant_values=0)\n",
        "        embed= [embed.reshape(-1)]\n",
        "    if funcName==\"Many2One\":\n",
        "        embed=[embed[i,:] for i in range(embed.shape[0])]\n",
        "    if funcName==\"None\":\n",
        "        embed=[embed]\n",
        "    return embed\n",
        "\n",
        "def uint8_to_float32(x):\n",
        "    return (np.float32(x) - 128.) / 128."
      ],
      "execution_count": 0,
      "outputs": []
    },
    {
      "cell_type": "code",
      "metadata": {
        "id": "RrOVV8edWRBY",
        "colab_type": "code",
        "colab": {}
      },
      "source": [
        "#Parameters\n",
        "params={}\n",
        "params[\"embeddingType\"]=\"post\" # post,raw\n",
        "params[\"mapReduceFunc\"]=\"Many2One\" # Avg,Pad,Many2One"
      ],
      "execution_count": 0,
      "outputs": []
    },
    {
      "cell_type": "code",
      "metadata": {
        "id": "XVHG478AWIZQ",
        "colab_type": "code",
        "colab": {}
      },
      "source": [
        "train=pd.read_csv(\"train.csv\",header=None)\n",
        "valid=pd.read_csv(\"valid.csv\",header=None)\n",
        "test=pd.read_csv(\"test.csv\",header=None)\n",
        "\n",
        "embeddings=np.load(\"embeddings.dat\",allow_pickle=True)\n",
        "# embeddings[\"post\"]['03-02-04-01-02-02-02.wav'].dtype\n",
        "seconds={}\n",
        "\n",
        "for key,embed in embeddings[\"post\"].items():\n",
        "    embeddings[\"post\"][key]=uint8_to_float32(embed)\n",
        "    seconds[key]=embed.shape[0]\n"
      ],
      "execution_count": 0,
      "outputs": []
    },
    {
      "cell_type": "code",
      "metadata": {
        "id": "MqewJ6bVWKJx",
        "colab_type": "code",
        "colab": {}
      },
      "source": [
        "x_train=[]\n",
        "x_val=[]\n",
        "x_test=[]\n",
        "for x in train[0]:\n",
        "    embed=embeddings[params[\"embeddingType\"]][x]\n",
        "    x_train.extend(mapReduce(embed,params[\"mapReduceFunc\"]))\n",
        "\n",
        "for x in valid[0]:\n",
        "    embed=embeddings[params[\"embeddingType\"]][x]\n",
        "    x_val.extend(mapReduce(embed,params[\"mapReduceFunc\"]))\n",
        "\n",
        "for x in test[0]:\n",
        "    embed=embeddings[params[\"embeddingType\"]][x]\n",
        "    x_test.extend(mapReduce(embed,params[\"mapReduceFunc\"]))\n",
        "\n",
        "x_train=np.array(x_train)\n",
        "x_val=np.array(x_val)\n",
        "x_test=np.array(x_test)\n",
        "\n",
        "y_train=np.array(train[1].astype('category').cat.codes)\n",
        "y_val=np.array(valid[1].astype('category').cat.codes)\n",
        "y_test=np.array(test[1].astype('category').cat.codes)\n",
        "\n",
        "if params[\"mapReduceFunc\"]==\"Many2One\":\n",
        "    # print(\"a\")\n",
        "    y_train2,y_val2,y_test2=[],[],[]\n",
        "    for x,y,y2 in zip([train[0],valid[0],test[0]],[y_train,y_val,y_test],[y_train2,y_val2,y_test2]):\n",
        "        for i,embedName in enumerate(x):\n",
        "            # print(seconds[embedName])\n",
        "            y2.extend([y[i] for k in range(seconds[embedName])])\n",
        "        # print(y2)\n",
        "    y_train,y_val,y_test=[np.array(y) for y in [y_train2,y_val2,y_test2]]\n"
      ],
      "execution_count": 0,
      "outputs": []
    },
    {
      "cell_type": "code",
      "metadata": {
        "id": "uNXUaDA1Wbbs",
        "colab_type": "code",
        "colab": {}
      },
      "source": [
        "imageList=glob.glob(\"Emotion_Images/*\")\n",
        "imageDict={}\n",
        "for img in imageList:\n",
        "    fname=(img).split(\"/\")[-1].split(\".\")[0]+\".wav\"\n",
        "    imageDict[fname]=img\n",
        "    "
      ],
      "execution_count": 0,
      "outputs": []
    },
    {
      "cell_type": "code",
      "metadata": {
        "id": "AOQBq9tBZNw2",
        "colab_type": "code",
        "colab": {}
      },
      "source": [
        "x_trainImg=[]\n",
        "x_valImg=[]\n",
        "x_testImg=[]\n",
        "for x in train[0]:\n",
        "    embed=embeddings[params[\"embeddingType\"]][x]\n",
        "    x_trainImg.extend(mapReduce(embed,params[\"mapReduceFunc\"]))\n",
        "\n",
        "for x in valid[0]:\n",
        "    embed=embeddings[params[\"embeddingType\"]][x]\n",
        "    x_valImg.extend(mapReduce(embed,params[\"mapReduceFunc\"]))\n",
        "\n",
        "for x in test[0]:\n",
        "    embed=embeddings[params[\"embeddingType\"]][x]\n",
        "    x_testImg.extend(mapReduce(embed,params[\"mapReduceFunc\"]))\n",
        "\n",
        "x_trainImg=np.array(x_trainImg)\n",
        "x_valImg=np.array(x_valImg)\n",
        "x_testImg=np.array(x_testImg)"
      ],
      "execution_count": 0,
      "outputs": []
    },
    {
      "cell_type": "code",
      "metadata": {
        "id": "cdCPyAhNamiB",
        "colab_type": "code",
        "colab": {}
      },
      "source": [
        ""
      ],
      "execution_count": 0,
      "outputs": []
    }
  ]
}
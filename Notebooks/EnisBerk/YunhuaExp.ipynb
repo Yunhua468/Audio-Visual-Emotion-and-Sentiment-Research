{
  "nbformat": 4,
  "nbformat_minor": 0,
  "metadata": {
    "colab": {
      "name": "YunhuaExp.ipynb",
      "provenance": [],
      "collapsed_sections": []
    },
    "kernelspec": {
      "name": "python3",
      "display_name": "Python 3"
    },
    "accelerator": "GPU"
  },
  "cells": [
    {
      "cell_type": "code",
      "metadata": {
        "id": "0JdAGTJPaVMS",
        "colab_type": "code",
        "colab": {}
      },
      "source": [
        "!wget -q https://www.dropbox.com/s/wr1fjnnt254rcq7/Patrick%20Jean-Baptiste%20-%20Emotion_Images.zip?dl=1 -O Emotion_Images.zip\n",
        "\n",
        "!wget -q https://zenodo.org/api/files/c8f9b6fe-82ac-481c-ad9c-12b5581cb4b4/Audio_Song_Actors_01-24.zip\n",
        "!wget -q https://zenodo.org/api/files/c8f9b6fe-82ac-481c-ad9c-12b5581cb4b4/Audio_Speech_Actors_01-24.zip\n",
        "\n",
        "!wget -q https://www.dropbox.com/s/qdhtexle4p0ngc3/DatasetSplitCSV.zip?dl=1 -O DatasetSplitCSV.zip\n",
        "\n",
        "\n",
        "!unzip -q -d ./song Audio_Song_Actors_01-24.zip \n",
        "!unzip -q -d ./speech Audio_Speech_Actors_01-24.zip\n",
        "!unzip -q Emotion_Images.zip\n",
        "!unzip -q DatasetSplitCSV.zip"
      ],
      "execution_count": 0,
      "outputs": []
    },
    {
      "cell_type": "code",
      "metadata": {
        "id": "8EKwjRRBPcxW",
        "colab_type": "code",
        "outputId": "ab0472f0-9b92-4db5-a5c5-166c72318006",
        "colab": {
          "base_uri": "https://localhost:8080/",
          "height": 139
        }
      },
      "source": [
        "!pip install speechpy"
      ],
      "execution_count": 2,
      "outputs": [
        {
          "output_type": "stream",
          "text": [
            "Collecting speechpy\n",
            "  Downloading https://files.pythonhosted.org/packages/8f/12/dbda397a998063d9541d9e149c4f523ed138a48824d20598e37632ba33b1/speechpy-2.4-py2.py3-none-any.whl\n",
            "Requirement already satisfied: scipy in /usr/local/lib/python3.6/dist-packages (from speechpy) (1.4.1)\n",
            "Requirement already satisfied: numpy in /usr/local/lib/python3.6/dist-packages (from speechpy) (1.18.4)\n",
            "Installing collected packages: speechpy\n",
            "Successfully installed speechpy-2.4\n"
          ],
          "name": "stdout"
        }
      ]
    },
    {
      "cell_type": "code",
      "metadata": {
        "id": "XvMQsTWpPJqO",
        "colab_type": "code",
        "outputId": "3e188944-435e-42ec-f639-3852e770808f",
        "colab": {
          "base_uri": "https://localhost:8080/",
          "height": 34
        }
      },
      "source": [
        "\n",
        "import os\n",
        "import pandas as pd\n",
        "import numpy as np\n",
        "from tqdm import tqdm\n",
        "import scipy.io.wavfile as wav\n",
        "from speechpy.feature import mfcc\n",
        "import librosa\n",
        "import matplotlib.pyplot as plt\n",
        "from sklearn.model_selection import train_test_split\n",
        "from sklearn.metrics import accuracy_score\n",
        "from sklearn.metrics import confusion_matrix\n",
        "from sklearn.metrics import classification_report\n",
        "\n",
        "import tensorflow as tf\n",
        "from tensorflow.keras import layers\n",
        "from tensorflow.keras import models\n",
        "from tensorflow.keras import backend as K\n",
        "from tensorflow.keras.callbacks import ReduceLROnPlateau\n",
        "from tensorflow import keras\n",
        "from keras.utils import np_utils\n",
        "from sklearn.utils.multiclass import unique_labels"
      ],
      "execution_count": 3,
      "outputs": [
        {
          "output_type": "stream",
          "text": [
            "Using TensorFlow backend.\n"
          ],
          "name": "stderr"
        }
      ]
    },
    {
      "cell_type": "code",
      "metadata": {
        "id": "7dS82bnDO-Du",
        "colab_type": "code",
        "colab": {}
      },
      "source": [
        "# FILEPATH_SPEECH= 'C:\\\\Users\\\\ZhaoY\\\\Downloads\\\\DL_Project\\\\dataset\\\\Audio_Song_Actors_01-24\\\\'\n",
        "# dir_list_speech = os.listdir(FILEPATH_SPEECH)"
      ],
      "execution_count": 0,
      "outputs": []
    },
    {
      "cell_type": "code",
      "metadata": {
        "id": "gNrPdz3CNbTR",
        "colab_type": "code",
        "colab": {}
      },
      "source": [
        "params={}\n",
        "params[\"embeddingType\"]=\"mfcc\" # \n",
        "params[\"mapReduceFunc\"]=\"None\" # Avg"
      ],
      "execution_count": 0,
      "outputs": []
    },
    {
      "cell_type": "code",
      "metadata": {
        "id": "iGBcD64HP5N8",
        "colab_type": "code",
        "colab": {}
      },
      "source": [
        "def get_feature_vector_from_mfcc(signal, mean_signal_length: int, flatten: bool) -> np.ndarray:\n",
        "    \"\"\"\n",
        "    Make feature vector from MFCC for the given wav file.\n",
        "\n",
        "    Args:\n",
        "        file_path (str): path to the .wav file that needs to be read.\n",
        "        flatten (bool) : Boolean indicating whether to flatten mfcc obtained.\n",
        "        mfcc_len (int): Number of cepestral co efficients to be consider.\n",
        "\n",
        "    Returns:\n",
        "        numpy.ndarray: feature vector of the wav file made from mfcc.\n",
        "    \"\"\"\n",
        "    #fs, signal = wav.read(file_path)\n",
        "    #signal, fs = librosa.load(file_path, sr=16000, mono=True)\n",
        "    s_len = len(signal)\n",
        "\n",
        "    # pad the signals to have same size if lesser than required\n",
        "    # else slice them    \n",
        "    \n",
        "    if s_len < mean_signal_length:\n",
        "        pad_len = mean_signal_length - s_len\n",
        "        pad_rem = int(pad_len % 2)\n",
        "        pad_len = int(pad_len// 2)\n",
        "        signal = np.pad(signal, (pad_len, pad_len + pad_rem),  'constant', constant_values=0)\n",
        "    else:\n",
        "        pad_len = s_len - mean_signal_length\n",
        "        pad_len //= 2\n",
        "        signal = signal[pad_len:pad_len + mean_signal_length]\n",
        "        \n",
        "    # sample/frame = mean_signal_length*frame_length\n",
        "    mel_coefficients = mfcc(signal, fs, frame_length=0.048, frame_stride=0.024, num_filters=30, num_cepstral=30, low_frequency=60, high_frequency=7600)\n",
        "    if flatten:\n",
        "        # Flatten the data\n",
        "        mel_coefficients = np.ravel(mel_coefficients)\n",
        "    return mel_coefficients\n",
        "\n",
        "\n",
        "def mapReduce(embed,funcName):\n",
        "    if funcName==\"Avg\":\n",
        "        embed= [np.average(embed,axis=0)]\n",
        "    if funcName==\"Pad\":\n",
        "        embed=np.pad(embed, [( 0,6-embed.shape[0]), (0, 0)], mode='constant', constant_values=0)\n",
        "        embed= [embed.reshape(-1)]\n",
        "    if funcName==\"Many2One\":\n",
        "        embed=[embed[i,:] for i in range(embed.shape[0])]\n",
        "    if funcName==\"None\":\n",
        "        embed=[embed]\n",
        "    return embed\n",
        "\n",
        "def uint8_to_float32(x):\n",
        "    return (np.float32(x) - 128.) / 128."
      ],
      "execution_count": 0,
      "outputs": []
    },
    {
      "cell_type": "code",
      "metadata": {
        "id": "W3ZA8MC3aaQA",
        "colab_type": "code",
        "colab": {}
      },
      "source": [
        "import glob\n",
        "\n",
        "file_list=glob.glob(\"./speech/**/*.wav\")+glob.glob(\"./song/**/*.wav\")\n",
        "\n",
        "\n",
        "mean_signal_length = 0\n",
        "signals = []\n",
        "for wavFile in file_list:\n",
        "    signal, fs = librosa.load(wavFile, sr=16000, mono=True)\n",
        "    mean_signal_length += len(signal)\n",
        "    signals.append((wavFile,signal))\n",
        "\n",
        "mean_signal_length = mean_signal_length//(len(file_list))\n"
      ],
      "execution_count": 0,
      "outputs": []
    },
    {
      "cell_type": "code",
      "metadata": {
        "id": "BjYSjS3FZZNF",
        "colab_type": "code",
        "colab": {}
      },
      "source": [
        ""
      ],
      "execution_count": 0,
      "outputs": []
    },
    {
      "cell_type": "code",
      "metadata": {
        "id": "DktvzrD1QDl-",
        "colab_type": "code",
        "colab": {}
      },
      "source": [
        "features = []\n",
        "embeddings={\"mfcc\":{}}\n",
        "for wavFile,signal in signals:\n",
        "    f=get_feature_vector_from_mfcc(signal, mean_signal_length, flatten=False)\n",
        "    features.append((wavFile.split(\"/\")[-1],f))\n",
        "    embeddings[\"mfcc\"][wavFile.split(\"/\")[-1]]=f\n",
        "\n",
        "    \n"
      ],
      "execution_count": 0,
      "outputs": []
    },
    {
      "cell_type": "code",
      "metadata": {
        "id": "NZKTjhk7ZpOl",
        "colab_type": "code",
        "colab": {}
      },
      "source": [
        ""
      ],
      "execution_count": 0,
      "outputs": []
    },
    {
      "cell_type": "code",
      "metadata": {
        "id": "K6blouDQcDXt",
        "colab_type": "code",
        "colab": {}
      },
      "source": [
        ""
      ],
      "execution_count": 0,
      "outputs": []
    },
    {
      "cell_type": "code",
      "metadata": {
        "id": "Jnfaw9HVafYO",
        "colab_type": "code",
        "colab": {}
      },
      "source": [
        "\n",
        "train=pd.read_csv(\"train.csv\",header=None)\n",
        "valid=pd.read_csv(\"valid.csv\",header=None)\n",
        "test=pd.read_csv(\"test.csv\",header=None)\n",
        "\n"
      ],
      "execution_count": 0,
      "outputs": []
    },
    {
      "cell_type": "code",
      "metadata": {
        "id": "5L9xUITGbml6",
        "colab_type": "code",
        "colab": {}
      },
      "source": [
        "# embeddings"
      ],
      "execution_count": 0,
      "outputs": []
    },
    {
      "cell_type": "code",
      "metadata": {
        "id": "yTnsMtIVTatd",
        "colab_type": "code",
        "colab": {}
      },
      "source": [
        "# x_train, x_test, y_train, y_test = train_test_split(features, labels, test_size=0.2, random_state=42)\n",
        "\n",
        "x_train=[]\n",
        "x_val=[]\n",
        "x_test=[]\n",
        "for x in train[0]:\n",
        "    embed=embeddings[params[\"embeddingType\"]][x]\n",
        "    x_train.extend(mapReduce(embed,params[\"mapReduceFunc\"]))\n",
        "\n",
        "for x in valid[0]:\n",
        "    embed=embeddings[params[\"embeddingType\"]][x]\n",
        "    x_val.extend(mapReduce(embed,params[\"mapReduceFunc\"]))\n",
        "\n",
        "for x in test[0]:\n",
        "    embed=embeddings[params[\"embeddingType\"]][x]\n",
        "    x_test.extend(mapReduce(embed,params[\"mapReduceFunc\"]))\n",
        "\n",
        "x_train=np.array(x_train)\n",
        "x_val=np.array(x_val)\n",
        "x_test=np.array(x_test)\n",
        "\n",
        "y_train=np.array(train[1].astype('category').cat.codes)\n",
        "y_val=np.array(valid[1].astype('category').cat.codes)\n",
        "y_test=np.array(test[1].astype('category').cat.codes)\n",
        "\n",
        "y_train = np_utils.to_categorical(y_train)\n",
        "y_val = np_utils.to_categorical(y_val)\n",
        "y_test = np_utils.to_categorical(y_test)\n"
      ],
      "execution_count": 0,
      "outputs": []
    },
    {
      "cell_type": "code",
      "metadata": {
        "id": "KFtoqUAWcyOz",
        "colab_type": "code",
        "colab": {}
      },
      "source": [
        ""
      ],
      "execution_count": 0,
      "outputs": []
    },
    {
      "cell_type": "code",
      "metadata": {
        "id": "TiLIo2MNbcah",
        "colab_type": "code",
        "colab": {}
      },
      "source": [
        "\n",
        "def build_model(input_shape, num_classes):\n",
        "    model = models.Sequential()\n",
        "    model.add(layers.LSTM(128, input_shape=(input_shape[0], input_shape[1])))\n",
        "    model.add(layers.BatchNormalization())\n",
        "    model.add(layers.Dropout(0.5))\n",
        "    model.add(layers.Dense(32, activation='relu'))\n",
        "    model.add(layers.Dense(16, activation='tanh'))\n",
        "    model.add(layers.Dense(num_classes, activation='softmax'))\n",
        "    model.compile(loss='categorical_crossentropy',\n",
        "                  optimizer='adam',\n",
        "                  metrics=['accuracy'])\n",
        "    return model"
      ],
      "execution_count": 0,
      "outputs": []
    },
    {
      "cell_type": "code",
      "metadata": {
        "id": "Wokp_ayEcOz8",
        "colab_type": "code",
        "colab": {}
      },
      "source": [
        "model = build_model(input_shape=(x_train[0].shape[0], x_train[0].shape[1]), num_classes=8)"
      ],
      "execution_count": 0,
      "outputs": []
    },
    {
      "cell_type": "code",
      "metadata": {
        "id": "36jYX5GWckCW",
        "colab_type": "code",
        "colab": {}
      },
      "source": [
        "lr_reducer = ReduceLROnPlateau(monitor='val_loss', \n",
        "                               factor=0.2,\n",
        "                               patience=5,\n",
        "                               min_lr=1e-6,\n",
        "                               verbose=1)"
      ],
      "execution_count": 0,
      "outputs": []
    },
    {
      "cell_type": "code",
      "metadata": {
        "id": "vvuWTphZ6mB3",
        "colab_type": "code",
        "colab": {}
      },
      "source": [
        "my_callbacks=[lr_reducer,\n",
        "              tf.keras.callbacks.EarlyStopping(patience=5),\n",
        "              tf.keras.callbacks.TensorBoard(log_dir='./logs')]"
      ],
      "execution_count": 0,
      "outputs": []
    },
    {
      "cell_type": "code",
      "metadata": {
        "id": "xbdHRTTncll1",
        "colab_type": "code",
        "outputId": "57b68597-e4d6-422a-ce62-1f96f47c154b",
        "colab": {
          "base_uri": "https://localhost:8080/",
          "height": 1000
        }
      },
      "source": [
        "hist = model.fit(x_train, y_train, batch_size=32, epochs=34, validation_data=(x_test, y_test), callbacks=my_callbacks)\n"
      ],
      "execution_count": 15,
      "outputs": [
        {
          "output_type": "stream",
          "text": [
            "Epoch 1/34\n",
            "46/46 [==============================] - 1s 27ms/step - loss: 2.1606 - accuracy: 0.1605 - val_loss: 2.0592 - val_accuracy: 0.1772 - lr: 0.0010\n",
            "Epoch 2/34\n",
            "46/46 [==============================] - 1s 15ms/step - loss: 2.0166 - accuracy: 0.1959 - val_loss: 1.9799 - val_accuracy: 0.2057 - lr: 0.0010\n",
            "Epoch 3/34\n",
            "46/46 [==============================] - 1s 15ms/step - loss: 1.8969 - accuracy: 0.2517 - val_loss: 1.8902 - val_accuracy: 0.2485 - lr: 0.0010\n",
            "Epoch 4/34\n",
            "46/46 [==============================] - 1s 15ms/step - loss: 1.8308 - accuracy: 0.2878 - val_loss: 1.8444 - val_accuracy: 0.2770 - lr: 0.0010\n",
            "Epoch 5/34\n",
            "46/46 [==============================] - 1s 15ms/step - loss: 1.7485 - accuracy: 0.3184 - val_loss: 1.7592 - val_accuracy: 0.2912 - lr: 0.0010\n",
            "Epoch 6/34\n",
            "46/46 [==============================] - 1s 15ms/step - loss: 1.6652 - accuracy: 0.3571 - val_loss: 1.7107 - val_accuracy: 0.3014 - lr: 0.0010\n",
            "Epoch 7/34\n",
            "46/46 [==============================] - 1s 15ms/step - loss: 1.6263 - accuracy: 0.3571 - val_loss: 1.7765 - val_accuracy: 0.3035 - lr: 0.0010\n",
            "Epoch 8/34\n",
            "46/46 [==============================] - 1s 15ms/step - loss: 1.5679 - accuracy: 0.3946 - val_loss: 1.6418 - val_accuracy: 0.3646 - lr: 0.0010\n",
            "Epoch 9/34\n",
            "46/46 [==============================] - 1s 15ms/step - loss: 1.5435 - accuracy: 0.3993 - val_loss: 1.6002 - val_accuracy: 0.3849 - lr: 0.0010\n",
            "Epoch 10/34\n",
            "46/46 [==============================] - 1s 15ms/step - loss: 1.4215 - accuracy: 0.4558 - val_loss: 1.7078 - val_accuracy: 0.3422 - lr: 0.0010\n",
            "Epoch 11/34\n",
            "46/46 [==============================] - 1s 15ms/step - loss: 1.3694 - accuracy: 0.4782 - val_loss: 1.5584 - val_accuracy: 0.3809 - lr: 0.0010\n",
            "Epoch 12/34\n",
            "46/46 [==============================] - 1s 15ms/step - loss: 1.3119 - accuracy: 0.5088 - val_loss: 1.4582 - val_accuracy: 0.4501 - lr: 0.0010\n",
            "Epoch 13/34\n",
            "46/46 [==============================] - 1s 15ms/step - loss: 1.2438 - accuracy: 0.5184 - val_loss: 1.4711 - val_accuracy: 0.4297 - lr: 0.0010\n",
            "Epoch 14/34\n",
            "46/46 [==============================] - 1s 15ms/step - loss: 1.2387 - accuracy: 0.5306 - val_loss: 1.4983 - val_accuracy: 0.4399 - lr: 0.0010\n",
            "Epoch 15/34\n",
            "46/46 [==============================] - 1s 15ms/step - loss: 1.1855 - accuracy: 0.5537 - val_loss: 1.3542 - val_accuracy: 0.4908 - lr: 0.0010\n",
            "Epoch 16/34\n",
            "46/46 [==============================] - 1s 15ms/step - loss: 1.0652 - accuracy: 0.5898 - val_loss: 1.3435 - val_accuracy: 0.5031 - lr: 0.0010\n",
            "Epoch 17/34\n",
            "46/46 [==============================] - 1s 15ms/step - loss: 1.0601 - accuracy: 0.6272 - val_loss: 1.5086 - val_accuracy: 0.4318 - lr: 0.0010\n",
            "Epoch 18/34\n",
            "46/46 [==============================] - 1s 15ms/step - loss: 1.0348 - accuracy: 0.6075 - val_loss: 1.3298 - val_accuracy: 0.5153 - lr: 0.0010\n",
            "Epoch 19/34\n",
            "46/46 [==============================] - 1s 15ms/step - loss: 0.9385 - accuracy: 0.6388 - val_loss: 1.2757 - val_accuracy: 0.5214 - lr: 0.0010\n",
            "Epoch 20/34\n",
            "46/46 [==============================] - 1s 15ms/step - loss: 0.8941 - accuracy: 0.6823 - val_loss: 1.2686 - val_accuracy: 0.5743 - lr: 0.0010\n",
            "Epoch 21/34\n",
            "46/46 [==============================] - 1s 15ms/step - loss: 0.8869 - accuracy: 0.6789 - val_loss: 1.3862 - val_accuracy: 0.5031 - lr: 0.0010\n",
            "Epoch 22/34\n",
            "46/46 [==============================] - 1s 15ms/step - loss: 0.8538 - accuracy: 0.6932 - val_loss: 1.3041 - val_accuracy: 0.5255 - lr: 0.0010\n",
            "Epoch 23/34\n",
            "46/46 [==============================] - 1s 15ms/step - loss: 0.7805 - accuracy: 0.7272 - val_loss: 1.2371 - val_accuracy: 0.5621 - lr: 0.0010\n",
            "Epoch 24/34\n",
            "46/46 [==============================] - 1s 16ms/step - loss: 0.6991 - accuracy: 0.7537 - val_loss: 1.2082 - val_accuracy: 0.5967 - lr: 0.0010\n",
            "Epoch 25/34\n",
            "46/46 [==============================] - 1s 15ms/step - loss: 0.6783 - accuracy: 0.7571 - val_loss: 1.2108 - val_accuracy: 0.5845 - lr: 0.0010\n",
            "Epoch 26/34\n",
            "46/46 [==============================] - 1s 15ms/step - loss: 0.6591 - accuracy: 0.7796 - val_loss: 1.1426 - val_accuracy: 0.6253 - lr: 0.0010\n",
            "Epoch 27/34\n",
            "46/46 [==============================] - 1s 15ms/step - loss: 0.6302 - accuracy: 0.7864 - val_loss: 1.2338 - val_accuracy: 0.6110 - lr: 0.0010\n",
            "Epoch 28/34\n",
            "46/46 [==============================] - 1s 14ms/step - loss: 0.5834 - accuracy: 0.7966 - val_loss: 1.2333 - val_accuracy: 0.5927 - lr: 0.0010\n",
            "Epoch 29/34\n",
            "46/46 [==============================] - 1s 15ms/step - loss: 0.5538 - accuracy: 0.8102 - val_loss: 1.2099 - val_accuracy: 0.6334 - lr: 0.0010\n",
            "Epoch 30/34\n",
            "46/46 [==============================] - 1s 15ms/step - loss: 0.5264 - accuracy: 0.8238 - val_loss: 1.2311 - val_accuracy: 0.5947 - lr: 0.0010\n",
            "Epoch 31/34\n",
            "44/46 [===========================>..] - ETA: 0s - loss: 0.5060 - accuracy: 0.8310\n",
            "Epoch 00031: ReduceLROnPlateau reducing learning rate to 0.00020000000949949026.\n",
            "46/46 [==============================] - 1s 15ms/step - loss: 0.5158 - accuracy: 0.8279 - val_loss: 1.1860 - val_accuracy: 0.6497 - lr: 0.0010\n"
          ],
          "name": "stdout"
        }
      ]
    },
    {
      "cell_type": "code",
      "metadata": {
        "id": "31oo4iGJctdQ",
        "colab_type": "code",
        "colab": {}
      },
      "source": [
        "\n",
        "# for val in x_val:\n",
        "    \n",
        "results={\"train\":{},\"test\":{},\"valid\":{}}\n",
        "for x in train[0]:\n",
        "    embed=embeddings[params[\"embeddingType\"]][x]\n",
        "    pred=model.predict(embed.reshape(1,168,30))\n",
        "    # x_val.extend(mapReduce(embed,params[\"mapReduceFunc\"]))\n",
        "    results[\"train\"][x]=pred\n",
        "\n",
        "for x in valid[0]:\n",
        "    embed=embeddings[params[\"embeddingType\"]][x]\n",
        "    pred=model.predict(embed.reshape(1,168,30))\n",
        "    # x_val.extend(mapReduce(embed,params[\"mapReduceFunc\"]))\n",
        "    results[\"valid\"][x]=pred\n",
        "for x in test[0]:\n",
        "    embed=embeddings[params[\"embeddingType\"]][x]\n",
        "    pred=model.predict(embed.reshape(1,168,30))\n",
        "    # x_val.extend(mapReduce(embed,params[\"mapReduceFunc\"]))\n",
        "    results[\"test\"][x]=pred"
      ],
      "execution_count": 0,
      "outputs": []
    },
    {
      "cell_type": "code",
      "metadata": {
        "id": "FzibaeFdEPdc",
        "colab_type": "code",
        "colab": {}
      },
      "source": [
        "np.save('results.npy',results)"
      ],
      "execution_count": 0,
      "outputs": []
    },
    {
      "cell_type": "code",
      "metadata": {
        "id": "greeMkuOFL0y",
        "colab_type": "code",
        "colab": {}
      },
      "source": [
        ""
      ],
      "execution_count": 0,
      "outputs": []
    },
    {
      "cell_type": "code",
      "metadata": {
        "id": "gwPDKRWnFg1D",
        "colab_type": "code",
        "colab": {}
      },
      "source": [
        ""
      ],
      "execution_count": 0,
      "outputs": []
    },
    {
      "cell_type": "code",
      "metadata": {
        "id": "6PlMSaufHJaw",
        "colab_type": "code",
        "colab": {}
      },
      "source": [
        ""
      ],
      "execution_count": 0,
      "outputs": []
    }
  ]
}
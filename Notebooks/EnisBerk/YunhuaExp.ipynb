{
  "nbformat": 4,
  "nbformat_minor": 0,
  "metadata": {
    "colab": {
      "name": "YunhuaExp.ipynb",
      "provenance": [],
      "collapsed_sections": []
    },
    "kernelspec": {
      "name": "python3",
      "display_name": "Python 3"
    },
    "accelerator": "GPU"
  },
  "cells": [
    {
      "cell_type": "code",
      "metadata": {
        "id": "0JdAGTJPaVMS",
        "colab_type": "code",
        "colab": {}
      },
      "source": [
        "!wget -q https://www.dropbox.com/s/wr1fjnnt254rcq7/Patrick%20Jean-Baptiste%20-%20Emotion_Images.zip?dl=1 -O Emotion_Images.zip\n",
        "\n",
        "!wget -q https://zenodo.org/api/files/c8f9b6fe-82ac-481c-ad9c-12b5581cb4b4/Audio_Song_Actors_01-24.zip\n",
        "!wget -q https://zenodo.org/api/files/c8f9b6fe-82ac-481c-ad9c-12b5581cb4b4/Audio_Speech_Actors_01-24.zip\n",
        "\n",
        "!wget -q https://www.dropbox.com/s/qdhtexle4p0ngc3/DatasetSplitCSV.zip?dl=1 -O DatasetSplitCSV.zip\n",
        "\n",
        "\n",
        "!unzip -q -d ./song Audio_Song_Actors_01-24.zip \n",
        "!unzip -q -d ./speech Audio_Speech_Actors_01-24.zip\n",
        "!unzip -q Emotion_Images.zip\n",
        "!unzip -q DatasetSplitCSV.zip"
      ],
      "execution_count": 0,
      "outputs": []
    },
    {
      "cell_type": "code",
      "metadata": {
        "id": "8EKwjRRBPcxW",
        "colab_type": "code",
        "colab": {
          "base_uri": "https://localhost:8080/",
          "height": 139
        },
        "outputId": "a77ef7ba-7cb8-4ac5-fe17-bc633b7ed6ac"
      },
      "source": [
        "!pip install speechpy"
      ],
      "execution_count": 3,
      "outputs": [
        {
          "output_type": "stream",
          "text": [
            "Collecting speechpy\n",
            "  Downloading https://files.pythonhosted.org/packages/8f/12/dbda397a998063d9541d9e149c4f523ed138a48824d20598e37632ba33b1/speechpy-2.4-py2.py3-none-any.whl\n",
            "Requirement already satisfied: numpy in /usr/local/lib/python3.6/dist-packages (from speechpy) (1.18.4)\n",
            "Requirement already satisfied: scipy in /usr/local/lib/python3.6/dist-packages (from speechpy) (1.4.1)\n",
            "Installing collected packages: speechpy\n",
            "Successfully installed speechpy-2.4\n"
          ],
          "name": "stdout"
        }
      ]
    },
    {
      "cell_type": "code",
      "metadata": {
        "id": "XvMQsTWpPJqO",
        "colab_type": "code",
        "colab": {
          "base_uri": "https://localhost:8080/",
          "height": 34
        },
        "outputId": "5d4dd472-a382-49f1-9ae7-c567fc8f4c05"
      },
      "source": [
        "\n",
        "import os\n",
        "import pandas as pd\n",
        "import numpy as np\n",
        "from tqdm import tqdm\n",
        "import scipy.io.wavfile as wav\n",
        "from speechpy.feature import mfcc\n",
        "import librosa\n",
        "import matplotlib.pyplot as plt\n",
        "from sklearn.model_selection import train_test_split\n",
        "from sklearn.metrics import accuracy_score\n",
        "from sklearn.metrics import confusion_matrix\n",
        "from sklearn.metrics import classification_report\n",
        "\n",
        "import tensorflow as tf\n",
        "from tensorflow.keras import layers\n",
        "from tensorflow.keras import models\n",
        "from tensorflow.keras import backend as K\n",
        "from tensorflow.keras.callbacks import ReduceLROnPlateau\n",
        "from tensorflow import keras\n",
        "from keras.utils import np_utils\n",
        "from sklearn.utils.multiclass import unique_labels"
      ],
      "execution_count": 4,
      "outputs": [
        {
          "output_type": "stream",
          "text": [
            "Using TensorFlow backend.\n"
          ],
          "name": "stderr"
        }
      ]
    },
    {
      "cell_type": "code",
      "metadata": {
        "id": "7dS82bnDO-Du",
        "colab_type": "code",
        "colab": {}
      },
      "source": [
        "# FILEPATH_SPEECH= 'C:\\\\Users\\\\ZhaoY\\\\Downloads\\\\DL_Project\\\\dataset\\\\Audio_Song_Actors_01-24\\\\'\n",
        "# dir_list_speech = os.listdir(FILEPATH_SPEECH)"
      ],
      "execution_count": 0,
      "outputs": []
    },
    {
      "cell_type": "code",
      "metadata": {
        "id": "gNrPdz3CNbTR",
        "colab_type": "code",
        "colab": {}
      },
      "source": [
        "params={}\n",
        "params[\"embeddingType\"]=\"mfcc\" # \n",
        "params[\"mapReduceFunc\"]=\"None\" # Avg"
      ],
      "execution_count": 0,
      "outputs": []
    },
    {
      "cell_type": "code",
      "metadata": {
        "id": "iGBcD64HP5N8",
        "colab_type": "code",
        "colab": {}
      },
      "source": [
        "def get_feature_vector_from_mfcc(signal, mean_signal_length: int, flatten: bool) -> np.ndarray:\n",
        "    \"\"\"\n",
        "    Make feature vector from MFCC for the given wav file.\n",
        "\n",
        "    Args:\n",
        "        file_path (str): path to the .wav file that needs to be read.\n",
        "        flatten (bool) : Boolean indicating whether to flatten mfcc obtained.\n",
        "        mfcc_len (int): Number of cepestral co efficients to be consider.\n",
        "\n",
        "    Returns:\n",
        "        numpy.ndarray: feature vector of the wav file made from mfcc.\n",
        "    \"\"\"\n",
        "    #fs, signal = wav.read(file_path)\n",
        "    #signal, fs = librosa.load(file_path, sr=16000, mono=True)\n",
        "    s_len = len(signal)\n",
        "\n",
        "    # pad the signals to have same size if lesser than required\n",
        "    # else slice them    \n",
        "    \n",
        "    if s_len < mean_signal_length:\n",
        "        pad_len = mean_signal_length - s_len\n",
        "        pad_rem = int(pad_len % 2)\n",
        "        pad_len = int(pad_len// 2)\n",
        "        signal = np.pad(signal, (pad_len, pad_len + pad_rem),  'constant', constant_values=0)\n",
        "    else:\n",
        "        pad_len = s_len - mean_signal_length\n",
        "        pad_len //= 2\n",
        "        signal = signal[pad_len:pad_len + mean_signal_length]\n",
        "        \n",
        "    # sample/frame = mean_signal_length*frame_length\n",
        "    mel_coefficients = mfcc(signal, fs, frame_length=0.048, frame_stride=0.024, num_filters=30, num_cepstral=30, low_frequency=60, high_frequency=7600)\n",
        "    if flatten:\n",
        "        # Flatten the data\n",
        "        mel_coefficients = np.ravel(mel_coefficients)\n",
        "    return mel_coefficients\n",
        "\n",
        "\n",
        "def mapReduce(embed,funcName):\n",
        "    if funcName==\"Avg\":\n",
        "        embed= [np.average(embed,axis=0)]\n",
        "    if funcName==\"Pad\":\n",
        "        embed=np.pad(embed, [( 0,6-embed.shape[0]), (0, 0)], mode='constant', constant_values=0)\n",
        "        embed= [embed.reshape(-1)]\n",
        "    if funcName==\"Many2One\":\n",
        "        embed=[embed[i,:] for i in range(embed.shape[0])]\n",
        "    if funcName==\"None\":\n",
        "        embed=[embed]\n",
        "    return embed\n",
        "\n",
        "def uint8_to_float32(x):\n",
        "    return (np.float32(x) - 128.) / 128."
      ],
      "execution_count": 0,
      "outputs": []
    },
    {
      "cell_type": "code",
      "metadata": {
        "id": "W3ZA8MC3aaQA",
        "colab_type": "code",
        "colab": {}
      },
      "source": [
        "import glob\n",
        "\n",
        "file_list=glob.glob(\"./speech/**/*.wav\")+glob.glob(\"./song/**/*.wav\")\n",
        "\n",
        "\n",
        "mean_signal_length = 0\n",
        "signals = []\n",
        "for wavFile in file_list:\n",
        "    signal, fs = librosa.load(wavFile, sr=16000, mono=True)\n",
        "    mean_signal_length += len(signal)\n",
        "    signals.append((wavFile,signal))\n",
        "\n",
        "mean_signal_length = mean_signal_length//(len(file_list))\n"
      ],
      "execution_count": 0,
      "outputs": []
    },
    {
      "cell_type": "code",
      "metadata": {
        "id": "BjYSjS3FZZNF",
        "colab_type": "code",
        "colab": {}
      },
      "source": [
        ""
      ],
      "execution_count": 0,
      "outputs": []
    },
    {
      "cell_type": "code",
      "metadata": {
        "id": "DktvzrD1QDl-",
        "colab_type": "code",
        "colab": {}
      },
      "source": [
        "features = []\n",
        "embeddings={\"mfcc\":{}}\n",
        "for wavFile,signal in signals:\n",
        "    f=get_feature_vector_from_mfcc(signal, mean_signal_length, flatten=False)\n",
        "    features.append((wavFile.split(\"/\")[-1],f))\n",
        "    embeddings[\"mfcc\"][wavFile.split(\"/\")[-1]]=f\n",
        "\n",
        "    \n"
      ],
      "execution_count": 0,
      "outputs": []
    },
    {
      "cell_type": "code",
      "metadata": {
        "id": "NZKTjhk7ZpOl",
        "colab_type": "code",
        "colab": {}
      },
      "source": [
        ""
      ],
      "execution_count": 0,
      "outputs": []
    },
    {
      "cell_type": "code",
      "metadata": {
        "id": "K6blouDQcDXt",
        "colab_type": "code",
        "colab": {}
      },
      "source": [
        ""
      ],
      "execution_count": 0,
      "outputs": []
    },
    {
      "cell_type": "code",
      "metadata": {
        "id": "Jnfaw9HVafYO",
        "colab_type": "code",
        "colab": {}
      },
      "source": [
        "\n",
        "train=pd.read_csv(\"train.csv\",header=None)\n",
        "valid=pd.read_csv(\"valid.csv\",header=None)\n",
        "test=pd.read_csv(\"test.csv\",header=None)\n",
        "\n"
      ],
      "execution_count": 0,
      "outputs": []
    },
    {
      "cell_type": "code",
      "metadata": {
        "id": "5L9xUITGbml6",
        "colab_type": "code",
        "colab": {}
      },
      "source": [
        "embeddings"
      ],
      "execution_count": 0,
      "outputs": []
    },
    {
      "cell_type": "code",
      "metadata": {
        "id": "yTnsMtIVTatd",
        "colab_type": "code",
        "colab": {}
      },
      "source": [
        "# x_train, x_test, y_train, y_test = train_test_split(features, labels, test_size=0.2, random_state=42)\n",
        "\n",
        "x_train=[]\n",
        "x_val=[]\n",
        "x_test=[]\n",
        "for x in train[0]:\n",
        "    embed=embeddings[params[\"embeddingType\"]][x]\n",
        "    x_train.extend(mapReduce(embed,params[\"mapReduceFunc\"]))\n",
        "\n",
        "for x in valid[0]:\n",
        "    embed=embeddings[params[\"embeddingType\"]][x]\n",
        "    x_val.extend(mapReduce(embed,params[\"mapReduceFunc\"]))\n",
        "\n",
        "for x in test[0]:\n",
        "    embed=embeddings[params[\"embeddingType\"]][x]\n",
        "    x_test.extend(mapReduce(embed,params[\"mapReduceFunc\"]))\n",
        "\n",
        "x_train=np.array(x_train)\n",
        "x_val=np.array(x_val)\n",
        "x_test=np.array(x_test)\n",
        "\n",
        "y_train=np.array(train[1].astype('category').cat.codes)\n",
        "y_val=np.array(valid[1].astype('category').cat.codes)\n",
        "y_test=np.array(test[1].astype('category').cat.codes)\n",
        "\n",
        "y_train = np_utils.to_categorical(y_train)\n",
        "y_val = np_utils.to_categorical(y_val)\n",
        "y_test = np_utils.to_categorical(y_test)\n"
      ],
      "execution_count": 0,
      "outputs": []
    },
    {
      "cell_type": "code",
      "metadata": {
        "id": "KFtoqUAWcyOz",
        "colab_type": "code",
        "colab": {}
      },
      "source": [
        ""
      ],
      "execution_count": 0,
      "outputs": []
    },
    {
      "cell_type": "code",
      "metadata": {
        "id": "TiLIo2MNbcah",
        "colab_type": "code",
        "colab": {}
      },
      "source": [
        "\n",
        "def build_model(input_shape, num_classes):\n",
        "    model = models.Sequential()\n",
        "    model.add(layers.LSTM(128, input_shape=(input_shape[0], input_shape[1])))\n",
        "    model.add(layers.BatchNormalization())\n",
        "    model.add(layers.Dropout(0.5))\n",
        "    model.add(layers.Dense(32, activation='relu'))\n",
        "    model.add(layers.Dense(16, activation='tanh'))\n",
        "    model.add(layers.Dense(num_classes, activation='softmax'))\n",
        "    model.compile(loss='categorical_crossentropy',\n",
        "                  optimizer='adam',\n",
        "                  metrics=['accuracy'])\n",
        "    return model"
      ],
      "execution_count": 0,
      "outputs": []
    },
    {
      "cell_type": "code",
      "metadata": {
        "id": "Wokp_ayEcOz8",
        "colab_type": "code",
        "colab": {}
      },
      "source": [
        "model = build_model(input_shape=(x_train[0].shape[0], x_train[0].shape[1]), num_classes=8)"
      ],
      "execution_count": 0,
      "outputs": []
    },
    {
      "cell_type": "code",
      "metadata": {
        "id": "36jYX5GWckCW",
        "colab_type": "code",
        "colab": {}
      },
      "source": [
        "lr_reducer = ReduceLROnPlateau(monitor='val_loss', \n",
        "                               factor=0.2,\n",
        "                               patience=5,\n",
        "                               min_lr=1e-6,\n",
        "                               verbose=1)"
      ],
      "execution_count": 0,
      "outputs": []
    },
    {
      "cell_type": "code",
      "metadata": {
        "id": "xbdHRTTncll1",
        "colab_type": "code",
        "colab": {
          "base_uri": "https://localhost:8080/",
          "height": 1000
        },
        "outputId": "6346409c-574c-40dd-9b74-af9bd9b6582b"
      },
      "source": [
        "hist = model.fit(x_train, y_train, batch_size=32, epochs=34, validation_data=(x_test, y_test), callbacks=[lr_reducer])\n"
      ],
      "execution_count": 54,
      "outputs": [
        {
          "output_type": "stream",
          "text": [
            "Epoch 1/34\n",
            "46/46 [==============================] - 1s 26ms/step - loss: 2.1266 - accuracy: 0.1776 - val_loss: 2.0460 - val_accuracy: 0.1711 - lr: 0.0010\n",
            "Epoch 2/34\n",
            "46/46 [==============================] - 1s 15ms/step - loss: 1.9837 - accuracy: 0.2252 - val_loss: 1.9752 - val_accuracy: 0.2301 - lr: 0.0010\n",
            "Epoch 3/34\n",
            "46/46 [==============================] - 1s 15ms/step - loss: 1.9280 - accuracy: 0.2340 - val_loss: 1.9268 - val_accuracy: 0.2424 - lr: 0.0010\n",
            "Epoch 4/34\n",
            "46/46 [==============================] - 1s 16ms/step - loss: 1.8521 - accuracy: 0.2810 - val_loss: 1.8230 - val_accuracy: 0.3279 - lr: 0.0010\n",
            "Epoch 5/34\n",
            "46/46 [==============================] - 1s 15ms/step - loss: 1.7443 - accuracy: 0.3340 - val_loss: 1.7172 - val_accuracy: 0.3747 - lr: 0.0010\n",
            "Epoch 6/34\n",
            "46/46 [==============================] - 1s 17ms/step - loss: 1.6995 - accuracy: 0.3449 - val_loss: 1.7909 - val_accuracy: 0.3218 - lr: 0.0010\n",
            "Epoch 7/34\n",
            "46/46 [==============================] - 1s 16ms/step - loss: 1.6477 - accuracy: 0.3626 - val_loss: 1.6999 - val_accuracy: 0.3177 - lr: 0.0010\n",
            "Epoch 8/34\n",
            "46/46 [==============================] - 1s 18ms/step - loss: 1.6348 - accuracy: 0.3605 - val_loss: 1.6728 - val_accuracy: 0.3483 - lr: 0.0010\n",
            "Epoch 9/34\n",
            "46/46 [==============================] - 1s 14ms/step - loss: 1.5933 - accuracy: 0.3769 - val_loss: 1.6787 - val_accuracy: 0.3605 - lr: 0.0010\n",
            "Epoch 10/34\n",
            "46/46 [==============================] - 1s 14ms/step - loss: 1.5427 - accuracy: 0.4014 - val_loss: 1.5537 - val_accuracy: 0.4175 - lr: 0.0010\n",
            "Epoch 11/34\n",
            "46/46 [==============================] - 1s 14ms/step - loss: 1.4472 - accuracy: 0.4429 - val_loss: 1.5177 - val_accuracy: 0.3992 - lr: 0.0010\n",
            "Epoch 12/34\n",
            "46/46 [==============================] - 1s 14ms/step - loss: 1.3745 - accuracy: 0.4735 - val_loss: 1.5350 - val_accuracy: 0.4196 - lr: 0.0010\n",
            "Epoch 13/34\n",
            "46/46 [==============================] - 1s 14ms/step - loss: 1.3565 - accuracy: 0.4939 - val_loss: 1.4730 - val_accuracy: 0.4399 - lr: 0.0010\n",
            "Epoch 14/34\n",
            "46/46 [==============================] - 1s 14ms/step - loss: 1.2971 - accuracy: 0.5224 - val_loss: 1.4703 - val_accuracy: 0.4338 - lr: 0.0010\n",
            "Epoch 15/34\n",
            "46/46 [==============================] - 1s 14ms/step - loss: 1.2191 - accuracy: 0.5544 - val_loss: 1.3592 - val_accuracy: 0.4664 - lr: 0.0010\n",
            "Epoch 16/34\n",
            "46/46 [==============================] - 1s 14ms/step - loss: 1.1471 - accuracy: 0.5952 - val_loss: 1.4111 - val_accuracy: 0.4807 - lr: 0.0010\n",
            "Epoch 17/34\n",
            "46/46 [==============================] - 1s 14ms/step - loss: 1.0835 - accuracy: 0.6088 - val_loss: 1.3524 - val_accuracy: 0.5092 - lr: 0.0010\n",
            "Epoch 18/34\n",
            "46/46 [==============================] - 1s 14ms/step - loss: 1.0286 - accuracy: 0.6333 - val_loss: 1.3287 - val_accuracy: 0.5214 - lr: 0.0010\n",
            "Epoch 19/34\n",
            "46/46 [==============================] - 1s 14ms/step - loss: 0.9645 - accuracy: 0.6694 - val_loss: 1.2101 - val_accuracy: 0.5295 - lr: 0.0010\n",
            "Epoch 20/34\n",
            "46/46 [==============================] - 1s 14ms/step - loss: 0.8723 - accuracy: 0.7000 - val_loss: 1.3294 - val_accuracy: 0.5010 - lr: 0.0010\n",
            "Epoch 21/34\n",
            "46/46 [==============================] - 1s 14ms/step - loss: 0.8458 - accuracy: 0.7197 - val_loss: 1.2691 - val_accuracy: 0.5601 - lr: 0.0010\n",
            "Epoch 22/34\n",
            "46/46 [==============================] - 1s 14ms/step - loss: 0.7944 - accuracy: 0.7374 - val_loss: 1.2245 - val_accuracy: 0.5784 - lr: 0.0010\n",
            "Epoch 23/34\n",
            "46/46 [==============================] - 1s 14ms/step - loss: 0.7658 - accuracy: 0.7354 - val_loss: 1.4408 - val_accuracy: 0.4929 - lr: 0.0010\n",
            "Epoch 24/34\n",
            "45/46 [============================>.] - ETA: 0s - loss: 0.7117 - accuracy: 0.7681\n",
            "Epoch 00024: ReduceLROnPlateau reducing learning rate to 0.00020000000949949026.\n",
            "46/46 [==============================] - 1s 14ms/step - loss: 0.7139 - accuracy: 0.7653 - val_loss: 1.4201 - val_accuracy: 0.5519 - lr: 0.0010\n",
            "Epoch 25/34\n",
            "46/46 [==============================] - 1s 14ms/step - loss: 0.5904 - accuracy: 0.8061 - val_loss: 1.0510 - val_accuracy: 0.6497 - lr: 2.0000e-04\n",
            "Epoch 26/34\n",
            "46/46 [==============================] - 1s 14ms/step - loss: 0.5301 - accuracy: 0.8306 - val_loss: 1.0505 - val_accuracy: 0.6619 - lr: 2.0000e-04\n",
            "Epoch 27/34\n",
            "46/46 [==============================] - 1s 14ms/step - loss: 0.4760 - accuracy: 0.8633 - val_loss: 1.0560 - val_accuracy: 0.6599 - lr: 2.0000e-04\n",
            "Epoch 28/34\n",
            "46/46 [==============================] - 1s 14ms/step - loss: 0.4473 - accuracy: 0.8707 - val_loss: 1.0689 - val_accuracy: 0.6517 - lr: 2.0000e-04\n",
            "Epoch 29/34\n",
            "46/46 [==============================] - 1s 14ms/step - loss: 0.4251 - accuracy: 0.8789 - val_loss: 1.0882 - val_accuracy: 0.6517 - lr: 2.0000e-04\n",
            "Epoch 30/34\n",
            "46/46 [==============================] - 1s 14ms/step - loss: 0.3987 - accuracy: 0.8918 - val_loss: 1.0962 - val_accuracy: 0.6578 - lr: 2.0000e-04\n",
            "Epoch 31/34\n",
            "45/46 [============================>.] - ETA: 0s - loss: 0.3866 - accuracy: 0.8986\n",
            "Epoch 00031: ReduceLROnPlateau reducing learning rate to 4.0000001899898055e-05.\n",
            "46/46 [==============================] - 1s 14ms/step - loss: 0.3837 - accuracy: 0.8993 - val_loss: 1.0724 - val_accuracy: 0.6538 - lr: 2.0000e-04\n",
            "Epoch 32/34\n",
            "46/46 [==============================] - 1s 14ms/step - loss: 0.3631 - accuracy: 0.9116 - val_loss: 1.0539 - val_accuracy: 0.6640 - lr: 4.0000e-05\n",
            "Epoch 33/34\n",
            "46/46 [==============================] - 1s 14ms/step - loss: 0.3474 - accuracy: 0.9184 - val_loss: 1.0582 - val_accuracy: 0.6823 - lr: 4.0000e-05\n",
            "Epoch 34/34\n",
            "46/46 [==============================] - 1s 14ms/step - loss: 0.3375 - accuracy: 0.9116 - val_loss: 1.0668 - val_accuracy: 0.6640 - lr: 4.0000e-05\n"
          ],
          "name": "stdout"
        }
      ]
    },
    {
      "cell_type": "code",
      "metadata": {
        "id": "31oo4iGJctdQ",
        "colab_type": "code",
        "colab": {}
      },
      "source": [
        ""
      ],
      "execution_count": 0,
      "outputs": []
    }
  ]
}
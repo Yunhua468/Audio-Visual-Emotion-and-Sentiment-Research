{
 "cells": [
  {
   "cell_type": "code",
   "execution_count": 1,
   "metadata": {},
   "outputs": [
    {
     "name": "stderr",
     "output_type": "stream",
     "text": [
      "Using TensorFlow backend.\n"
     ]
    }
   ],
   "source": [
    "import os\n",
    "import pandas as pd\n",
    "import numpy as np\n",
    "from tqdm import tqdm\n",
    "import scipy.io.wavfile as wav\n",
    "from speechpy.feature import mfcc\n",
    "import librosa\n",
    "import matplotlib.pyplot as plt\n",
    "from sklearn.model_selection import train_test_split\n",
    "from sklearn.metrics import accuracy_score\n",
    "from sklearn.metrics import confusion_matrix\n",
    "from sklearn.metrics import classification_report\n",
    "\n",
    "import tensorflow as tf\n",
    "from tensorflow.keras import layers\n",
    "from tensorflow.keras import models\n",
    "from tensorflow.keras import backend as K\n",
    "from tensorflow.keras.callbacks import ReduceLROnPlateau\n",
    "from tensorflow import keras\n",
    "from keras.utils import np_utils\n",
    "from sklearn.utils.multiclass import unique_labels"
   ]
  },
  {
   "cell_type": "markdown",
   "metadata": {},
   "source": [
    "**Load the data set**"
   ]
  },
  {
   "cell_type": "code",
   "execution_count": 2,
   "metadata": {},
   "outputs": [],
   "source": [
    "FILEPATH_SPEECH= 'C:\\\\Users\\\\ZhaoY\\\\Downloads\\\\DL_Project\\\\dataset\\\\Audio_Song_Actors_01-24\\\\'\n",
    "dir_list_speech = os.listdir(FILEPATH_SPEECH)"
   ]
  },
  {
   "cell_type": "code",
   "execution_count": 3,
   "metadata": {},
   "outputs": [],
   "source": [
    "FILEPATH_SONG = 'C:\\\\Users\\\\ZhaoY\\\\Downloads\\\\DL_Project\\\\dataset\\\\Audio_Song_Actors_01-24\\\\'\n",
    "dir_list_song = os.listdir(FILEPATH_SONG)"
   ]
  },
  {
   "cell_type": "code",
   "execution_count": 4,
   "metadata": {},
   "outputs": [
    {
     "name": "stdout",
     "output_type": "stream",
     "text": [
      "C:\\Users\\ZhaoY\\Downloads\\DL_Project\\dataset\\Audio_Song_Actors_01-24\\ hahaha\n"
     ]
    }
   ],
   "source": [
    "#get the paths\n",
    "dirts = []\n",
    "filepath_delete = True\n",
    "for root, dirt,file in os.walk(FILEPATH_SPEECH):\n",
    "    if filepath_delete == True:\n",
    "        print(root, \"hahaha\")\n",
    "        filepath_delete = False\n",
    "    else:\n",
    "        dirts.append(root)     "
   ]
  },
  {
   "cell_type": "code",
   "execution_count": 5,
   "metadata": {},
   "outputs": [
    {
     "name": "stdout",
     "output_type": "stream",
     "text": [
      "C:\\Users\\ZhaoY\\Downloads\\DL_Project\\dataset\\Audio_Song_Actors_01-24\\ hahaha\n"
     ]
    }
   ],
   "source": [
    "filepath_delete = True\n",
    "for root, dirt,file in os.walk(FILEPATH_SONG):\n",
    "    if filepath_delete == True:\n",
    "        print(root, \"hahaha\")\n",
    "        filepath_delete = False\n",
    "    else:\n",
    "        dirts.append(root)"
   ]
  },
  {
   "cell_type": "code",
   "execution_count": 6,
   "metadata": {},
   "outputs": [],
   "source": [
    "#get the files in every path\n",
    "files = []\n",
    "for dirt in dirts:\n",
    "    for root, dt, file in os.walk(dirt):\n",
    "        for fl in file:\n",
    "            files.append(os.path.join(dirt,fl))  "
   ]
  },
  {
   "cell_type": "code",
   "execution_count": 7,
   "metadata": {},
   "outputs": [
    {
     "data": {
      "text/plain": [
       "'C:\\\\Users\\\\ZhaoY\\\\Downloads\\\\DL_Project\\\\dataset\\\\Audio_Song_Actors_01-24\\\\Actor_01\\\\03-02-01-01-01-02-01.wav'"
      ]
     },
     "execution_count": 7,
     "metadata": {},
     "output_type": "execute_result"
    }
   ],
   "source": [
    "files[1]"
   ]
  },
  {
   "cell_type": "code",
   "execution_count": 8,
   "metadata": {},
   "outputs": [],
   "source": [
    "filename = []\n",
    "Actor = []\n",
    "for file in files:\n",
    "    filename.append(file.split('\\\\')[-1])\n",
    "    Actor.append(file.split('\\\\')[-2])"
   ]
  },
  {
   "cell_type": "code",
   "execution_count": 9,
   "metadata": {},
   "outputs": [
    {
     "data": {
      "text/plain": [
       "'03-02-01-01-01-01-01.wav'"
      ]
     },
     "execution_count": 9,
     "metadata": {},
     "output_type": "execute_result"
    }
   ],
   "source": [
    "filename[0]"
   ]
  },
  {
   "cell_type": "code",
   "execution_count": 10,
   "metadata": {},
   "outputs": [
    {
     "data": {
      "text/plain": [
       "'Actor_24'"
      ]
     },
     "execution_count": 10,
     "metadata": {},
     "output_type": "execute_result"
    }
   ],
   "source": [
    "Actor[-1]"
   ]
  },
  {
   "cell_type": "code",
   "execution_count": 11,
   "metadata": {},
   "outputs": [],
   "source": [
    "Modality = []\n",
    "Vocal_channel = []\n",
    "Emotion = []\n",
    "Emotional_intensity = []\n",
    "Statement = []\n",
    "Repetition = []\n",
    "\n",
    "for name in filename:\n",
    "    Modality.append(name.split('-')[0])\n",
    "    Vocal_channel.append(name.split('-')[1])\n",
    "    Emotion.append(int(name.split('-')[2])-1)\n",
    "    Emotional_intensity.append(name.split('-')[3])\n",
    "    Statement.append(name.split('-')[4])\n",
    "    Repetition.append(name.split('-')[5])"
   ]
  },
  {
   "cell_type": "code",
   "execution_count": 12,
   "metadata": {},
   "outputs": [],
   "source": [
    "df = pd.DataFrame({'files': files, \n",
    "                   'modalities': Modality,\n",
    "                   'vocal_channels': Vocal_channel, \n",
    "                   'emotions': Emotion,\n",
    "                   'emotional_intensities': Emotional_intensity,\n",
    "                   'statements': Statement,\n",
    "                   'repetitiona': Repetition})"
   ]
  },
  {
   "cell_type": "code",
   "execution_count": 13,
   "metadata": {},
   "outputs": [
    {
     "data": {
      "text/html": [
       "<div>\n",
       "<style scoped>\n",
       "    .dataframe tbody tr th:only-of-type {\n",
       "        vertical-align: middle;\n",
       "    }\n",
       "\n",
       "    .dataframe tbody tr th {\n",
       "        vertical-align: top;\n",
       "    }\n",
       "\n",
       "    .dataframe thead th {\n",
       "        text-align: right;\n",
       "    }\n",
       "</style>\n",
       "<table border=\"1\" class=\"dataframe\">\n",
       "  <thead>\n",
       "    <tr style=\"text-align: right;\">\n",
       "      <th></th>\n",
       "      <th>files</th>\n",
       "      <th>modalities</th>\n",
       "      <th>vocal_channels</th>\n",
       "      <th>emotions</th>\n",
       "      <th>emotional_intensities</th>\n",
       "      <th>statements</th>\n",
       "      <th>repetitiona</th>\n",
       "    </tr>\n",
       "  </thead>\n",
       "  <tbody>\n",
       "    <tr>\n",
       "      <th>0</th>\n",
       "      <td>C:\\Users\\ZhaoY\\Downloads\\DL_Project\\dataset\\Au...</td>\n",
       "      <td>03</td>\n",
       "      <td>02</td>\n",
       "      <td>0</td>\n",
       "      <td>01</td>\n",
       "      <td>01</td>\n",
       "      <td>01</td>\n",
       "    </tr>\n",
       "  </tbody>\n",
       "</table>\n",
       "</div>"
      ],
      "text/plain": [
       "                                               files modalities  \\\n",
       "0  C:\\Users\\ZhaoY\\Downloads\\DL_Project\\dataset\\Au...         03   \n",
       "\n",
       "  vocal_channels  emotions emotional_intensities statements repetitiona  \n",
       "0             02         0                    01         01          01  "
      ]
     },
     "execution_count": 13,
     "metadata": {},
     "output_type": "execute_result"
    }
   ],
   "source": [
    "df.head(1)"
   ]
  },
  {
   "cell_type": "code",
   "execution_count": 14,
   "metadata": {},
   "outputs": [
    {
     "name": "stdout",
     "output_type": "stream",
     "text": [
      "<class 'pandas.core.frame.DataFrame'>\n",
      "RangeIndex: 2024 entries, 0 to 2023\n",
      "Data columns (total 7 columns):\n",
      "files                    2024 non-null object\n",
      "modalities               2024 non-null object\n",
      "vocal_channels           2024 non-null object\n",
      "emotions                 2024 non-null int64\n",
      "emotional_intensities    2024 non-null object\n",
      "statements               2024 non-null object\n",
      "repetitiona              2024 non-null object\n",
      "dtypes: int64(1), object(6)\n",
      "memory usage: 110.8+ KB\n"
     ]
    }
   ],
   "source": [
    "df.info()"
   ]
  },
  {
   "cell_type": "code",
   "execution_count": 15,
   "metadata": {},
   "outputs": [
    {
     "data": {
      "text/plain": [
       "5    368\n",
       "4    368\n",
       "3    368\n",
       "2    368\n",
       "1    368\n",
       "0    184\n",
       "Name: emotions, dtype: int64"
      ]
     },
     "execution_count": 15,
     "metadata": {},
     "output_type": "execute_result"
    }
   ],
   "source": [
    "df.emotions.value_counts()"
   ]
  },
  {
   "cell_type": "code",
   "execution_count": 16,
   "metadata": {},
   "outputs": [
    {
     "data": {
      "text/plain": [
       "(array([184.,   0., 368.,   0., 368.,   0., 368.,   0., 368., 368.]),\n",
       " array([0. , 0.5, 1. , 1.5, 2. , 2.5, 3. , 3.5, 4. , 4.5, 5. ]),\n",
       " <a list of 10 Patch objects>)"
      ]
     },
     "execution_count": 16,
     "metadata": {},
     "output_type": "execute_result"
    },
    {
     "data": {
      "image/png": "[encoded data removed]",
      "text/plain": [
       "<Figure size 432x288 with 1 Axes>"
      ]
     },
     "metadata": {
      "needs_background": "light"
     },
     "output_type": "display_data"
    }
   ],
   "source": [
    "plt.hist(df.emotions)"
   ]
  },
  {
   "cell_type": "code",
   "execution_count": 17,
   "metadata": {},
   "outputs": [
    {
     "name": "stdout",
     "output_type": "stream",
     "text": [
      "2024\n"
     ]
    }
   ],
   "source": [
    "print(len(files))"
   ]
  },
  {
   "cell_type": "code",
   "execution_count": 18,
   "metadata": {},
   "outputs": [],
   "source": [
    "mean_signal_length = 0\n",
    "signals = []\n",
    "for fname in files:\n",
    "    signal, fs = librosa.load(fname, sr=16000, mono=True)\n",
    "    mean_signal_length += len(signal)\n",
    "    signals.append(signal)\n",
    "mean_signal_length = mean_signal_length/(len(files))"
   ]
  },
  {
   "cell_type": "code",
   "execution_count": 19,
   "metadata": {
    "scrolled": true
   },
   "outputs": [
    {
     "name": "stdout",
     "output_type": "stream",
     "text": [
      "74387\n"
     ]
    }
   ],
   "source": [
    "mean_signal_length = int(mean_signal_length) \n",
    "print(mean_signal_length)"
   ]
  },
  {
   "cell_type": "code",
   "execution_count": 20,
   "metadata": {},
   "outputs": [],
   "source": [
    "def get_feature_vector_from_mfcc(signal, mean_signal_length: int, flatten: bool) -> np.ndarray:\n",
    "    \"\"\"\n",
    "    Make feature vector from MFCC for the given wav file.\n",
    "\n",
    "    Args:\n",
    "        file_path (str): path to the .wav file that needs to be read.\n",
    "        flatten (bool) : Boolean indicating whether to flatten mfcc obtained.\n",
    "        mfcc_len (int): Number of cepestral co efficients to be consider.\n",
    "\n",
    "    Returns:\n",
    "        numpy.ndarray: feature vector of the wav file made from mfcc.\n",
    "    \"\"\"\n",
    "    #fs, signal = wav.read(file_path)\n",
    "    #signal, fs = librosa.load(file_path, sr=16000, mono=True)\n",
    "    s_len = len(signal)\n",
    "\n",
    "    # pad the signals to have same size if lesser than required\n",
    "    # else slice them    \n",
    "    \n",
    "    if s_len < mean_signal_length:\n",
    "        pad_len = mean_signal_length - s_len\n",
    "        pad_rem = pad_len % 2\n",
    "        pad_len //= 2\n",
    "        signal = np.pad(signal, (pad_len, pad_len + pad_rem),\n",
    "                        'constant', constant_values=0)\n",
    "    else:\n",
    "        pad_len = s_len - mean_signal_length\n",
    "        pad_len //= 2\n",
    "        signal = signal[pad_len:pad_len + mean_signal_length]\n",
    "        \n",
    "    # sample/frame = mean_signal_length*frame_length\n",
    "    mel_coefficients = mfcc(signal, fs, frame_length=0.048, frame_stride=0.024, num_filters=30, num_cepstral=30, low_frequency=60, high_frequency=7600)\n",
    "    if flatten:\n",
    "        # Flatten the data\n",
    "        mel_coefficients = np.ravel(mel_coefficients)\n",
    "    return mel_coefficients"
   ]
  },
  {
   "cell_type": "code",
   "execution_count": 21,
   "metadata": {},
   "outputs": [],
   "source": [
    "features = []\n",
    "for signal in signals:\n",
    "    features.append(get_feature_vector_from_mfcc(signal, mean_signal_length, flatten=False))"
   ]
  },
  {
   "cell_type": "code",
   "execution_count": 22,
   "metadata": {},
   "outputs": [
    {
     "data": {
      "text/plain": [
       "array([[-36.04365339,   0.        ,   0.        , ...,   0.        ,\n",
       "          0.        ,   0.        ],\n",
       "       [-36.04365339,   0.        ,   0.        , ...,   0.        ,\n",
       "          0.        ,   0.        ],\n",
       "       [-36.04365339,   0.        ,   0.        , ...,   0.        ,\n",
       "          0.        ,   0.        ],\n",
       "       ...,\n",
       "       [-36.04365339,   0.        ,   0.        , ...,   0.        ,\n",
       "          0.        ,   0.        ],\n",
       "       [-36.04365339,   0.        ,   0.        , ...,   0.        ,\n",
       "          0.        ,   0.        ],\n",
       "       [-36.04365339,   0.        ,   0.        , ...,   0.        ,\n",
       "          0.        ,   0.        ]])"
      ]
     },
     "execution_count": 22,
     "metadata": {},
     "output_type": "execute_result"
    }
   ],
   "source": [
    "features[0]"
   ]
  },
  {
   "cell_type": "code",
   "execution_count": 23,
   "metadata": {},
   "outputs": [
    {
     "data": {
      "text/plain": [
       "<matplotlib.image.AxesImage at 0x1b27f828630>"
      ]
     },
     "execution_count": 23,
     "metadata": {},
     "output_type": "execute_result"
    },
    {
     "data": {
      "image/png": "[encoded data removed]",
      "text/plain": [
       "<Figure size 432x288 with 1 Axes>"
      ]
     },
     "metadata": {
      "needs_background": "light"
     },
     "output_type": "display_data"
    }
   ],
   "source": [
    "plt.imshow(features[0].T)"
   ]
  },
  {
   "cell_type": "code",
   "execution_count": 24,
   "metadata": {},
   "outputs": [
    {
     "data": {
      "text/plain": [
       "(2024, 191, 30)"
      ]
     },
     "execution_count": 24,
     "metadata": {},
     "output_type": "execute_result"
    }
   ],
   "source": [
    "#need to stack these features, so need to add one demenssion\n",
    "features = np.vstack([feature[np.newaxis, :, :] for feature in features])\n",
    "features.shape"
   ]
  },
  {
   "cell_type": "code",
   "execution_count": 25,
   "metadata": {},
   "outputs": [
    {
     "data": {
      "text/plain": [
       "array([0, 1, 2, 3, 4, 5])"
      ]
     },
     "execution_count": 25,
     "metadata": {},
     "output_type": "execute_result"
    }
   ],
   "source": [
    "np.unique(Emotion)"
   ]
  },
  {
   "cell_type": "code",
   "execution_count": 26,
   "metadata": {},
   "outputs": [],
   "source": [
    "#one hot code, it is classification not logistic regression, so change numbers to one hot code\n",
    "labels = np_utils.to_categorical(Emotion)"
   ]
  },
  {
   "cell_type": "code",
   "execution_count": 27,
   "metadata": {},
   "outputs": [
    {
     "data": {
      "text/plain": [
       "(2024, 6)"
      ]
     },
     "execution_count": 27,
     "metadata": {},
     "output_type": "execute_result"
    }
   ],
   "source": [
    "labels.shape"
   ]
  },
  {
   "cell_type": "code",
   "execution_count": 28,
   "metadata": {},
   "outputs": [],
   "source": [
    "x_train, x_test, y_train, y_test = train_test_split(features, labels, test_size=0.2, random_state=42)"
   ]
  },
  {
   "cell_type": "code",
   "execution_count": 29,
   "metadata": {},
   "outputs": [],
   "source": [
    "def build_model(input_shape, num_classes):\n",
    "    model = models.Sequential()\n",
    "    model.add(layers.LSTM(128, input_shape=(input_shape[0], input_shape[1])))\n",
    "    model.add(layers.BatchNormalization())\n",
    "    model.add(layers.Dropout(0.5))\n",
    "    model.add(layers.Dense(32, activation='relu'))\n",
    "    model.add(layers.Dense(16, activation='tanh'))\n",
    "    model.add(layers.Dense(num_classes, activation='softmax'))\n",
    "    model.compile(loss='categorical_crossentropy',\n",
    "                  optimizer='adam',\n",
    "                  metrics=['accuracy'])\n",
    "    return model"
   ]
  },
  {
   "cell_type": "code",
   "execution_count": 30,
   "metadata": {},
   "outputs": [],
   "source": [
    "model = build_model(input_shape=(features.shape[1], features.shape[2]), num_classes=labels.shape[1])"
   ]
  },
  {
   "cell_type": "code",
   "execution_count": 31,
   "metadata": {},
   "outputs": [
    {
     "data": {
      "text/plain": [
       "(2024, 6)"
      ]
     },
     "execution_count": 31,
     "metadata": {},
     "output_type": "execute_result"
    }
   ],
   "source": [
    "labels.shape"
   ]
  },
  {
   "cell_type": "code",
   "execution_count": 32,
   "metadata": {},
   "outputs": [
    {
     "data": {
      "text/plain": [
       "(2024, 191, 30)"
      ]
     },
     "execution_count": 32,
     "metadata": {},
     "output_type": "execute_result"
    }
   ],
   "source": [
    "features.shape"
   ]
  },
  {
   "cell_type": "code",
   "execution_count": 33,
   "metadata": {},
   "outputs": [],
   "source": [
    "lr_reducer = ReduceLROnPlateau(monitor='val_loss', \n",
    "                               factor=0.2,\n",
    "                               patience=5,\n",
    "                               min_lr=1e-6,\n",
    "                               verbose=1)"
   ]
  },
  {
   "cell_type": "code",
   "execution_count": 34,
   "metadata": {},
   "outputs": [
    {
     "name": "stdout",
     "output_type": "stream",
     "text": [
      "Train on 1619 samples, validate on 405 samples\n",
      "Epoch 1/34\n",
      "1619/1619 [==============================] - 14s 9ms/sample - loss: 1.8006 - accuracy: 0.2489 - val_loss: 1.7262 - val_accuracy: 0.2617\n",
      "Epoch 2/34\n",
      "1619/1619 [==============================] - 11s 7ms/sample - loss: 1.6377 - accuracy: 0.3187 - val_loss: 1.6105 - val_accuracy: 0.3309\n",
      "Epoch 3/34\n",
      "1619/1619 [==============================] - 12s 7ms/sample - loss: 1.5085 - accuracy: 0.3706 - val_loss: 1.4760 - val_accuracy: 0.4000\n",
      "Epoch 4/34\n",
      "1619/1619 [==============================] - 11s 7ms/sample - loss: 1.4241 - accuracy: 0.4120 - val_loss: 1.4294 - val_accuracy: 0.4099\n",
      "Epoch 5/34\n",
      "1619/1619 [==============================] - 11s 7ms/sample - loss: 1.3486 - accuracy: 0.4256 - val_loss: 1.2312 - val_accuracy: 0.4617\n",
      "Epoch 6/34\n",
      "1619/1619 [==============================] - 11s 7ms/sample - loss: 1.2295 - accuracy: 0.4873 - val_loss: 1.2078 - val_accuracy: 0.4790\n",
      "Epoch 7/34\n",
      "1619/1619 [==============================] - 11s 7ms/sample - loss: 1.1927 - accuracy: 0.5090 - val_loss: 1.1474 - val_accuracy: 0.5333\n",
      "Epoch 8/34\n",
      "1619/1619 [==============================] - 11s 7ms/sample - loss: 1.1195 - accuracy: 0.5473 - val_loss: 1.0421 - val_accuracy: 0.5778\n",
      "Epoch 9/34\n",
      "1619/1619 [==============================] - 11s 7ms/sample - loss: 1.0160 - accuracy: 0.5967 - val_loss: 0.9850 - val_accuracy: 0.6099\n",
      "Epoch 10/34\n",
      "1619/1619 [==============================] - 11s 7ms/sample - loss: 0.9328 - accuracy: 0.6368 - val_loss: 0.9782 - val_accuracy: 0.6173\n",
      "Epoch 11/34\n",
      "1619/1619 [==============================] - 11s 7ms/sample - loss: 0.8567 - accuracy: 0.6751 - val_loss: 1.0149 - val_accuracy: 0.5827\n",
      "Epoch 12/34\n",
      "1619/1619 [==============================] - 11s 7ms/sample - loss: 0.8108 - accuracy: 0.6800 - val_loss: 0.8469 - val_accuracy: 0.6864\n",
      "Epoch 13/34\n",
      "1619/1619 [==============================] - 11s 7ms/sample - loss: 0.7439 - accuracy: 0.7190 - val_loss: 0.7518 - val_accuracy: 0.7210\n",
      "Epoch 14/34\n",
      "1619/1619 [==============================] - 12s 7ms/sample - loss: 0.6340 - accuracy: 0.7641 - val_loss: 0.8285 - val_accuracy: 0.7111\n",
      "Epoch 15/34\n",
      "1619/1619 [==============================] - 11s 7ms/sample - loss: 0.5779 - accuracy: 0.8110 - val_loss: 0.6890 - val_accuracy: 0.7358\n",
      "Epoch 16/34\n",
      "1619/1619 [==============================] - 11s 7ms/sample - loss: 0.4589 - accuracy: 0.8456 - val_loss: 0.5984 - val_accuracy: 0.7802\n",
      "Epoch 17/34\n",
      "1619/1619 [==============================] - 13s 8ms/sample - loss: 0.4661 - accuracy: 0.8511 - val_loss: 0.5832 - val_accuracy: 0.7877\n",
      "Epoch 18/34\n",
      "1619/1619 [==============================] - 12s 8ms/sample - loss: 0.4023 - accuracy: 0.8765 - val_loss: 0.4737 - val_accuracy: 0.8444\n",
      "Epoch 19/34\n",
      "1619/1619 [==============================] - 13s 8ms/sample - loss: 0.3377 - accuracy: 0.8925 - val_loss: 0.4488 - val_accuracy: 0.8321\n",
      "Epoch 20/34\n",
      "1619/1619 [==============================] - 12s 7ms/sample - loss: 0.3572 - accuracy: 0.8814 - val_loss: 0.4882 - val_accuracy: 0.8420\n",
      "Epoch 21/34\n",
      "1619/1619 [==============================] - 11s 7ms/sample - loss: 0.2837 - accuracy: 0.9129 - val_loss: 0.3497 - val_accuracy: 0.8840\n",
      "Epoch 22/34\n",
      "1619/1619 [==============================] - 11s 7ms/sample - loss: 0.2458 - accuracy: 0.9351 - val_loss: 0.3962 - val_accuracy: 0.8741\n",
      "Epoch 23/34\n",
      "1619/1619 [==============================] - 11s 7ms/sample - loss: 0.2286 - accuracy: 0.9401 - val_loss: 0.4344 - val_accuracy: 0.8765\n",
      "Epoch 24/34\n",
      "1619/1619 [==============================] - 11s 7ms/sample - loss: 0.2110 - accuracy: 0.9419 - val_loss: 0.2906 - val_accuracy: 0.9037\n",
      "Epoch 25/34\n",
      "1619/1619 [==============================] - 11s 7ms/sample - loss: 0.2165 - accuracy: 0.9376 - val_loss: 0.4065 - val_accuracy: 0.8765\n",
      "Epoch 26/34\n",
      "1619/1619 [==============================] - 11s 7ms/sample - loss: 0.1862 - accuracy: 0.9487 - val_loss: 0.3502 - val_accuracy: 0.8963\n",
      "Epoch 27/34\n",
      "1619/1619 [==============================] - 11s 7ms/sample - loss: 0.1484 - accuracy: 0.9611 - val_loss: 0.4157 - val_accuracy: 0.8963\n",
      "Epoch 28/34\n",
      "1619/1619 [==============================] - 11s 7ms/sample - loss: 0.1842 - accuracy: 0.9481 - val_loss: 0.2616 - val_accuracy: 0.9309\n",
      "Epoch 29/34\n",
      "1619/1619 [==============================] - 11s 7ms/sample - loss: 0.1658 - accuracy: 0.9537 - val_loss: 0.2783 - val_accuracy: 0.9284\n",
      "Epoch 30/34\n",
      "1619/1619 [==============================] - 11s 7ms/sample - loss: 0.1257 - accuracy: 0.9673 - val_loss: 0.2917 - val_accuracy: 0.9136\n",
      "Epoch 31/34\n",
      "1619/1619 [==============================] - 11s 7ms/sample - loss: 0.1646 - accuracy: 0.9555 - val_loss: 0.3666 - val_accuracy: 0.8889\n",
      "Epoch 32/34\n",
      "1619/1619 [==============================] - 11s 7ms/sample - loss: 0.1711 - accuracy: 0.9494 - val_loss: 0.3585 - val_accuracy: 0.8988\n",
      "Epoch 33/34\n",
      "1619/1619 [==============================] - 11s 7ms/sample - loss: 0.1638 - accuracy: 0.9506 - val_loss: 0.2471 - val_accuracy: 0.9284\n",
      "Epoch 34/34\n",
      "1619/1619 [==============================] - 11s 7ms/sample - loss: 0.0873 - accuracy: 0.9796 - val_loss: 0.2588 - val_accuracy: 0.9259\n"
     ]
    }
   ],
   "source": [
    "hist = model.fit(x_train, y_train, batch_size=32, epochs=34, validation_data=(x_test, y_test), callbacks=[lr_reducer])"
   ]
  },
  {
   "cell_type": "code",
   "execution_count": 35,
   "metadata": {},
   "outputs": [],
   "source": [
    "def draw_hist(hist):\n",
    "    acc = hist.history['accuracy']\n",
    "    val_acc = hist.history['val_accuracy']\n",
    "    loss = hist.history['loss']\n",
    "    val_loss = hist.history['val_loss']\n",
    "\n",
    "    epochs = range(1, len(acc) + 1)\n",
    "\n",
    "    # \"bo\" is for \"blue dot\"\n",
    "    plt.figure(figsize=(8, 4.5))\n",
    "    plt.plot(epochs, loss, 'bo', label='Training loss')\n",
    "    # b is for \"solid blue line\"\n",
    "    plt.plot(epochs, val_loss, 'b', label='Validation loss')\n",
    "    plt.title('Training and validation loss')\n",
    "    plt.xlabel('Epochs')\n",
    "    plt.ylabel('Loss')\n",
    "    plt.legend()\n",
    "    plt.show()\n",
    "\n",
    "    plt.clf()   # clear figure\n",
    "    acc_values = acc\n",
    "    val_acc_values = val_acc\n",
    "\n",
    "    plt.figure(figsize=(8, 4.5))\n",
    "    plt.plot(epochs, acc, 'bo', label='Training acc')\n",
    "    plt.plot(epochs, val_acc, 'b', label='Validation acc')\n",
    "    plt.title('Training and validation accuracy')\n",
    "    plt.xlabel('Epochs')\n",
    "    plt.ylabel('Loss')\n",
    "    plt.legend()\n",
    "    plt.show()"
   ]
  },
  {
   "cell_type": "code",
   "execution_count": 36,
   "metadata": {},
   "outputs": [],
   "source": [
    "def plot_confusion_matrix(y_true, y_pred, classes,\n",
    "                          normalize=False,\n",
    "                          title=None,\n",
    "                          cmap=plt.cm.Blues):\n",
    "    \"\"\"\n",
    "    This function prints and plots the confusion matrix.\n",
    "    Normalization can be applied by setting `normalize=True`.\n",
    "    \"\"\"\n",
    "    if not title:\n",
    "        if normalize:\n",
    "            title = 'Normalized confusion matrix'\n",
    "        else:\n",
    "            title = 'Confusion matrix, without normalization'\n",
    "\n",
    "    # Compute confusion matrix\n",
    "    cm = confusion_matrix(y_true, y_pred)\n",
    "    # Only use the labels that appear in the data\n",
    "\n",
    "    print('unique labels:', unique_labels(y_true, y_pred))\n",
    "    classes = np.array(classes)[unique_labels(y_true, y_pred)]\n",
    "    if normalize:\n",
    "        cm = cm.astype('float') / cm.sum(axis=1)[:, np.newaxis]\n",
    "        print(\"Normalized confusion matrix\")\n",
    "    else:\n",
    "        print('Confusion matrix, without normalization')\n",
    "\n",
    "\n",
    "    fig, ax = plt.subplots()\n",
    "    fig.set_figheight(9)\n",
    "    fig.set_figwidth(9)\n",
    "    im = ax.imshow(cm, interpolation='nearest', cmap=cmap)\n",
    "    ax.figure.colorbar(im, ax=ax)\n",
    "    # We want to show all ticks...\n",
    "    ax.set(xticks=np.arange(cm.shape[1]),\n",
    "           yticks=np.arange(cm.shape[0]),\n",
    "           # ... and label them with the respective list entries\n",
    "           xticklabels=classes, yticklabels=classes,\n",
    "           title=title,\n",
    "           ylabel='True label',\n",
    "           xlabel='Predicted label')\n",
    "\n",
    "    # Rotate the tick labels and set their alignment.\n",
    "    plt.setp(ax.get_xticklabels(), rotation=45, ha=\"right\",\n",
    "             rotation_mode=\"anchor\")\n",
    "\n",
    "    # Loop over data dimensions and create text annotations.\n",
    "    fmt = '.2f' if normalize else 'd'\n",
    "    thresh = cm.max() / 2.\n",
    "    for i in range(cm.shape[0]):\n",
    "        for j in range(cm.shape[1]):\n",
    "            ax.text(j, i, format(cm[i, j], fmt),\n",
    "                    ha=\"center\", va=\"center\",\n",
    "                    color=\"white\" if cm[i, j] > thresh else \"black\")\n",
    "    fig.tight_layout()\n",
    "    return ax"
   ]
  },
  {
   "cell_type": "code",
   "execution_count": 37,
   "metadata": {},
   "outputs": [
    {
     "name": "stdout",
     "output_type": "stream",
     "text": [
      "0.2587634240035658 0.9259259\n",
      "Classification report: \n",
      "              precision    recall  f1-score   support\n",
      "\n",
      "           0       0.88      0.88      0.88        33\n",
      "           1       0.86      0.98      0.92        64\n",
      "           2       0.95      0.90      0.92        78\n",
      "           3       1.00      0.89      0.94        79\n",
      "           4       0.94      0.97      0.96        69\n",
      "           5       0.90      0.93      0.92        82\n",
      "\n",
      "    accuracy                           0.93       405\n",
      "   macro avg       0.92      0.92      0.92       405\n",
      "weighted avg       0.93      0.93      0.93       405\n",
      "\n",
      "Confusion matrix: \n",
      "[[29  2  0  0  0  2]\n",
      " [ 0 63  1  0  0  0]\n",
      " [ 2  2 70  0  2  2]\n",
      " [ 0  6  1 70  0  2]\n",
      " [ 0  0  0  0 67  2]\n",
      " [ 2  0  2  0  2 76]]\n"
     ]
    },
    {
     "data": {
      "image/png": "[encoded data removed]",
      "text/plain": [
       "<Figure size 576x324 with 1 Axes>"
      ]
     },
     "metadata": {
      "needs_background": "light"
     },
     "output_type": "display_data"
    },
    {
     "data": {
      "text/plain": [
       "<Figure size 432x288 with 0 Axes>"
      ]
     },
     "metadata": {},
     "output_type": "display_data"
    },
    {
     "data": {
      "image/png": "[encoded data removed]",
      "text/plain": [
       "<Figure size 576x324 with 1 Axes>"
      ]
     },
     "metadata": {
      "needs_background": "light"
     },
     "output_type": "display_data"
    },
    {
     "name": "stdout",
     "output_type": "stream",
     "text": [
      "unique labels: [0 1 2 3 4 5]\n",
      "Normalized confusion matrix\n"
     ]
    },
    {
     "data": {
      "text/plain": [
       "<matplotlib.axes._subplots.AxesSubplot at 0x1b23682f898>"
      ]
     },
     "execution_count": 37,
     "metadata": {},
     "output_type": "execute_result"
    },
    {
     "data": {
      "image/png": "[encoded data removed]",
      "text/plain": [
       "<Figure size 648x648 with 2 Axes>"
      ]
     },
     "metadata": {
      "needs_background": "light"
     },
     "output_type": "display_data"
    }
   ],
   "source": [
    "test_loss, test_acc = model.evaluate(x_test, y_test, verbose=0)\n",
    "print(test_loss, test_acc)\n",
    "pred_labels = model.predict(x_test)\n",
    "print('Classification report: ')\n",
    "print(classification_report(np.argmax(y_test, axis=1), np.argmax(pred_labels, axis=1)))\n",
    "print('Confusion matrix: ')\n",
    "print(confusion_matrix(np.argmax(y_test, axis=1), np.argmax(pred_labels, axis=1)))\n",
    "draw_hist(hist) \n",
    "plot_confusion_matrix(np.argmax(y_test, axis=1), np.argmax(pred_labels, axis=1), normalize=True, classes=[str(i) for i in range(10)])"
   ]
  },
  {
   "cell_type": "code",
   "execution_count": null,
   "metadata": {},
   "outputs": [],
   "source": []
  }
 ],
 "metadata": {
  "kernelspec": {
   "display_name": "Python 3",
   "language": "python",
   "name": "python3"
  },
  "language_info": {
   "codemirror_mode": {
    "name": "ipython",
    "version": 3
   },
   "file_extension": ".py",
   "mimetype": "text/x-python",
   "name": "python",
   "nbconvert_exporter": "python",
   "pygments_lexer": "ipython3",
   "version": "3.7.3"
  }
 },
 "nbformat": 4,
 "nbformat_minor": 4
}

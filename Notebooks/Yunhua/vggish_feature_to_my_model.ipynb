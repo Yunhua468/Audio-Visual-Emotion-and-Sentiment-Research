{
  "nbformat": 4,
  "nbformat_minor": 0,
  "metadata": {
    "colab": {
      "name": "vggish_feature_to_my_model.ipynb",
      "provenance": [],
      "collapsed_sections": []
    },
    "kernelspec": {
      "name": "python3",
      "display_name": "Python 3"
    }
  },
  "cells": [
    {
      "cell_type": "code",
      "metadata": {
        "id": "uoN-t0XHjbRv",
        "colab_type": "code",
        "colab": {}
      },
      "source": [
        "!wget -q https://www.dropbox.com/s/yigijs122togfk4/embeddings.dat?dl=1  -O embeddings.dat\n",
        "!wget -q https://www.dropbox.com/s/qdhtexle4p0ngc3/DatasetSplitCSV.zip?dl=1 -O DatasetSplitCSV.zip\n",
        "!unzip -q DatasetSplitCSV.zip"
      ],
      "execution_count": 0,
      "outputs": []
    },
    {
      "cell_type": "code",
      "metadata": {
        "id": "paH9QoyGlH6-",
        "colab_type": "code",
        "colab": {
          "base_uri": "https://localhost:8080/",
          "height": 139
        },
        "outputId": "96375f8f-1ef4-4481-8f84-4cf632d6db28"
      },
      "source": [
        "!pip install speechpy"
      ],
      "execution_count": 19,
      "outputs": [
        {
          "output_type": "stream",
          "text": [
            "Collecting speechpy\n",
            "  Downloading https://files.pythonhosted.org/packages/8f/12/dbda397a998063d9541d9e149c4f523ed138a48824d20598e37632ba33b1/speechpy-2.4-py2.py3-none-any.whl\n",
            "Requirement already satisfied: numpy in /usr/local/lib/python3.6/dist-packages (from speechpy) (1.18.4)\n",
            "Requirement already satisfied: scipy in /usr/local/lib/python3.6/dist-packages (from speechpy) (1.4.1)\n",
            "Installing collected packages: speechpy\n",
            "Successfully installed speechpy-2.4\n"
          ],
          "name": "stdout"
        }
      ]
    },
    {
      "cell_type": "code",
      "metadata": {
        "id": "eQNgb6CrlA4a",
        "colab_type": "code",
        "colab": {}
      },
      "source": [
        "import os\n",
        "import pandas as pd\n",
        "import numpy as np\n",
        "from tqdm import tqdm\n",
        "import scipy.io.wavfile as wav\n",
        "from speechpy.feature import mfcc\n",
        "import librosa\n",
        "import matplotlib.pyplot as plt\n",
        "from sklearn.model_selection import train_test_split\n",
        "from sklearn.metrics import accuracy_score\n",
        "from sklearn.metrics import confusion_matrix\n",
        "from sklearn.metrics import classification_report\n",
        "\n",
        "import tensorflow as tf\n",
        "from tensorflow.keras import layers\n",
        "from tensorflow.keras import models\n",
        "from tensorflow.keras import backend as K\n",
        "from tensorflow.keras.callbacks import ReduceLROnPlateau\n",
        "from tensorflow import keras\n",
        "from keras.utils import np_utils\n",
        "from sklearn.utils.multiclass import unique_labels"
      ],
      "execution_count": 0,
      "outputs": []
    },
    {
      "cell_type": "code",
      "metadata": {
        "id": "m00MCw1pjern",
        "colab_type": "code",
        "colab": {}
      },
      "source": [
        "params={}\n",
        "params[\"embeddingType\"]=\"raw\" # post\n",
        "params[\"mapReduceFunc\"]=\"Pad\" # Avg"
      ],
      "execution_count": 0,
      "outputs": []
    },
    {
      "cell_type": "code",
      "metadata": {
        "id": "R-D94ESqjeu5",
        "colab_type": "code",
        "colab": {}
      },
      "source": [
        "def mapReduce(embed,funcName):\n",
        "    if funcName==\"Avg\":\n",
        "        embed=np.average(embed,axis=0)\n",
        "    if funcName==\"Pad\":\n",
        "        embed=np.pad(embed, [( 0,6-embed.shape[0]), (0, 0)], mode='constant', constant_values=0)\n",
        "        embed=embed.reshape(-1)\n",
        "    return embed"
      ],
      "execution_count": 0,
      "outputs": []
    },
    {
      "cell_type": "code",
      "metadata": {
        "id": "X-xCmJ9-jeyU",
        "colab_type": "code",
        "colab": {}
      },
      "source": [
        "train=pd.read_csv(\"train.csv\",header=None)\n",
        "valid=pd.read_csv(\"valid.csv\",header=None)\n",
        "test=pd.read_csv(\"test.csv\",header=None)\n",
        "embeddings=np.load(\"embeddings.dat\",allow_pickle=True)"
      ],
      "execution_count": 0,
      "outputs": []
    },
    {
      "cell_type": "code",
      "metadata": {
        "id": "mhUD5jcKje11",
        "colab_type": "code",
        "colab": {
          "base_uri": "https://localhost:8080/",
          "height": 34
        },
        "outputId": "e0142e7a-d24e-4d7d-86a6-1e79f1fe0aba"
      },
      "source": [
        "embeddings[\"post\"]['03-02-04-01-02-02-02.wav'].dtype"
      ],
      "execution_count": 7,
      "outputs": [
        {
          "output_type": "execute_result",
          "data": {
            "text/plain": [
              "dtype('uint8')"
            ]
          },
          "metadata": {
            "tags": []
          },
          "execution_count": 7
        }
      ]
    },
    {
      "cell_type": "code",
      "metadata": {
        "id": "Kou4TSvKje5B",
        "colab_type": "code",
        "colab": {
          "base_uri": "https://localhost:8080/",
          "height": 34
        },
        "outputId": "e8d8b0b4-507d-4a3c-bb4b-7a549c697a16"
      },
      "source": [
        "list(embeddings['raw'].keys())[2000]"
      ],
      "execution_count": 8,
      "outputs": [
        {
          "output_type": "execute_result",
          "data": {
            "text/plain": [
              "'03-02-04-01-02-02-02.wav'"
            ]
          },
          "metadata": {
            "tags": []
          },
          "execution_count": 8
        }
      ]
    },
    {
      "cell_type": "code",
      "metadata": {
        "id": "oYVL_4SKje9a",
        "colab_type": "code",
        "colab": {}
      },
      "source": [
        "x_train=[]\n",
        "x_val=[]\n",
        "x_test=[]\n",
        "for x in train[0]:\n",
        "    embed=embeddings[params[\"embeddingType\"]][x]\n",
        "    x_train.append(mapReduce(embed,params[\"mapReduceFunc\"]))\n",
        "\n",
        "for x in valid[0]:\n",
        "    embed=embeddings[params[\"embeddingType\"]][x]\n",
        "    x_val.append(mapReduce(embed,params[\"mapReduceFunc\"]))\n",
        "\n",
        "for x in test[0]:\n",
        "    embed=embeddings[params[\"embeddingType\"]][x]\n",
        "    x_test.append(mapReduce(embed,params[\"mapReduceFunc\"]))\n",
        "x_train=np.array(x_train)\n",
        "x_val=np.array(x_val)\n",
        "x_test=np.array(x_test)\n",
        "\n",
        "y_train=np.array(train[1].astype('category').cat.codes)\n",
        "y_val=np.array(valid[1].astype('category').cat.codes)\n",
        "y_test=np.array(test[1].astype('category').cat.codes)"
      ],
      "execution_count": 0,
      "outputs": []
    },
    {
      "cell_type": "code",
      "metadata": {
        "id": "S5Iis5zk3RBn",
        "colab_type": "code",
        "colab": {
          "base_uri": "https://localhost:8080/",
          "height": 34
        },
        "outputId": "48055450-99c1-4406-996a-e575b37281d8"
      },
      "source": [
        "x_train[0].shape"
      ],
      "execution_count": 57,
      "outputs": [
        {
          "output_type": "execute_result",
          "data": {
            "text/plain": [
              "(768,)"
            ]
          },
          "metadata": {
            "tags": []
          },
          "execution_count": 57
        }
      ]
    },
    {
      "cell_type": "code",
      "metadata": {
        "id": "ygpVCfSDnj_j",
        "colab_type": "code",
        "colab": {}
      },
      "source": [
        "inputs = keras.Input(shape=(x_train.shape[-1],), name=\"log-mel\")\n",
        "x = tf.keras.layers.Reshape((6, 128), input_shape=(x_train.shape[-1],))(inputs)\n",
        "x = layers.LSTM(128,input_shape=((6,128)))(x)\n",
        "# x = layers.Dense(64, activation=\"tanh\", name=\"dense_1\")(inputs)\n",
        "x = layers.BatchNormalization()(x)\n",
        "x = layers.Dropout(0.5)(x)\n",
        "x = layers.Dense(32, activation=\"relu\", name=\"dense_2\")(x)\n",
        "x = layers.Dense(16, activation=\"tanh\", name=\"dense_3\")(x)\n",
        "x = layers.Dense(8, activation=\"softmax\", name=\"dense_4\")(x)"
      ],
      "execution_count": 0,
      "outputs": []
    },
    {
      "cell_type": "code",
      "metadata": {
        "id": "KzsMqWEn4C2H",
        "colab_type": "code",
        "colab": {}
      },
      "source": [
        "model.compile(optimizer=keras.optimizers.Adam(),\n",
        "              loss=keras.losses.SparseCategoricalCrossentropy(from_logits=True),\n",
        "              metrics=[keras.metrics.sparse_categorical_accuracy])"
      ],
      "execution_count": 0,
      "outputs": []
    },
    {
      "cell_type": "code",
      "metadata": {
        "id": "pUlpYshM3thk",
        "colab_type": "code",
        "colab": {
          "base_uri": "https://localhost:8080/",
          "height": 1000
        },
        "outputId": "2cd7f877-0876-40b9-af01-8d87c2a49cef"
      },
      "source": [
        "history = model.fit(x_train, y_train,\n",
        "                    batch_size=64,\n",
        "                    epochs=34,\n",
        "                    validation_data=(x_val, y_val))"
      ],
      "execution_count": 71,
      "outputs": [
        {
          "output_type": "stream",
          "text": [
            "Epoch 1/34\n",
            "23/23 [==============================] - 0s 17ms/step - loss: 1.5156 - sparse_categorical_accuracy: 0.7619 - val_loss: 1.8128 - val_sparse_categorical_accuracy: 0.4623\n",
            "Epoch 2/34\n",
            "23/23 [==============================] - 0s 18ms/step - loss: 1.5125 - sparse_categorical_accuracy: 0.7646 - val_loss: 1.8044 - val_sparse_categorical_accuracy: 0.4664\n",
            "Epoch 3/34\n",
            "23/23 [==============================] - 0s 17ms/step - loss: 1.5218 - sparse_categorical_accuracy: 0.7531 - val_loss: 1.8031 - val_sparse_categorical_accuracy: 0.4644\n",
            "Epoch 4/34\n",
            "23/23 [==============================] - 0s 17ms/step - loss: 1.5245 - sparse_categorical_accuracy: 0.7551 - val_loss: 1.7872 - val_sparse_categorical_accuracy: 0.4847\n",
            "Epoch 5/34\n",
            "23/23 [==============================] - 0s 16ms/step - loss: 1.5086 - sparse_categorical_accuracy: 0.7701 - val_loss: 1.8173 - val_sparse_categorical_accuracy: 0.4521\n",
            "Epoch 6/34\n",
            "23/23 [==============================] - 0s 17ms/step - loss: 1.5139 - sparse_categorical_accuracy: 0.7653 - val_loss: 1.7894 - val_sparse_categorical_accuracy: 0.4847\n",
            "Epoch 7/34\n",
            "23/23 [==============================] - 0s 17ms/step - loss: 1.5082 - sparse_categorical_accuracy: 0.7687 - val_loss: 1.7731 - val_sparse_categorical_accuracy: 0.4969\n",
            "Epoch 8/34\n",
            "23/23 [==============================] - 0s 17ms/step - loss: 1.5010 - sparse_categorical_accuracy: 0.7776 - val_loss: 1.7810 - val_sparse_categorical_accuracy: 0.4908\n",
            "Epoch 9/34\n",
            "23/23 [==============================] - 0s 17ms/step - loss: 1.5217 - sparse_categorical_accuracy: 0.7551 - val_loss: 1.7733 - val_sparse_categorical_accuracy: 0.5010\n",
            "Epoch 10/34\n",
            "23/23 [==============================] - 0s 17ms/step - loss: 1.5213 - sparse_categorical_accuracy: 0.7517 - val_loss: 1.8028 - val_sparse_categorical_accuracy: 0.4664\n",
            "Epoch 11/34\n",
            "23/23 [==============================] - 0s 17ms/step - loss: 1.5447 - sparse_categorical_accuracy: 0.7306 - val_loss: 1.8192 - val_sparse_categorical_accuracy: 0.4521\n",
            "Epoch 12/34\n",
            "23/23 [==============================] - 0s 17ms/step - loss: 1.5480 - sparse_categorical_accuracy: 0.7286 - val_loss: 1.7698 - val_sparse_categorical_accuracy: 0.5010\n",
            "Epoch 13/34\n",
            "23/23 [==============================] - 0s 17ms/step - loss: 1.5358 - sparse_categorical_accuracy: 0.7381 - val_loss: 1.7774 - val_sparse_categorical_accuracy: 0.4908\n",
            "Epoch 14/34\n",
            "23/23 [==============================] - 0s 16ms/step - loss: 1.5407 - sparse_categorical_accuracy: 0.7347 - val_loss: 1.7988 - val_sparse_categorical_accuracy: 0.4786\n",
            "Epoch 15/34\n",
            "23/23 [==============================] - 0s 18ms/step - loss: 1.5242 - sparse_categorical_accuracy: 0.7510 - val_loss: 1.7592 - val_sparse_categorical_accuracy: 0.5071\n",
            "Epoch 16/34\n",
            "23/23 [==============================] - 0s 20ms/step - loss: 1.5066 - sparse_categorical_accuracy: 0.7673 - val_loss: 1.7688 - val_sparse_categorical_accuracy: 0.5031\n",
            "Epoch 17/34\n",
            "23/23 [==============================] - 0s 19ms/step - loss: 1.5159 - sparse_categorical_accuracy: 0.7592 - val_loss: 1.7878 - val_sparse_categorical_accuracy: 0.4827\n",
            "Epoch 18/34\n",
            "23/23 [==============================] - 0s 17ms/step - loss: 1.5039 - sparse_categorical_accuracy: 0.7741 - val_loss: 1.7739 - val_sparse_categorical_accuracy: 0.4990\n",
            "Epoch 19/34\n",
            "23/23 [==============================] - 0s 16ms/step - loss: 1.5079 - sparse_categorical_accuracy: 0.7667 - val_loss: 1.7920 - val_sparse_categorical_accuracy: 0.4766\n",
            "Epoch 20/34\n",
            "23/23 [==============================] - 0s 17ms/step - loss: 1.5031 - sparse_categorical_accuracy: 0.7721 - val_loss: 1.7959 - val_sparse_categorical_accuracy: 0.4766\n",
            "Epoch 21/34\n",
            "23/23 [==============================] - 0s 16ms/step - loss: 1.5024 - sparse_categorical_accuracy: 0.7714 - val_loss: 1.8022 - val_sparse_categorical_accuracy: 0.4664\n",
            "Epoch 22/34\n",
            "23/23 [==============================] - 0s 19ms/step - loss: 1.4978 - sparse_categorical_accuracy: 0.7789 - val_loss: 1.7910 - val_sparse_categorical_accuracy: 0.4827\n",
            "Epoch 23/34\n",
            "23/23 [==============================] - 0s 20ms/step - loss: 1.4888 - sparse_categorical_accuracy: 0.7884 - val_loss: 1.7998 - val_sparse_categorical_accuracy: 0.4725\n",
            "Epoch 24/34\n",
            "23/23 [==============================] - 0s 20ms/step - loss: 1.5152 - sparse_categorical_accuracy: 0.7599 - val_loss: 1.8111 - val_sparse_categorical_accuracy: 0.4623\n",
            "Epoch 25/34\n",
            "23/23 [==============================] - 0s 17ms/step - loss: 1.5224 - sparse_categorical_accuracy: 0.7531 - val_loss: 1.8074 - val_sparse_categorical_accuracy: 0.4644\n",
            "Epoch 26/34\n",
            "23/23 [==============================] - 0s 16ms/step - loss: 1.5071 - sparse_categorical_accuracy: 0.7694 - val_loss: 1.7927 - val_sparse_categorical_accuracy: 0.4766\n",
            "Epoch 27/34\n",
            "23/23 [==============================] - 0s 18ms/step - loss: 1.4922 - sparse_categorical_accuracy: 0.7837 - val_loss: 1.7766 - val_sparse_categorical_accuracy: 0.4969\n",
            "Epoch 28/34\n",
            "23/23 [==============================] - 0s 18ms/step - loss: 1.4924 - sparse_categorical_accuracy: 0.7837 - val_loss: 1.7624 - val_sparse_categorical_accuracy: 0.5132\n",
            "Epoch 29/34\n",
            "23/23 [==============================] - 0s 18ms/step - loss: 1.4946 - sparse_categorical_accuracy: 0.7816 - val_loss: 1.7866 - val_sparse_categorical_accuracy: 0.4807\n",
            "Epoch 30/34\n",
            "23/23 [==============================] - 0s 17ms/step - loss: 1.4927 - sparse_categorical_accuracy: 0.7844 - val_loss: 1.7724 - val_sparse_categorical_accuracy: 0.5010\n",
            "Epoch 31/34\n",
            "23/23 [==============================] - 0s 17ms/step - loss: 1.4794 - sparse_categorical_accuracy: 0.7946 - val_loss: 1.7822 - val_sparse_categorical_accuracy: 0.4868\n",
            "Epoch 32/34\n",
            "23/23 [==============================] - 0s 17ms/step - loss: 1.5017 - sparse_categorical_accuracy: 0.7741 - val_loss: 1.7869 - val_sparse_categorical_accuracy: 0.4786\n",
            "Epoch 33/34\n",
            "23/23 [==============================] - 0s 19ms/step - loss: 1.4980 - sparse_categorical_accuracy: 0.7769 - val_loss: 1.7797 - val_sparse_categorical_accuracy: 0.4908\n",
            "Epoch 34/34\n",
            "23/23 [==============================] - 0s 18ms/step - loss: 1.4962 - sparse_categorical_accuracy: 0.7810 - val_loss: 1.7915 - val_sparse_categorical_accuracy: 0.4807\n"
          ],
          "name": "stdout"
        }
      ]
    },
    {
      "cell_type": "code",
      "metadata": {
        "id": "JAPJazPYj1Qo",
        "colab_type": "code",
        "colab": {}
      },
      "source": [
        "def draw_hist(hist):\n",
        "    acc = hist.history['accuracy']\n",
        "    val_acc = hist.history['val_accuracy']\n",
        "    loss = hist.history['loss']\n",
        "    val_loss = hist.history['val_loss']\n",
        "\n",
        "    epochs = range(1, len(acc) + 1)\n",
        "\n",
        "    # \"bo\" is for \"blue dot\"\n",
        "    plt.figure(figsize=(8, 4.5))\n",
        "    plt.plot(epochs, loss, 'bo', label='Training loss')\n",
        "    # b is for \"solid blue line\"\n",
        "    plt.plot(epochs, val_loss, 'b', label='Validation loss')\n",
        "    plt.title('Training and validation loss')\n",
        "    plt.xlabel('Epochs')\n",
        "    plt.ylabel('Loss')\n",
        "    plt.legend()\n",
        "    plt.show()\n",
        "\n",
        "    plt.clf()   # clear figure\n",
        "    acc_values = acc\n",
        "    val_acc_values = val_acc\n",
        "\n",
        "    plt.figure(figsize=(8, 4.5))\n",
        "    plt.plot(epochs, acc, 'bo', label='Training acc')\n",
        "    plt.plot(epochs, val_acc, 'b', label='Validation acc')\n",
        "    plt.title('Training and validation accuracy')\n",
        "    plt.xlabel('Epochs')\n",
        "    plt.ylabel('Loss')\n",
        "    plt.legend()\n",
        "    plt.show()"
      ],
      "execution_count": 0,
      "outputs": []
    },
    {
      "cell_type": "code",
      "metadata": {
        "id": "e_ypnnFr63Qu",
        "colab_type": "code",
        "colab": {}
      },
      "source": [
        "def plot_confusion_matrix(y_true, y_pred, classes,\n",
        "                          normalize=False,\n",
        "                          title=None,\n",
        "                          cmap=plt.cm.Blues):\n",
        "    \"\"\"\n",
        "    This function prints and plots the confusion matrix.\n",
        "    Normalization can be applied by setting `normalize=True`.\n",
        "    \"\"\"\n",
        "    if not title:\n",
        "        if normalize:\n",
        "            title = 'Normalized confusion matrix'\n",
        "        else:\n",
        "            title = 'Confusion matrix, without normalization'\n",
        "\n",
        "    # Compute confusion matrix\n",
        "    cm = confusion_matrix(y_true, y_pred)\n",
        "    # Only use the labels that appear in the data\n",
        "\n",
        "    print('unique labels:', unique_labels(y_true, y_pred))\n",
        "    classes = np.array(classes)[unique_labels(y_true, y_pred)]\n",
        "    if normalize:\n",
        "        cm = cm.astype('float') / cm.sum(axis=1)[:, np.newaxis]\n",
        "        print(\"Normalized confusion matrix\")\n",
        "    else:\n",
        "        print('Confusion matrix, without normalization')\n",
        "\n",
        "\n",
        "    fig, ax = plt.subplots()\n",
        "    fig.set_figheight(9)\n",
        "    fig.set_figwidth(9)\n",
        "    im = ax.imshow(cm, interpolation='nearest', cmap=cmap)\n",
        "    ax.figure.colorbar(im, ax=ax)\n",
        "    # We want to show all ticks...\n",
        "    ax.set(xticks=np.arange(cm.shape[1]),\n",
        "           yticks=np.arange(cm.shape[0]),\n",
        "           # ... and label them with the respective list entries\n",
        "           xticklabels=classes, yticklabels=classes,\n",
        "           title=title,\n",
        "           ylabel='True label',\n",
        "           xlabel='Predicted label')\n",
        "\n",
        "    # Rotate the tick labels and set their alignment.\n",
        "    plt.setp(ax.get_xticklabels(), rotation=45, ha=\"right\",\n",
        "             rotation_mode=\"anchor\")\n",
        "\n",
        "    # Loop over data dimensions and create text annotations.\n",
        "    fmt = '.2f' if normalize else 'd'\n",
        "    thresh = cm.max() / 2.\n",
        "    for i in range(cm.shape[0]):\n",
        "        for j in range(cm.shape[1]):\n",
        "            ax.text(j, i, format(cm[i, j], fmt),\n",
        "                    ha=\"center\", va=\"center\",\n",
        "                    color=\"white\" if cm[i, j] > thresh else \"black\")\n",
        "    fig.tight_layout()\n",
        "    return ax"
      ],
      "execution_count": 0,
      "outputs": []
    },
    {
      "cell_type": "code",
      "metadata": {
        "id": "9tXWehLi65yM",
        "colab_type": "code",
        "colab": {
          "base_uri": "https://localhost:8080/",
          "height": 34
        },
        "outputId": "2cd53148-53af-4a2d-a5bd-ed9c86212aba"
      },
      "source": [
        "test_loss, test_acc = model.evaluate(x_test, y_test, batch_size=128, verbose=0)\n",
        "print(test_loss, test_acc)"
      ],
      "execution_count": 75,
      "outputs": [
        {
          "output_type": "stream",
          "text": [
            "1.7774624824523926 0.4887983798980713\n"
          ],
          "name": "stdout"
        }
      ]
    },
    {
      "cell_type": "code",
      "metadata": {
        "id": "iNzJ6ath657o",
        "colab_type": "code",
        "colab": {}
      },
      "source": [
        ""
      ],
      "execution_count": 0,
      "outputs": []
    },
    {
      "cell_type": "code",
      "metadata": {
        "id": "w0KgVLw6j1Tx",
        "colab_type": "code",
        "colab": {}
      },
      "source": [
        ""
      ],
      "execution_count": 0,
      "outputs": []
    },
    {
      "cell_type": "code",
      "metadata": {
        "id": "eyhc3GF7j1XC",
        "colab_type": "code",
        "colab": {}
      },
      "source": [
        ""
      ],
      "execution_count": 0,
      "outputs": []
    }
  ]
}
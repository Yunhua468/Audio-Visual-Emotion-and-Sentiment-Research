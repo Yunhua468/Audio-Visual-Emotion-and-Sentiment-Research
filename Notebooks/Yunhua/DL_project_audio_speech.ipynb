{
 "cells": [
  {
   "cell_type": "code",
   "execution_count": 69,
   "metadata": {},
   "outputs": [
    {
     "name": "stderr",
     "output_type": "stream",
     "text": [
      "Using TensorFlow backend.\n"
     ]
    }
   ],
   "source": [
    "import os\n",
    "import pandas as pd\n",
    "import numpy as np\n",
    "from tqdm import tqdm\n",
    "import scipy.io.wavfile as wav\n",
    "from speechpy.feature import mfcc\n",
    "import librosa\n",
    "import matplotlib.pyplot as plt\n",
    "from sklearn.model_selection import train_test_split\n",
    "from sklearn.metrics import accuracy_score\n",
    "from sklearn.metrics import confusion_matrix\n",
    "from sklearn.metrics import classification_report\n",
    "\n",
    "import tensorflow as tf\n",
    "from tensorflow.keras import layers\n",
    "from tensorflow.keras import models\n",
    "from tensorflow.keras import backend as K\n",
    "from tensorflow.keras.callbacks import ReduceLROnPlateau\n",
    "from tensorflow import keras\n",
    "from keras.utils import np_utils\n",
    "from sklearn.utils.multiclass import unique_labels"
   ]
  },
  {
   "cell_type": "markdown",
   "metadata": {},
   "source": [
    "**Load the data set**"
   ]
  },
  {
   "cell_type": "code",
   "execution_count": 23,
   "metadata": {},
   "outputs": [],
   "source": [
    "FILEPATH = 'C:\\\\Users\\\\ZhaoY\\\\Downloads\\\\DL_Project\\\\dataset\\\\Audio_Speech_Actors_01-24\\\\'\n",
    "dir_list = os.listdir(FILEPATH)"
   ]
  },
  {
   "cell_type": "code",
   "execution_count": 24,
   "metadata": {},
   "outputs": [
    {
     "name": "stdout",
     "output_type": "stream",
     "text": [
      "C:\\Users\\ZhaoY\\Downloads\\DL_Project\\dataset\\Audio_Speech_Actors_01-24\\ hahaha\n"
     ]
    }
   ],
   "source": [
    "#get the paths\n",
    "dirts = []\n",
    "filepath_delete = True\n",
    "for root, dirt,file in os.walk(FILEPATH):\n",
    "    if filepath_delete == True:\n",
    "        print(root, \"hahaha\")\n",
    "        filepath_delete = False\n",
    "    else:\n",
    "        dirts.append(root)     "
   ]
  },
  {
   "cell_type": "code",
   "execution_count": 27,
   "metadata": {},
   "outputs": [],
   "source": [
    "#get the files in every path\n",
    "files = []\n",
    "for dirt in dirts:\n",
    "    for root, dt, file in os.walk(dirt):\n",
    "        for fl in file:\n",
    "            files.append(os.path.join(dirt,fl))  "
   ]
  },
  {
   "cell_type": "code",
   "execution_count": 28,
   "metadata": {},
   "outputs": [
    {
     "data": {
      "text/plain": [
       "'C:\\\\Users\\\\ZhaoY\\\\Downloads\\\\DL_Project\\\\dataset\\\\Audio_Speech_Actors_01-24\\\\Actor_01\\\\03-01-01-01-01-02-01.wav'"
      ]
     },
     "execution_count": 28,
     "metadata": {},
     "output_type": "execute_result"
    }
   ],
   "source": [
    "files[1]"
   ]
  },
  {
   "cell_type": "code",
   "execution_count": 29,
   "metadata": {},
   "outputs": [],
   "source": [
    "filename = []\n",
    "Actor = []\n",
    "for file in files:\n",
    "    filename.append(file.split('\\\\')[-1])\n",
    "    Actor.append(file.split('\\\\')[-2])"
   ]
  },
  {
   "cell_type": "code",
   "execution_count": 30,
   "metadata": {},
   "outputs": [
    {
     "data": {
      "text/plain": [
       "'03-01-01-01-01-01-01.wav'"
      ]
     },
     "execution_count": 30,
     "metadata": {},
     "output_type": "execute_result"
    }
   ],
   "source": [
    "filename[0]"
   ]
  },
  {
   "cell_type": "code",
   "execution_count": 33,
   "metadata": {},
   "outputs": [
    {
     "data": {
      "text/plain": [
       "'Actor_24'"
      ]
     },
     "execution_count": 33,
     "metadata": {},
     "output_type": "execute_result"
    }
   ],
   "source": [
    "Actor[-1]"
   ]
  },
  {
   "cell_type": "code",
   "execution_count": 153,
   "metadata": {},
   "outputs": [],
   "source": [
    "Modality = []\n",
    "Vocal_channel = []\n",
    "Emotion = []\n",
    "Emotional_intensity = []\n",
    "Statement = []\n",
    "Repetition = []\n",
    "\n",
    "for name in filename:\n",
    "    Modality.append(name.split('-')[0])\n",
    "    Vocal_channel.append(name.split('-')[1])\n",
    "    Emotion.append(int(name.split('-')[2])-1)\n",
    "    Emotional_intensity.append(name.split('-')[3])\n",
    "    Statement.append(name.split('-')[4])\n",
    "    Repetition.append(name.split('-')[5])"
   ]
  },
  {
   "cell_type": "code",
   "execution_count": 154,
   "metadata": {},
   "outputs": [],
   "source": [
    "df = pd.DataFrame({'files': files, \n",
    "                   'modalities': Modality,\n",
    "                   'vocal_channels': Vocal_channel, \n",
    "                   'emotions': Emotion,\n",
    "                   'emotional_intensities': Emotional_intensity,\n",
    "                   'statements': Statement,\n",
    "                   'repetitiona': Repetition})"
   ]
  },
  {
   "cell_type": "code",
   "execution_count": 155,
   "metadata": {},
   "outputs": [
    {
     "data": {
      "text/html": [
       "<div>\n",
       "<style scoped>\n",
       "    .dataframe tbody tr th:only-of-type {\n",
       "        vertical-align: middle;\n",
       "    }\n",
       "\n",
       "    .dataframe tbody tr th {\n",
       "        vertical-align: top;\n",
       "    }\n",
       "\n",
       "    .dataframe thead th {\n",
       "        text-align: right;\n",
       "    }\n",
       "</style>\n",
       "<table border=\"1\" class=\"dataframe\">\n",
       "  <thead>\n",
       "    <tr style=\"text-align: right;\">\n",
       "      <th></th>\n",
       "      <th>files</th>\n",
       "      <th>modalities</th>\n",
       "      <th>vocal_channels</th>\n",
       "      <th>emotions</th>\n",
       "      <th>emotional_intensities</th>\n",
       "      <th>statements</th>\n",
       "      <th>repetitiona</th>\n",
       "    </tr>\n",
       "  </thead>\n",
       "  <tbody>\n",
       "    <tr>\n",
       "      <th>0</th>\n",
       "      <td>C:\\Users\\ZhaoY\\Downloads\\DL_Project\\dataset\\Au...</td>\n",
       "      <td>03</td>\n",
       "      <td>01</td>\n",
       "      <td>0</td>\n",
       "      <td>01</td>\n",
       "      <td>01</td>\n",
       "      <td>01</td>\n",
       "    </tr>\n",
       "  </tbody>\n",
       "</table>\n",
       "</div>"
      ],
      "text/plain": [
       "                                               files modalities  \\\n",
       "0  C:\\Users\\ZhaoY\\Downloads\\DL_Project\\dataset\\Au...         03   \n",
       "\n",
       "  vocal_channels  emotions emotional_intensities statements repetitiona  \n",
       "0             01         0                    01         01          01  "
      ]
     },
     "execution_count": 155,
     "metadata": {},
     "output_type": "execute_result"
    }
   ],
   "source": [
    "df.head(1)"
   ]
  },
  {
   "cell_type": "code",
   "execution_count": 156,
   "metadata": {},
   "outputs": [
    {
     "name": "stdout",
     "output_type": "stream",
     "text": [
      "<class 'pandas.core.frame.DataFrame'>\n",
      "RangeIndex: 1440 entries, 0 to 1439\n",
      "Data columns (total 7 columns):\n",
      "files                    1440 non-null object\n",
      "modalities               1440 non-null object\n",
      "vocal_channels           1440 non-null object\n",
      "emotions                 1440 non-null int64\n",
      "emotional_intensities    1440 non-null object\n",
      "statements               1440 non-null object\n",
      "repetitiona              1440 non-null object\n",
      "dtypes: int64(1), object(6)\n",
      "memory usage: 78.8+ KB\n"
     ]
    }
   ],
   "source": [
    "df.info()"
   ]
  },
  {
   "cell_type": "code",
   "execution_count": 157,
   "metadata": {},
   "outputs": [
    {
     "data": {
      "text/plain": [
       "7    192\n",
       "6    192\n",
       "5    192\n",
       "4    192\n",
       "3    192\n",
       "2    192\n",
       "1    192\n",
       "0     96\n",
       "Name: emotions, dtype: int64"
      ]
     },
     "execution_count": 157,
     "metadata": {},
     "output_type": "execute_result"
    }
   ],
   "source": [
    "df.emotions.value_counts()"
   ]
  },
  {
   "cell_type": "code",
   "execution_count": 177,
   "metadata": {},
   "outputs": [
    {
     "data": {
      "text/plain": [
       "(array([ 96., 192., 192.,   0., 192., 192.,   0., 192., 192., 192.]),\n",
       " array([0. , 0.7, 1.4, 2.1, 2.8, 3.5, 4.2, 4.9, 5.6, 6.3, 7. ]),\n",
       " <a list of 10 Patch objects>)"
      ]
     },
     "execution_count": 177,
     "metadata": {},
     "output_type": "execute_result"
    },
    {
     "data": {
      "image/png": "[encoded data removed]",
      "text/plain": [
       "<Figure size 432x288 with 1 Axes>"
      ]
     },
     "metadata": {
      "needs_background": "light"
     },
     "output_type": "display_data"
    }
   ],
   "source": [
    "plt.hist(df.emotions)"
   ]
  },
  {
   "cell_type": "code",
   "execution_count": 144,
   "metadata": {},
   "outputs": [
    {
     "name": "stdout",
     "output_type": "stream",
     "text": [
      "1440\n"
     ]
    }
   ],
   "source": [
    "print(len(files))"
   ]
  },
  {
   "cell_type": "code",
   "execution_count": 95,
   "metadata": {},
   "outputs": [],
   "source": [
    "mean_signal_length = 0\n",
    "signals = []\n",
    "for fname in files:\n",
    "    signal, fs = librosa.load(fname, sr=16000, mono=True)\n",
    "    mean_signal_length += len(signal)\n",
    "    signals.append(signal)\n",
    "mean_signal_length = mean_signal_length/(len(files))"
   ]
  },
  {
   "cell_type": "code",
   "execution_count": 98,
   "metadata": {
    "scrolled": true
   },
   "outputs": [
    {
     "name": "stdout",
     "output_type": "stream",
     "text": [
      "59210\n"
     ]
    }
   ],
   "source": [
    "mean_signal_length = int(mean_signal_length) \n",
    "print(mean_signal_length)"
   ]
  },
  {
   "cell_type": "code",
   "execution_count": 145,
   "metadata": {},
   "outputs": [],
   "source": [
    "def get_feature_vector_from_mfcc(signal, mean_signal_length: int, flatten: bool) -> np.ndarray:\n",
    "    \"\"\"\n",
    "    Make feature vector from MFCC for the given wav file.\n",
    "\n",
    "    Args:\n",
    "        file_path (str): path to the .wav file that needs to be read.\n",
    "        flatten (bool) : Boolean indicating whether to flatten mfcc obtained.\n",
    "        mfcc_len (int): Number of cepestral co efficients to be consider.\n",
    "\n",
    "    Returns:\n",
    "        numpy.ndarray: feature vector of the wav file made from mfcc.\n",
    "    \"\"\"\n",
    "    #fs, signal = wav.read(file_path)\n",
    "    #signal, fs = librosa.load(file_path, sr=16000, mono=True)\n",
    "    s_len = len(signal)\n",
    "\n",
    "    # pad the signals to have same size if lesser than required\n",
    "    # else slice them    \n",
    "    \n",
    "    if s_len < mean_signal_length:\n",
    "        pad_len = mean_signal_length - s_len\n",
    "        pad_rem = pad_len % 2\n",
    "        pad_len //= 2\n",
    "        signal = np.pad(signal, (pad_len, pad_len + pad_rem),\n",
    "                        'constant', constant_values=0)\n",
    "    else:\n",
    "        pad_len = s_len - mean_signal_length\n",
    "        pad_len //= 2\n",
    "        signal = signal[pad_len:pad_len + mean_signal_length]\n",
    "        \n",
    "    # sample/frame = mean_signal_length*frame_length\n",
    "    mel_coefficients = mfcc(signal, fs, frame_length=0.048, frame_stride=0.024, num_filters=30, num_cepstral=30, low_frequency=60, high_frequency=7600)\n",
    "    if flatten:\n",
    "        # Flatten the data\n",
    "        mel_coefficients = np.ravel(mel_coefficients)\n",
    "    return mel_coefficients"
   ]
  },
  {
   "cell_type": "code",
   "execution_count": 146,
   "metadata": {},
   "outputs": [],
   "source": [
    "features = []\n",
    "for signal in signals:\n",
    "    features.append(get_feature_vector_from_mfcc(signal, mean_signal_length, flatten=False))"
   ]
  },
  {
   "cell_type": "code",
   "execution_count": 158,
   "metadata": {},
   "outputs": [
    {
     "data": {
      "text/plain": [
       "array([[-36.04365339,   0.        ,   0.        , ...,   0.        ,\n",
       "          0.        ,   0.        ],\n",
       "       [-36.04365339,   0.        ,   0.        , ...,   0.        ,\n",
       "          0.        ,   0.        ],\n",
       "       [-36.04365339,   0.        ,   0.        , ...,   0.        ,\n",
       "          0.        ,   0.        ],\n",
       "       ...,\n",
       "       [-36.04365339,   0.        ,   0.        , ...,   0.        ,\n",
       "          0.        ,   0.        ],\n",
       "       [-36.04365339,   0.        ,   0.        , ...,   0.        ,\n",
       "          0.        ,   0.        ],\n",
       "       [-36.04365339,   0.        ,   0.        , ...,   0.        ,\n",
       "          0.        ,   0.        ]])"
      ]
     },
     "execution_count": 158,
     "metadata": {},
     "output_type": "execute_result"
    }
   ],
   "source": [
    "features[0]"
   ]
  },
  {
   "cell_type": "code",
   "execution_count": 159,
   "metadata": {},
   "outputs": [
    {
     "data": {
      "text/plain": [
       "<matplotlib.image.AxesImage at 0x1af4ebfb828>"
      ]
     },
     "execution_count": 159,
     "metadata": {},
     "output_type": "execute_result"
    },
    {
     "data": {
      "image/png": "[encoded data removed]",
      "text/plain": [
       "<Figure size 432x288 with 1 Axes>"
      ]
     },
     "metadata": {
      "needs_background": "light"
     },
     "output_type": "display_data"
    }
   ],
   "source": [
    "plt.imshow(features[0].T)"
   ]
  },
  {
   "cell_type": "code",
   "execution_count": 149,
   "metadata": {},
   "outputs": [
    {
     "data": {
      "text/plain": [
       "(1440, 152, 30)"
      ]
     },
     "execution_count": 149,
     "metadata": {},
     "output_type": "execute_result"
    }
   ],
   "source": [
    "#need to stack these features, so need to add one demenssion\n",
    "features = np.vstack([feature[np.newaxis, :, :] for feature in features])\n",
    "features.shape"
   ]
  },
  {
   "cell_type": "code",
   "execution_count": 160,
   "metadata": {},
   "outputs": [
    {
     "data": {
      "text/plain": [
       "array([0, 1, 2, 3, 4, 5, 6, 7])"
      ]
     },
     "execution_count": 160,
     "metadata": {},
     "output_type": "execute_result"
    }
   ],
   "source": [
    "np.unique(Emotion)"
   ]
  },
  {
   "cell_type": "code",
   "execution_count": 161,
   "metadata": {},
   "outputs": [],
   "source": [
    "#one hot code, it is classification not logistic regression, so change numbers to one hot code\n",
    "labels = np_utils.to_categorical(Emotion)"
   ]
  },
  {
   "cell_type": "code",
   "execution_count": 162,
   "metadata": {},
   "outputs": [
    {
     "data": {
      "text/plain": [
       "(1440, 8)"
      ]
     },
     "execution_count": 162,
     "metadata": {},
     "output_type": "execute_result"
    }
   ],
   "source": [
    "labels.shape"
   ]
  },
  {
   "cell_type": "code",
   "execution_count": 163,
   "metadata": {},
   "outputs": [],
   "source": [
    "x_train, x_test, y_train, y_test = train_test_split(features, labels, test_size=0.2, random_state=42)"
   ]
  },
  {
   "cell_type": "code",
   "execution_count": 170,
   "metadata": {},
   "outputs": [],
   "source": [
    "def build_model(input_shape, num_classes):\n",
    "    model = models.Sequential()\n",
    "    model.add(layers.LSTM(128, input_shape=(input_shape[0], input_shape[1])))\n",
    "    model.add(layers.BatchNormalization())\n",
    "    model.add(layers.Dropout(0.5))\n",
    "    model.add(layers.Dense(32, activation='relu'))\n",
    "    model.add(layers.Dense(16, activation='tanh'))\n",
    "    model.add(layers.Dense(num_classes, activation='softmax'))\n",
    "    model.compile(loss='categorical_crossentropy',\n",
    "                  optimizer='adam',\n",
    "                  metrics=['accuracy'])\n",
    "    return model"
   ]
  },
  {
   "cell_type": "code",
   "execution_count": 171,
   "metadata": {},
   "outputs": [],
   "source": [
    "model = build_model(input_shape=(features.shape[1], features.shape[2]), num_classes=labels.shape[1])"
   ]
  },
  {
   "cell_type": "code",
   "execution_count": 172,
   "metadata": {},
   "outputs": [
    {
     "data": {
      "text/plain": [
       "(1440, 8)"
      ]
     },
     "execution_count": 172,
     "metadata": {},
     "output_type": "execute_result"
    }
   ],
   "source": [
    "labels.shape"
   ]
  },
  {
   "cell_type": "code",
   "execution_count": 173,
   "metadata": {},
   "outputs": [
    {
     "data": {
      "text/plain": [
       "(1440, 152, 30)"
      ]
     },
     "execution_count": 173,
     "metadata": {},
     "output_type": "execute_result"
    }
   ],
   "source": [
    "features.shape"
   ]
  },
  {
   "cell_type": "code",
   "execution_count": 174,
   "metadata": {},
   "outputs": [],
   "source": [
    "lr_reducer = ReduceLROnPlateau(monitor='val_loss', \n",
    "                               factor=0.2,\n",
    "                               patience=5,\n",
    "                               min_lr=1e-6,\n",
    "                               verbose=1)"
   ]
  },
  {
   "cell_type": "code",
   "execution_count": 175,
   "metadata": {},
   "outputs": [
    {
     "name": "stdout",
     "output_type": "stream",
     "text": [
      "Train on 1152 samples, validate on 288 samples\n",
      "Epoch 1/100\n",
      "1152/1152 [==============================] - 10s 9ms/sample - loss: 2.2722 - accuracy: 0.1363 - val_loss: 2.0548 - val_accuracy: 0.1354\n",
      "Epoch 2/100\n",
      "1152/1152 [==============================] - 7s 6ms/sample - loss: 2.0824 - accuracy: 0.1788 - val_loss: 1.9923 - val_accuracy: 0.2118\n",
      "Epoch 3/100\n",
      "1152/1152 [==============================] - 7s 6ms/sample - loss: 1.9788 - accuracy: 0.2361 - val_loss: 1.9676 - val_accuracy: 0.2674\n",
      "Epoch 4/100\n",
      "1152/1152 [==============================] - 6s 6ms/sample - loss: 1.9126 - accuracy: 0.2743 - val_loss: 1.9170 - val_accuracy: 0.3056\n",
      "Epoch 5/100\n",
      "1152/1152 [==============================] - 7s 6ms/sample - loss: 1.7924 - accuracy: 0.3134 - val_loss: 1.6904 - val_accuracy: 0.3924\n",
      "Epoch 6/100\n",
      "1152/1152 [==============================] - 7s 6ms/sample - loss: 1.6446 - accuracy: 0.3906 - val_loss: 1.6251 - val_accuracy: 0.4132\n",
      "Epoch 7/100\n",
      "1152/1152 [==============================] - 7s 6ms/sample - loss: 1.5394 - accuracy: 0.4470 - val_loss: 1.6332 - val_accuracy: 0.3646\n",
      "Epoch 8/100\n",
      "1152/1152 [==============================] - 7s 6ms/sample - loss: 1.4676 - accuracy: 0.4766 - val_loss: 1.5345 - val_accuracy: 0.4375\n",
      "Epoch 9/100\n",
      "1152/1152 [==============================] - 7s 6ms/sample - loss: 1.3985 - accuracy: 0.4948 - val_loss: 1.5213 - val_accuracy: 0.4479\n",
      "Epoch 10/100\n",
      "1152/1152 [==============================] - 7s 6ms/sample - loss: 1.2657 - accuracy: 0.5720 - val_loss: 1.4928 - val_accuracy: 0.4479\n",
      "Epoch 11/100\n",
      "1152/1152 [==============================] - 7s 6ms/sample - loss: 1.1625 - accuracy: 0.5990 - val_loss: 1.4549 - val_accuracy: 0.4653\n",
      "Epoch 12/100\n",
      "1152/1152 [==============================] - 7s 6ms/sample - loss: 1.1110 - accuracy: 0.6207 - val_loss: 1.3622 - val_accuracy: 0.4688\n",
      "Epoch 13/100\n",
      "1152/1152 [==============================] - 8s 7ms/sample - loss: 1.0077 - accuracy: 0.6658 - val_loss: 1.3978 - val_accuracy: 0.4965\n",
      "Epoch 14/100\n",
      "1152/1152 [==============================] - 7s 6ms/sample - loss: 0.9914 - accuracy: 0.6510 - val_loss: 1.2372 - val_accuracy: 0.5694\n",
      "Epoch 15/100\n",
      "1152/1152 [==============================] - 7s 6ms/sample - loss: 0.9066 - accuracy: 0.6953 - val_loss: 1.1822 - val_accuracy: 0.5799\n",
      "Epoch 16/100\n",
      "1152/1152 [==============================] - 7s 6ms/sample - loss: 0.8683 - accuracy: 0.6997 - val_loss: 1.1777 - val_accuracy: 0.5590\n",
      "Epoch 17/100\n",
      "1152/1152 [==============================] - 7s 6ms/sample - loss: 0.7844 - accuracy: 0.7413 - val_loss: 1.1818 - val_accuracy: 0.5556\n",
      "Epoch 18/100\n",
      "1152/1152 [==============================] - 7s 6ms/sample - loss: 0.7125 - accuracy: 0.7630 - val_loss: 1.3141 - val_accuracy: 0.5556\n",
      "Epoch 19/100\n",
      "1152/1152 [==============================] - 7s 6ms/sample - loss: 0.6746 - accuracy: 0.7821 - val_loss: 1.2053 - val_accuracy: 0.5729\n",
      "Epoch 20/100\n",
      "1152/1152 [==============================] - 7s 6ms/sample - loss: 0.6130 - accuracy: 0.8021 - val_loss: 1.2719 - val_accuracy: 0.5729\n",
      "Epoch 21/100\n",
      "1120/1152 [============================>.] - ETA: 0s - loss: 0.6469 - accuracy: 0.7920\n",
      "Epoch 00021: ReduceLROnPlateau reducing learning rate to 0.00020000000949949026.\n",
      "1152/1152 [==============================] - 7s 6ms/sample - loss: 0.6444 - accuracy: 0.7917 - val_loss: 1.2788 - val_accuracy: 0.5972\n",
      "Epoch 22/100\n",
      "1152/1152 [==============================] - 7s 6ms/sample - loss: 0.5522 - accuracy: 0.8212 - val_loss: 1.0899 - val_accuracy: 0.6146\n",
      "Epoch 23/100\n",
      "1152/1152 [==============================] - 8s 7ms/sample - loss: 0.4576 - accuracy: 0.8568 - val_loss: 1.0519 - val_accuracy: 0.6424\n",
      "Epoch 24/100\n",
      "1152/1152 [==============================] - 7s 6ms/sample - loss: 0.4329 - accuracy: 0.8733 - val_loss: 1.0519 - val_accuracy: 0.6424\n",
      "Epoch 25/100\n",
      "1152/1152 [==============================] - 7s 6ms/sample - loss: 0.3928 - accuracy: 0.8941 - val_loss: 1.1016 - val_accuracy: 0.6319\n",
      "Epoch 26/100\n",
      "1152/1152 [==============================] - 7s 6ms/sample - loss: 0.3761 - accuracy: 0.9002 - val_loss: 1.0902 - val_accuracy: 0.6389\n",
      "Epoch 27/100\n",
      "1152/1152 [==============================] - 7s 6ms/sample - loss: 0.3557 - accuracy: 0.8993 - val_loss: 1.1069 - val_accuracy: 0.6632\n",
      "Epoch 28/100\n",
      "1120/1152 [============================>.] - ETA: 0s - loss: 0.3144 - accuracy: 0.9223\n",
      "Epoch 00028: ReduceLROnPlateau reducing learning rate to 4.0000001899898055e-05.\n",
      "1152/1152 [==============================] - 7s 6ms/sample - loss: 0.3209 - accuracy: 0.9201 - val_loss: 1.1445 - val_accuracy: 0.6076\n",
      "Epoch 29/100\n",
      "1152/1152 [==============================] - 7s 6ms/sample - loss: 0.3168 - accuracy: 0.9210 - val_loss: 1.0947 - val_accuracy: 0.6493\n",
      "Epoch 30/100\n",
      "1152/1152 [==============================] - 7s 6ms/sample - loss: 0.2867 - accuracy: 0.9306 - val_loss: 1.0955 - val_accuracy: 0.6528\n",
      "Epoch 31/100\n",
      "1152/1152 [==============================] - 7s 6ms/sample - loss: 0.2835 - accuracy: 0.9340 - val_loss: 1.0937 - val_accuracy: 0.6562\n",
      "Epoch 32/100\n",
      "1152/1152 [==============================] - 7s 6ms/sample - loss: 0.2884 - accuracy: 0.9271 - val_loss: 1.0966 - val_accuracy: 0.6528\n",
      "Epoch 33/100\n",
      "1120/1152 [============================>.] - ETA: 0s - loss: 0.2745 - accuracy: 0.9304\n",
      "Epoch 00033: ReduceLROnPlateau reducing learning rate to 8.000000525498762e-06.\n",
      "1152/1152 [==============================] - 9s 7ms/sample - loss: 0.2762 - accuracy: 0.9297 - val_loss: 1.0898 - val_accuracy: 0.6597\n",
      "Epoch 34/100\n",
      "1152/1152 [==============================] - 7s 6ms/sample - loss: 0.2626 - accuracy: 0.9436 - val_loss: 1.0905 - val_accuracy: 0.6562\n",
      "Epoch 35/100\n",
      "1152/1152 [==============================] - 8s 7ms/sample - loss: 0.2741 - accuracy: 0.9349 - val_loss: 1.0902 - val_accuracy: 0.6562\n",
      "Epoch 36/100\n",
      "1152/1152 [==============================] - 8s 7ms/sample - loss: 0.2828 - accuracy: 0.9332 - val_loss: 1.0907 - val_accuracy: 0.6562\n",
      "Epoch 37/100\n",
      "1152/1152 [==============================] - 7s 6ms/sample - loss: 0.2776 - accuracy: 0.9340 - val_loss: 1.0899 - val_accuracy: 0.6562\n",
      "Epoch 38/100\n",
      "1120/1152 [============================>.] - ETA: 0s - loss: 0.2686 - accuracy: 0.9375\n",
      "Epoch 00038: ReduceLROnPlateau reducing learning rate to 1.6000001778593287e-06.\n",
      "1152/1152 [==============================] - 7s 6ms/sample - loss: 0.2653 - accuracy: 0.9384 - val_loss: 1.0889 - val_accuracy: 0.6597\n",
      "Epoch 39/100\n",
      "1152/1152 [==============================] - 7s 6ms/sample - loss: 0.2655 - accuracy: 0.9497 - val_loss: 1.0888 - val_accuracy: 0.6562\n",
      "Epoch 40/100\n",
      "1152/1152 [==============================] - 7s 6ms/sample - loss: 0.2821 - accuracy: 0.9262 - val_loss: 1.0887 - val_accuracy: 0.6562\n",
      "Epoch 41/100\n",
      "1152/1152 [==============================] - 7s 6ms/sample - loss: 0.2782 - accuracy: 0.9323 - val_loss: 1.0893 - val_accuracy: 0.6562\n",
      "Epoch 42/100\n",
      "1152/1152 [==============================] - 7s 6ms/sample - loss: 0.2810 - accuracy: 0.9366 - val_loss: 1.0897 - val_accuracy: 0.6562\n",
      "Epoch 43/100\n",
      "1120/1152 [============================>.] - ETA: 0s - loss: 0.2818 - accuracy: 0.9321\n",
      "Epoch 00043: ReduceLROnPlateau reducing learning rate to 1e-06.\n",
      "1152/1152 [==============================] - 7s 6ms/sample - loss: 0.2862 - accuracy: 0.9297 - val_loss: 1.0896 - val_accuracy: 0.6562\n",
      "Epoch 44/100\n",
      "1152/1152 [==============================] - 8s 7ms/sample - loss: 0.2906 - accuracy: 0.9340 - val_loss: 1.0897 - val_accuracy: 0.6562\n",
      "Epoch 45/100\n",
      "1152/1152 [==============================] - 7s 6ms/sample - loss: 0.2680 - accuracy: 0.9427 - val_loss: 1.0898 - val_accuracy: 0.6562\n",
      "Epoch 46/100\n",
      "1152/1152 [==============================] - 7s 6ms/sample - loss: 0.2721 - accuracy: 0.9375 - val_loss: 1.0897 - val_accuracy: 0.6562\n",
      "Epoch 47/100\n",
      "1152/1152 [==============================] - 7s 6ms/sample - loss: 0.2798 - accuracy: 0.9323 - val_loss: 1.0899 - val_accuracy: 0.6562\n",
      "Epoch 48/100\n",
      "1152/1152 [==============================] - 7s 6ms/sample - loss: 0.2728 - accuracy: 0.9349 - val_loss: 1.0904 - val_accuracy: 0.6562\n",
      "Epoch 49/100\n",
      "1152/1152 [==============================] - 7s 6ms/sample - loss: 0.2622 - accuracy: 0.9410 - val_loss: 1.0907 - val_accuracy: 0.6562\n",
      "Epoch 50/100\n",
      "1152/1152 [==============================] - 7s 6ms/sample - loss: 0.2619 - accuracy: 0.9410 - val_loss: 1.0909 - val_accuracy: 0.6562\n",
      "Epoch 51/100\n",
      "1152/1152 [==============================] - 6s 6ms/sample - loss: 0.2784 - accuracy: 0.9358 - val_loss: 1.0908 - val_accuracy: 0.6562\n",
      "Epoch 52/100\n",
      "1152/1152 [==============================] - 6s 6ms/sample - loss: 0.2591 - accuracy: 0.9384 - val_loss: 1.0905 - val_accuracy: 0.6562\n",
      "Epoch 53/100\n",
      "1152/1152 [==============================] - 7s 6ms/sample - loss: 0.2733 - accuracy: 0.9418 - val_loss: 1.0908 - val_accuracy: 0.6562\n",
      "Epoch 54/100\n",
      "1152/1152 [==============================] - 7s 6ms/sample - loss: 0.2697 - accuracy: 0.9427 - val_loss: 1.0911 - val_accuracy: 0.6562\n",
      "Epoch 55/100\n",
      "1152/1152 [==============================] - 6s 6ms/sample - loss: 0.2745 - accuracy: 0.9323 - val_loss: 1.0915 - val_accuracy: 0.6562\n",
      "Epoch 56/100\n",
      "1152/1152 [==============================] - 7s 6ms/sample - loss: 0.2664 - accuracy: 0.9366 - val_loss: 1.0914 - val_accuracy: 0.6562\n",
      "Epoch 57/100\n",
      "1152/1152 [==============================] - 6s 6ms/sample - loss: 0.2608 - accuracy: 0.9427 - val_loss: 1.0918 - val_accuracy: 0.6562\n",
      "Epoch 58/100\n",
      "1152/1152 [==============================] - 6s 5ms/sample - loss: 0.2581 - accuracy: 0.9470 - val_loss: 1.0919 - val_accuracy: 0.6562\n",
      "Epoch 59/100\n",
      "1152/1152 [==============================] - 6s 5ms/sample - loss: 0.2685 - accuracy: 0.9444 - val_loss: 1.0915 - val_accuracy: 0.6562\n",
      "Epoch 60/100\n",
      "1152/1152 [==============================] - 6s 5ms/sample - loss: 0.2602 - accuracy: 0.9401 - val_loss: 1.0916 - val_accuracy: 0.6562\n",
      "Epoch 61/100\n",
      "1152/1152 [==============================] - 7s 6ms/sample - loss: 0.2678 - accuracy: 0.9349 - val_loss: 1.0918 - val_accuracy: 0.6562\n",
      "Epoch 62/100\n",
      "1152/1152 [==============================] - 7s 6ms/sample - loss: 0.2657 - accuracy: 0.9392 - val_loss: 1.0921 - val_accuracy: 0.6562\n",
      "Epoch 63/100\n",
      "1152/1152 [==============================] - 6s 6ms/sample - loss: 0.2732 - accuracy: 0.9323 - val_loss: 1.0919 - val_accuracy: 0.6562\n",
      "Epoch 64/100\n",
      "1152/1152 [==============================] - 6s 6ms/sample - loss: 0.2695 - accuracy: 0.9418 - val_loss: 1.0922 - val_accuracy: 0.6562\n",
      "Epoch 65/100\n",
      "1152/1152 [==============================] - 6s 5ms/sample - loss: 0.2722 - accuracy: 0.9418 - val_loss: 1.0920 - val_accuracy: 0.6562\n",
      "Epoch 66/100\n",
      "1152/1152 [==============================] - 6s 5ms/sample - loss: 0.2681 - accuracy: 0.9418 - val_loss: 1.0919 - val_accuracy: 0.6562\n",
      "Epoch 67/100\n",
      "1152/1152 [==============================] - 6s 5ms/sample - loss: 0.2813 - accuracy: 0.9271 - val_loss: 1.0919 - val_accuracy: 0.6562\n",
      "Epoch 68/100\n",
      "1152/1152 [==============================] - 6s 5ms/sample - loss: 0.2771 - accuracy: 0.9332 - val_loss: 1.0919 - val_accuracy: 0.6562\n",
      "Epoch 69/100\n",
      "1152/1152 [==============================] - 6s 5ms/sample - loss: 0.2696 - accuracy: 0.9340 - val_loss: 1.0918 - val_accuracy: 0.6562\n",
      "Epoch 70/100\n",
      "1152/1152 [==============================] - 6s 5ms/sample - loss: 0.2740 - accuracy: 0.9323 - val_loss: 1.0920 - val_accuracy: 0.6562\n",
      "Epoch 71/100\n",
      "1152/1152 [==============================] - 6s 5ms/sample - loss: 0.2671 - accuracy: 0.9306 - val_loss: 1.0920 - val_accuracy: 0.6562\n",
      "Epoch 72/100\n",
      "1152/1152 [==============================] - 6s 5ms/sample - loss: 0.2760 - accuracy: 0.9392 - val_loss: 1.0917 - val_accuracy: 0.6562\n",
      "Epoch 73/100\n",
      "1152/1152 [==============================] - 6s 5ms/sample - loss: 0.2669 - accuracy: 0.9384 - val_loss: 1.0917 - val_accuracy: 0.6562\n",
      "Epoch 74/100\n",
      "1152/1152 [==============================] - 6s 5ms/sample - loss: 0.2611 - accuracy: 0.9418 - val_loss: 1.0915 - val_accuracy: 0.6562\n",
      "Epoch 75/100\n",
      "1152/1152 [==============================] - 6s 5ms/sample - loss: 0.2795 - accuracy: 0.9340 - val_loss: 1.0915 - val_accuracy: 0.6562\n",
      "Epoch 76/100\n",
      "1152/1152 [==============================] - 6s 5ms/sample - loss: 0.2840 - accuracy: 0.9332 - val_loss: 1.0923 - val_accuracy: 0.6562\n",
      "Epoch 77/100\n",
      "1152/1152 [==============================] - 6s 5ms/sample - loss: 0.2732 - accuracy: 0.9323 - val_loss: 1.0924 - val_accuracy: 0.6562\n",
      "Epoch 78/100\n",
      "1152/1152 [==============================] - 6s 5ms/sample - loss: 0.2766 - accuracy: 0.9306 - val_loss: 1.0922 - val_accuracy: 0.6562\n",
      "Epoch 79/100\n",
      "1152/1152 [==============================] - 7s 6ms/sample - loss: 0.2588 - accuracy: 0.9410 - val_loss: 1.0925 - val_accuracy: 0.6562\n",
      "Epoch 80/100\n",
      "1152/1152 [==============================] - 7s 6ms/sample - loss: 0.2709 - accuracy: 0.9392 - val_loss: 1.0928 - val_accuracy: 0.6562\n",
      "Epoch 81/100\n",
      "1152/1152 [==============================] - 8s 7ms/sample - loss: 0.2670 - accuracy: 0.9392 - val_loss: 1.0926 - val_accuracy: 0.6562\n",
      "Epoch 82/100\n",
      "1152/1152 [==============================] - 7s 6ms/sample - loss: 0.2582 - accuracy: 0.9462 - val_loss: 1.0933 - val_accuracy: 0.6562\n",
      "Epoch 83/100\n",
      "1152/1152 [==============================] - 6s 5ms/sample - loss: 0.2695 - accuracy: 0.9306 - val_loss: 1.0930 - val_accuracy: 0.6562\n",
      "Epoch 84/100\n",
      "1152/1152 [==============================] - 6s 5ms/sample - loss: 0.2821 - accuracy: 0.9323 - val_loss: 1.0932 - val_accuracy: 0.6562\n",
      "Epoch 85/100\n",
      "1152/1152 [==============================] - 7s 6ms/sample - loss: 0.2733 - accuracy: 0.9349 - val_loss: 1.0933 - val_accuracy: 0.6562\n",
      "Epoch 86/100\n",
      "1152/1152 [==============================] - 6s 5ms/sample - loss: 0.2632 - accuracy: 0.9418 - val_loss: 1.0935 - val_accuracy: 0.6562\n",
      "Epoch 87/100\n",
      "1152/1152 [==============================] - 6s 5ms/sample - loss: 0.2683 - accuracy: 0.9358 - val_loss: 1.0933 - val_accuracy: 0.6562\n",
      "Epoch 88/100\n",
      "1152/1152 [==============================] - 6s 5ms/sample - loss: 0.2633 - accuracy: 0.9418 - val_loss: 1.0935 - val_accuracy: 0.6562\n",
      "Epoch 89/100\n",
      "1152/1152 [==============================] - 8s 7ms/sample - loss: 0.2691 - accuracy: 0.9444 - val_loss: 1.0935 - val_accuracy: 0.6562\n",
      "Epoch 90/100\n",
      "1152/1152 [==============================] - 8s 7ms/sample - loss: 0.2633 - accuracy: 0.9418 - val_loss: 1.0931 - val_accuracy: 0.6562\n",
      "Epoch 91/100\n",
      "1152/1152 [==============================] - 8s 7ms/sample - loss: 0.2735 - accuracy: 0.9332 - val_loss: 1.0932 - val_accuracy: 0.6562\n",
      "Epoch 92/100\n",
      "1152/1152 [==============================] - 9s 8ms/sample - loss: 0.2562 - accuracy: 0.9418 - val_loss: 1.0933 - val_accuracy: 0.6562\n",
      "Epoch 93/100\n",
      "1152/1152 [==============================] - 7s 6ms/sample - loss: 0.2575 - accuracy: 0.9470 - val_loss: 1.0930 - val_accuracy: 0.6562\n",
      "Epoch 94/100\n",
      "1152/1152 [==============================] - 6s 5ms/sample - loss: 0.2716 - accuracy: 0.9375 - val_loss: 1.0930 - val_accuracy: 0.6562\n",
      "Epoch 95/100\n",
      "1152/1152 [==============================] - 7s 6ms/sample - loss: 0.2613 - accuracy: 0.9375 - val_loss: 1.0931 - val_accuracy: 0.6562\n",
      "Epoch 96/100\n",
      "1152/1152 [==============================] - 7s 6ms/sample - loss: 0.2632 - accuracy: 0.9401 - val_loss: 1.0931 - val_accuracy: 0.6562\n",
      "Epoch 97/100\n",
      "1152/1152 [==============================] - 7s 6ms/sample - loss: 0.2626 - accuracy: 0.9427 - val_loss: 1.0931 - val_accuracy: 0.6562\n",
      "Epoch 98/100\n",
      "1152/1152 [==============================] - 6s 5ms/sample - loss: 0.2692 - accuracy: 0.9375 - val_loss: 1.0932 - val_accuracy: 0.6562\n",
      "Epoch 99/100\n",
      "1152/1152 [==============================] - 6s 5ms/sample - loss: 0.2567 - accuracy: 0.9462 - val_loss: 1.0927 - val_accuracy: 0.6562\n",
      "Epoch 100/100\n",
      "1152/1152 [==============================] - 6s 5ms/sample - loss: 0.2684 - accuracy: 0.9392 - val_loss: 1.0926 - val_accuracy: 0.6562\n"
     ]
    }
   ],
   "source": [
    "hist = model.fit(x_train, y_train, batch_size=32, epochs=34, validation_data=(x_test, y_test), callbacks=[lr_reducer])"
   ]
  },
  {
   "cell_type": "code",
   "execution_count": 176,
   "metadata": {},
   "outputs": [],
   "source": [
    "def draw_hist(hist):\n",
    "    acc = hist.history['accuracy']\n",
    "    val_acc = hist.history['val_accuracy']\n",
    "    loss = hist.history['loss']\n",
    "    val_loss = hist.history['val_loss']\n",
    "\n",
    "    epochs = range(1, len(acc) + 1)\n",
    "\n",
    "    # \"bo\" is for \"blue dot\"\n",
    "    plt.figure(figsize=(8, 4.5))\n",
    "    plt.plot(epochs, loss, 'bo', label='Training loss')\n",
    "    # b is for \"solid blue line\"\n",
    "    plt.plot(epochs, val_loss, 'b', label='Validation loss')\n",
    "    plt.title('Training and validation loss')\n",
    "    plt.xlabel('Epochs')\n",
    "    plt.ylabel('Loss')\n",
    "    plt.legend()\n",
    "    plt.show()\n",
    "\n",
    "    plt.clf()   # clear figure\n",
    "    acc_values = acc\n",
    "    val_acc_values = val_acc\n",
    "\n",
    "    plt.figure(figsize=(8, 4.5))\n",
    "    plt.plot(epochs, acc, 'bo', label='Training acc')\n",
    "    plt.plot(epochs, val_acc, 'b', label='Validation acc')\n",
    "    plt.title('Training and validation accuracy')\n",
    "    plt.xlabel('Epochs')\n",
    "    plt.ylabel('Loss')\n",
    "    plt.legend()\n",
    "    plt.show()"
   ]
  },
  {
   "cell_type": "code",
   "execution_count": 178,
   "metadata": {},
   "outputs": [],
   "source": [
    "def plot_confusion_matrix(y_true, y_pred, classes,\n",
    "                          normalize=False,\n",
    "                          title=None,\n",
    "                          cmap=plt.cm.Blues):\n",
    "    \"\"\"\n",
    "    This function prints and plots the confusion matrix.\n",
    "    Normalization can be applied by setting `normalize=True`.\n",
    "    \"\"\"\n",
    "    if not title:\n",
    "        if normalize:\n",
    "            title = 'Normalized confusion matrix'\n",
    "        else:\n",
    "            title = 'Confusion matrix, without normalization'\n",
    "\n",
    "    # Compute confusion matrix\n",
    "    cm = confusion_matrix(y_true, y_pred)\n",
    "    # Only use the labels that appear in the data\n",
    "\n",
    "    print('unique labels:', unique_labels(y_true, y_pred))\n",
    "    classes = np.array(classes)[unique_labels(y_true, y_pred)]\n",
    "    if normalize:\n",
    "        cm = cm.astype('float') / cm.sum(axis=1)[:, np.newaxis]\n",
    "        print(\"Normalized confusion matrix\")\n",
    "    else:\n",
    "        print('Confusion matrix, without normalization')\n",
    "\n",
    "\n",
    "    fig, ax = plt.subplots()\n",
    "    fig.set_figheight(9)\n",
    "    fig.set_figwidth(9)\n",
    "    im = ax.imshow(cm, interpolation='nearest', cmap=cmap)\n",
    "    ax.figure.colorbar(im, ax=ax)\n",
    "    # We want to show all ticks...\n",
    "    ax.set(xticks=np.arange(cm.shape[1]),\n",
    "           yticks=np.arange(cm.shape[0]),\n",
    "           # ... and label them with the respective list entries\n",
    "           xticklabels=classes, yticklabels=classes,\n",
    "           title=title,\n",
    "           ylabel='True label',\n",
    "           xlabel='Predicted label')\n",
    "\n",
    "    # Rotate the tick labels and set their alignment.\n",
    "    plt.setp(ax.get_xticklabels(), rotation=45, ha=\"right\",\n",
    "             rotation_mode=\"anchor\")\n",
    "\n",
    "    # Loop over data dimensions and create text annotations.\n",
    "    fmt = '.2f' if normalize else 'd'\n",
    "    thresh = cm.max() / 2.\n",
    "    for i in range(cm.shape[0]):\n",
    "        for j in range(cm.shape[1]):\n",
    "            ax.text(j, i, format(cm[i, j], fmt),\n",
    "                    ha=\"center\", va=\"center\",\n",
    "                    color=\"white\" if cm[i, j] > thresh else \"black\")\n",
    "    fig.tight_layout()\n",
    "    return ax"
   ]
  },
  {
   "cell_type": "code",
   "execution_count": 181,
   "metadata": {},
   "outputs": [
    {
     "name": "stdout",
     "output_type": "stream",
     "text": [
      "1.0926096902953253 0.65625\n",
      "Classification report: \n",
      "              precision    recall  f1-score   support\n",
      "\n",
      "           0       0.78      0.70      0.74        20\n",
      "           1       0.72      0.70      0.71        44\n",
      "           2       0.55      0.65      0.59        34\n",
      "           3       0.50      0.49      0.49        39\n",
      "           4       0.78      0.67      0.72        42\n",
      "           5       0.61      0.69      0.65        32\n",
      "           6       0.76      0.69      0.72        32\n",
      "           7       0.65      0.69      0.67        45\n",
      "\n",
      "    accuracy                           0.66       288\n",
      "   macro avg       0.67      0.66      0.66       288\n",
      "weighted avg       0.66      0.66      0.66       288\n",
      "\n",
      "Confusion matrix: \n",
      "[[14  3  1  2  0  0  0  0]\n",
      " [ 1 31  2 10  0  0  0  0]\n",
      " [ 0  1 22  3  2  1  1  4]\n",
      " [ 2  7  0 19  0  6  0  5]\n",
      " [ 0  1  4  0 28  0  6  3]\n",
      " [ 0  0  3  4  0 22  0  3]\n",
      " [ 0  0  2  0  5  1 22  2]\n",
      " [ 1  0  6  0  1  6  0 31]]\n"
     ]
    },
    {
     "data": {
      "image/png": "[encoded data removed]",
      "text/plain": [
       "<Figure size 576x324 with 1 Axes>"
      ]
     },
     "metadata": {
      "needs_background": "light"
     },
     "output_type": "display_data"
    },
    {
     "data": {
      "text/plain": [
       "<Figure size 432x288 with 0 Axes>"
      ]
     },
     "metadata": {},
     "output_type": "display_data"
    },
    {
     "data": {
      "image/png": "[encoded data removed]",
      "text/plain": [
       "<Figure size 576x324 with 1 Axes>"
      ]
     },
     "metadata": {
      "needs_background": "light"
     },
     "output_type": "display_data"
    },
    {
     "name": "stdout",
     "output_type": "stream",
     "text": [
      "unique labels: [0 1 2 3 4 5 6 7]\n",
      "Normalized confusion matrix\n"
     ]
    },
    {
     "data": {
      "text/plain": [
       "<matplotlib.axes._subplots.AxesSubplot at 0x1af54025c50>"
      ]
     },
     "execution_count": 181,
     "metadata": {},
     "output_type": "execute_result"
    },
    {
     "data": {
      "image/png": "[encoded data removed]",
      "text/plain": [
       "<Figure size 648x648 with 2 Axes>"
      ]
     },
     "metadata": {
      "needs_background": "light"
     },
     "output_type": "display_data"
    }
   ],
   "source": [
    "test_loss, test_acc = model.evaluate(x_test, y_test, verbose=0)\n",
    "print(test_loss, test_acc)\n",
    "pred_labels = model.predict(x_test)\n",
    "print('Classification report: ')\n",
    "print(classification_report(np.argmax(y_test, axis=1), np.argmax(pred_labels, axis=1)))\n",
    "print('Confusion matrix: ')\n",
    "print(confusion_matrix(np.argmax(y_test, axis=1), np.argmax(pred_labels, axis=1)))\n",
    "draw_hist(hist) \n",
    "plot_confusion_matrix(np.argmax(y_test, axis=1), np.argmax(pred_labels, axis=1), normalize=True, classes=[str(i) for i in range(10)])"
   ]
  },
  {
   "cell_type": "code",
   "execution_count": null,
   "metadata": {},
   "outputs": [],
   "source": []
  }
 ],
 "metadata": {
  "kernelspec": {
   "display_name": "Python 3",
   "language": "python",
   "name": "python3"
  },
  "language_info": {
   "codemirror_mode": {
    "name": "ipython",
    "version": 3
   },
   "file_extension": ".py",
   "mimetype": "text/x-python",
   "name": "python",
   "nbconvert_exporter": "python",
   "pygments_lexer": "ipython3",
   "version": "3.7.3"
  }
 },
 "nbformat": 4,
 "nbformat_minor": 4
}

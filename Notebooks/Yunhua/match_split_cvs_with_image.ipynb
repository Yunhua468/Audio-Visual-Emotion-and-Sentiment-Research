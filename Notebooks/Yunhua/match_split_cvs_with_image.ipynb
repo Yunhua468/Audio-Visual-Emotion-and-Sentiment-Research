{
 "cells": [
  {
   "cell_type": "code",
   "execution_count": null,
   "metadata": {},
   "outputs": [],
   "source": [
    "FILE_PATH= 'C:/Users/ZhaoY/Downloads/DL_Project/Emotion_Images/Emotion_Images/'"
   ]
  },
  {
   "cell_type": "code",
   "execution_count": null,
   "metadata": {},
   "outputs": [],
   "source": [
    "#get the paths\n",
    "dirts_image = []\n",
    "for root, dirt,file in os.walk(FILE_PATH):\n",
    "    dirts_image.append(root) "
   ]
  },
  {
   "cell_type": "code",
   "execution_count": null,
   "metadata": {},
   "outputs": [],
   "source": [
    "#get the files in every path\n",
    "files_image = []\n",
    "for dirt in dirts_image:\n",
    "    for root, dt, file in os.walk(dirt):\n",
    "        for fl in file:\n",
    "            files_image.append(os.path.join(dirt,fl))  "
   ]
  },
  {
   "cell_type": "code",
   "execution_count": null,
   "metadata": {},
   "outputs": [],
   "source": [
    "len(files_image)"
   ]
  },
  {
   "cell_type": "code",
   "execution_count": null,
   "metadata": {},
   "outputs": [],
   "source": [
    "files_image[1]"
   ]
  },
  {
   "cell_type": "code",
   "execution_count": null,
   "metadata": {},
   "outputs": [],
   "source": [
    "file_dict_image = {}\n",
    "filename_image = []\n",
    "    \n",
    "for file in files_image:\n",
    "    filename_image.append(((file.split('/')[-1]).split('.')[0]))\n",
    "    file_dict_image[((file.split('/')[-1]).split('.')[0])] = file"
   ]
  },
  {
   "cell_type": "code",
   "execution_count": null,
   "metadata": {},
   "outputs": [],
   "source": [
    "filename_image_dict = {}\n",
    "for name in filename_image:\n",
    "    filename_image_dict[name[3:]] = file_dict_image[name]"
   ]
  },
  {
   "cell_type": "code",
   "execution_count": null,
   "metadata": {},
   "outputs": [],
   "source": [
    "def extract_perfix(names):\n",
    "    ret = []\n",
    "    for name in names:\n",
    "        ret.append(name.split('.')[0])\n",
    "    return ret"
   ]
  },
  {
   "cell_type": "markdown",
   "metadata": {},
   "source": [
    "**train_filenames comes from csv**"
   ]
  },
  {
   "cell_type": "code",
   "execution_count": null,
   "metadata": {},
   "outputs": [],
   "source": [
    "train_filenames_image = extract_perfix(train_filenames)\n",
    "val_filenames_image = extract_perfix(val_filenames)\n",
    "test_filenames_image = extract_perfix(test_filenames)"
   ]
  },
  {
   "cell_type": "code",
   "execution_count": null,
   "metadata": {},
   "outputs": [],
   "source": [
    "def extract_name_nperfix(filenms):\n",
    "    names = []\n",
    "    for name in filenms:\n",
    "        names.append(name[3:])\n",
    "    return names\n",
    "\n",
    "train_match_name = extract_name_nperfix(train_filenames_image)\n",
    "val_match_name   = extract_name_nperfix(val_filenames_image)\n",
    "test_match_name   = extract_name_nperfix(test_filenames_image)"
   ]
  },
  {
   "cell_type": "code",
   "execution_count": null,
   "metadata": {},
   "outputs": [],
   "source": [
    "def file_path_extract(names):\n",
    "    ret = []\n",
    "    for f in names:\n",
    "        ret.append(filename_image_dict[f])\n",
    "    return ret"
   ]
  },
  {
   "cell_type": "code",
   "execution_count": null,
   "metadata": {},
   "outputs": [],
   "source": [
    "train_pt_image = file_path_extract(train_match_name)\n",
    "val_pt_image = file_path_extract(val_match_name)\n",
    "test_pt_image = file_path_extract(test_match_name)"
   ]
  },
  {
   "cell_type": "code",
   "execution_count": null,
   "metadata": {},
   "outputs": [],
   "source": []
  },
  {
   "cell_type": "code",
   "execution_count": null,
   "metadata": {},
   "outputs": [],
   "source": []
  }
 ],
 "metadata": {
  "kernelspec": {
   "display_name": "Python 3",
   "language": "python",
   "name": "python3"
  },
  "language_info": {
   "codemirror_mode": {
    "name": "ipython",
    "version": 3
   },
   "file_extension": ".py",
   "mimetype": "text/x-python",
   "name": "python",
   "nbconvert_exporter": "python",
   "pygments_lexer": "ipython3",
   "version": "3.7.3"
  }
 },
 "nbformat": 4,
 "nbformat_minor": 2
}

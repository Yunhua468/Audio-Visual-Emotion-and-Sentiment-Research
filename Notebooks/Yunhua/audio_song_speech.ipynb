{
 "cells": [
  {
   "cell_type": "code",
   "execution_count": 1,
   "metadata": {},
   "outputs": [
    {
     "name": "stderr",
     "output_type": "stream",
     "text": [
      "Using TensorFlow backend.\n"
     ]
    }
   ],
   "source": [
    "import os\n",
    "import pandas as pd\n",
    "import numpy as np\n",
    "from tqdm import tqdm\n",
    "import scipy.io.wavfile as wav\n",
    "from speechpy.feature import mfcc\n",
    "import librosa\n",
    "import matplotlib.pyplot as plt\n",
    "from sklearn.model_selection import train_test_split\n",
    "from sklearn.metrics import accuracy_score\n",
    "from sklearn.metrics import confusion_matrix\n",
    "from sklearn.metrics import classification_report\n",
    "\n",
    "import tensorflow as tf\n",
    "from tensorflow.keras import layers\n",
    "from tensorflow.keras import models\n",
    "from tensorflow.keras import backend as K\n",
    "from tensorflow.keras.callbacks import ReduceLROnPlateau\n",
    "from tensorflow import keras\n",
    "from keras.utils import np_utils\n",
    "from sklearn.utils.multiclass import unique_labels"
   ]
  },
  {
   "cell_type": "markdown",
   "metadata": {},
   "source": [
    "**Load the data set**"
   ]
  },
  {
   "cell_type": "code",
   "execution_count": 6,
   "metadata": {},
   "outputs": [],
   "source": [
    "FILE_PATH= 'C:\\\\Users\\\\ZhaoY\\\\Downloads\\\\DL_Project\\\\unzipped-20200504T003413Z-001\\\\unzipped\\\\'\n",
    "dir_list = os.listdir(FILE_PATH)"
   ]
  },
  {
   "cell_type": "code",
   "execution_count": 7,
   "metadata": {},
   "outputs": [
    {
     "name": "stdout",
     "output_type": "stream",
     "text": [
      "C:\\Users\\ZhaoY\\Downloads\\DL_Project\\unzipped-20200504T003413Z-001\\unzipped\\ hahaha\n"
     ]
    }
   ],
   "source": [
    "#get the paths\n",
    "dirts = []\n",
    "filepath_delete = True\n",
    "for root, dirt,file in os.walk(FILE_PATH):\n",
    "    if filepath_delete == True:\n",
    "        print(root, \"hahaha\")\n",
    "        filepath_delete = False\n",
    "    else:\n",
    "        dirts.append(root)     "
   ]
  },
  {
   "cell_type": "code",
   "execution_count": 8,
   "metadata": {},
   "outputs": [
    {
     "data": {
      "text/plain": [
       "['C:\\\\Users\\\\ZhaoY\\\\Downloads\\\\DL_Project\\\\unzipped-20200504T003413Z-001\\\\unzipped\\\\Actor_01',\n",
       " 'C:\\\\Users\\\\ZhaoY\\\\Downloads\\\\DL_Project\\\\unzipped-20200504T003413Z-001\\\\unzipped\\\\Actor_02',\n",
       " 'C:\\\\Users\\\\ZhaoY\\\\Downloads\\\\DL_Project\\\\unzipped-20200504T003413Z-001\\\\unzipped\\\\Actor_03']"
      ]
     },
     "execution_count": 8,
     "metadata": {},
     "output_type": "execute_result"
    }
   ],
   "source": [
    "dirts[:3]"
   ]
  },
  {
   "cell_type": "code",
   "execution_count": 9,
   "metadata": {},
   "outputs": [],
   "source": [
    "#get the files in every path\n",
    "files = []\n",
    "for dirt in dirts:\n",
    "    for root, dt, file in os.walk(dirt):\n",
    "        for fl in file:\n",
    "            files.append(os.path.join(dirt,fl))  "
   ]
  },
  {
   "cell_type": "code",
   "execution_count": 10,
   "metadata": {},
   "outputs": [
    {
     "data": {
      "text/plain": [
       "['C:\\\\Users\\\\ZhaoY\\\\Downloads\\\\DL_Project\\\\unzipped-20200504T003413Z-001\\\\unzipped\\\\Actor_01\\\\03-01-01-01-01-01-01.wav',\n",
       " 'C:\\\\Users\\\\ZhaoY\\\\Downloads\\\\DL_Project\\\\unzipped-20200504T003413Z-001\\\\unzipped\\\\Actor_01\\\\03-01-01-01-01-02-01.wav',\n",
       " 'C:\\\\Users\\\\ZhaoY\\\\Downloads\\\\DL_Project\\\\unzipped-20200504T003413Z-001\\\\unzipped\\\\Actor_01\\\\03-01-01-01-02-01-01.wav']"
      ]
     },
     "execution_count": 10,
     "metadata": {},
     "output_type": "execute_result"
    }
   ],
   "source": [
    "files[:3]"
   ]
  },
  {
   "cell_type": "code",
   "execution_count": 11,
   "metadata": {},
   "outputs": [],
   "source": [
    "filename = []\n",
    "Actor = []\n",
    "for file in files:\n",
    "    filename.append(file.split('\\\\')[-1])\n",
    "    Actor.append(file.split('\\\\')[-2])"
   ]
  },
  {
   "cell_type": "code",
   "execution_count": 12,
   "metadata": {},
   "outputs": [
    {
     "data": {
      "text/plain": [
       "'03-01-01-01-01-01-01.wav'"
      ]
     },
     "execution_count": 12,
     "metadata": {},
     "output_type": "execute_result"
    }
   ],
   "source": [
    "filename[0]"
   ]
  },
  {
   "cell_type": "code",
   "execution_count": 13,
   "metadata": {},
   "outputs": [
    {
     "data": {
      "text/plain": [
       "'Actor_24'"
      ]
     },
     "execution_count": 13,
     "metadata": {},
     "output_type": "execute_result"
    }
   ],
   "source": [
    "Actor[-1]"
   ]
  },
  {
   "cell_type": "code",
   "execution_count": 14,
   "metadata": {},
   "outputs": [],
   "source": [
    "Modality = []\n",
    "Vocal_channel = []\n",
    "Emotion = []\n",
    "Emotional_intensity = []\n",
    "Statement = []\n",
    "Repetition = []\n",
    "\n",
    "for name in filename:\n",
    "    Modality.append(name.split('-')[0])\n",
    "    Vocal_channel.append(name.split('-')[1])\n",
    "    Emotion.append(int(name.split('-')[2])-1)\n",
    "    Emotional_intensity.append(name.split('-')[3])\n",
    "    Statement.append(name.split('-')[4])\n",
    "    Repetition.append(name.split('-')[5])"
   ]
  },
  {
   "cell_type": "code",
   "execution_count": 15,
   "metadata": {},
   "outputs": [],
   "source": [
    "df = pd.DataFrame({'files': files, \n",
    "                   'modalities': Modality,\n",
    "                   'vocal_channels': Vocal_channel, \n",
    "                   'emotions': Emotion,\n",
    "                   'emotional_intensities': Emotional_intensity,\n",
    "                   'statements': Statement,\n",
    "                   'repetitiona': Repetition})"
   ]
  },
  {
   "cell_type": "code",
   "execution_count": 16,
   "metadata": {},
   "outputs": [
    {
     "data": {
      "text/html": [
       "<div>\n",
       "<style scoped>\n",
       "    .dataframe tbody tr th:only-of-type {\n",
       "        vertical-align: middle;\n",
       "    }\n",
       "\n",
       "    .dataframe tbody tr th {\n",
       "        vertical-align: top;\n",
       "    }\n",
       "\n",
       "    .dataframe thead th {\n",
       "        text-align: right;\n",
       "    }\n",
       "</style>\n",
       "<table border=\"1\" class=\"dataframe\">\n",
       "  <thead>\n",
       "    <tr style=\"text-align: right;\">\n",
       "      <th></th>\n",
       "      <th>files</th>\n",
       "      <th>modalities</th>\n",
       "      <th>vocal_channels</th>\n",
       "      <th>emotions</th>\n",
       "      <th>emotional_intensities</th>\n",
       "      <th>statements</th>\n",
       "      <th>repetitiona</th>\n",
       "    </tr>\n",
       "  </thead>\n",
       "  <tbody>\n",
       "    <tr>\n",
       "      <th>0</th>\n",
       "      <td>C:\\Users\\ZhaoY\\Downloads\\DL_Project\\unzipped-2...</td>\n",
       "      <td>03</td>\n",
       "      <td>01</td>\n",
       "      <td>0</td>\n",
       "      <td>01</td>\n",
       "      <td>01</td>\n",
       "      <td>01</td>\n",
       "    </tr>\n",
       "  </tbody>\n",
       "</table>\n",
       "</div>"
      ],
      "text/plain": [
       "                                               files modalities  \\\n",
       "0  C:\\Users\\ZhaoY\\Downloads\\DL_Project\\unzipped-2...         03   \n",
       "\n",
       "  vocal_channels  emotions emotional_intensities statements repetitiona  \n",
       "0             01         0                    01         01          01  "
      ]
     },
     "execution_count": 16,
     "metadata": {},
     "output_type": "execute_result"
    }
   ],
   "source": [
    "df.head(1)"
   ]
  },
  {
   "cell_type": "code",
   "execution_count": 17,
   "metadata": {},
   "outputs": [
    {
     "name": "stdout",
     "output_type": "stream",
     "text": [
      "<class 'pandas.core.frame.DataFrame'>\n",
      "RangeIndex: 2452 entries, 0 to 2451\n",
      "Data columns (total 7 columns):\n",
      "files                    2452 non-null object\n",
      "modalities               2452 non-null object\n",
      "vocal_channels           2452 non-null object\n",
      "emotions                 2452 non-null int64\n",
      "emotional_intensities    2452 non-null object\n",
      "statements               2452 non-null object\n",
      "repetitiona              2452 non-null object\n",
      "dtypes: int64(1), object(6)\n",
      "memory usage: 134.2+ KB\n"
     ]
    }
   ],
   "source": [
    "df.info()"
   ]
  },
  {
   "cell_type": "code",
   "execution_count": 18,
   "metadata": {},
   "outputs": [
    {
     "data": {
      "text/plain": [
       "5    376\n",
       "3    376\n",
       "1    376\n",
       "4    376\n",
       "2    376\n",
       "7    192\n",
       "6    192\n",
       "0    188\n",
       "Name: emotions, dtype: int64"
      ]
     },
     "execution_count": 18,
     "metadata": {},
     "output_type": "execute_result"
    }
   ],
   "source": [
    "df.emotions.value_counts()"
   ]
  },
  {
   "cell_type": "code",
   "execution_count": 19,
   "metadata": {},
   "outputs": [
    {
     "data": {
      "text/plain": [
       "(array([188., 376., 376.,   0., 376., 376.,   0., 376., 192., 192.]),\n",
       " array([0. , 0.7, 1.4, 2.1, 2.8, 3.5, 4.2, 4.9, 5.6, 6.3, 7. ]),\n",
       " <a list of 10 Patch objects>)"
      ]
     },
     "execution_count": 19,
     "metadata": {},
     "output_type": "execute_result"
    },
    {
     "data": {
      "image/png": "[encoded data removed]",
      "text/plain": [
       "<Figure size 432x288 with 1 Axes>"
      ]
     },
     "metadata": {
      "needs_background": "light"
     },
     "output_type": "display_data"
    }
   ],
   "source": [
    "plt.hist(df.emotions)"
   ]
  },
  {
   "cell_type": "code",
   "execution_count": 20,
   "metadata": {},
   "outputs": [
    {
     "name": "stdout",
     "output_type": "stream",
     "text": [
      "2452\n"
     ]
    }
   ],
   "source": [
    "print(len(files))"
   ]
  },
  {
   "cell_type": "code",
   "execution_count": 21,
   "metadata": {},
   "outputs": [],
   "source": [
    "mean_signal_length = 0\n",
    "signals = []\n",
    "for fname in files:\n",
    "    signal, fs = librosa.load(fname, sr=16000, mono=True)\n",
    "    mean_signal_length += len(signal)\n",
    "    signals.append(signal)\n",
    "mean_signal_length = mean_signal_length/(len(files))"
   ]
  },
  {
   "cell_type": "code",
   "execution_count": 22,
   "metadata": {
    "scrolled": true
   },
   "outputs": [
    {
     "name": "stdout",
     "output_type": "stream",
     "text": [
      "65474\n"
     ]
    }
   ],
   "source": [
    "mean_signal_length = int(mean_signal_length) \n",
    "print(mean_signal_length)"
   ]
  },
  {
   "cell_type": "code",
   "execution_count": 23,
   "metadata": {},
   "outputs": [],
   "source": [
    "def get_feature_vector_from_mfcc(signal, mean_signal_length: int, flatten: bool) -> np.ndarray:\n",
    "    \"\"\"\n",
    "    Make feature vector from MFCC for the given wav file.\n",
    "\n",
    "    Args:\n",
    "        file_path (str): path to the .wav file that needs to be read.\n",
    "        flatten (bool) : Boolean indicating whether to flatten mfcc obtained.\n",
    "        mfcc_len (int): Number of cepestral co efficients to be consider.\n",
    "\n",
    "    Returns:\n",
    "        numpy.ndarray: feature vector of the wav file made from mfcc.\n",
    "    \"\"\"\n",
    "    #fs, signal = wav.read(file_path)\n",
    "    #signal, fs = librosa.load(file_path, sr=16000, mono=True)\n",
    "    s_len = len(signal)\n",
    "\n",
    "    # pad the signals to have same size if lesser than required\n",
    "    # else slice them    \n",
    "    \n",
    "    if s_len < mean_signal_length:\n",
    "        pad_len = mean_signal_length - s_len\n",
    "        pad_rem = pad_len % 2\n",
    "        pad_len //= 2\n",
    "        signal = np.pad(signal, (pad_len, pad_len + pad_rem),\n",
    "                        'constant', constant_values=0)\n",
    "    else:\n",
    "        pad_len = s_len - mean_signal_length\n",
    "        pad_len //= 2\n",
    "        signal = signal[pad_len:pad_len + mean_signal_length]\n",
    "        \n",
    "    # sample/frame = mean_signal_length*frame_length\n",
    "    mel_coefficients = mfcc(signal, fs, frame_length=0.048, frame_stride=0.024, num_filters=30, num_cepstral=30, low_frequency=60, high_frequency=7600)\n",
    "    if flatten:\n",
    "        # Flatten the data\n",
    "        mel_coefficients = np.ravel(mel_coefficients)\n",
    "    return mel_coefficients"
   ]
  },
  {
   "cell_type": "code",
   "execution_count": 24,
   "metadata": {},
   "outputs": [],
   "source": [
    "features = []\n",
    "for signal in signals:\n",
    "    features.append(get_feature_vector_from_mfcc(signal, mean_signal_length, flatten=False))"
   ]
  },
  {
   "cell_type": "code",
   "execution_count": 25,
   "metadata": {},
   "outputs": [
    {
     "data": {
      "text/plain": [
       "array([[-36.04365339,   0.        ,   0.        , ...,   0.        ,\n",
       "          0.        ,   0.        ],\n",
       "       [-36.04365339,   0.        ,   0.        , ...,   0.        ,\n",
       "          0.        ,   0.        ],\n",
       "       [-36.04365339,   0.        ,   0.        , ...,   0.        ,\n",
       "          0.        ,   0.        ],\n",
       "       ...,\n",
       "       [-36.04365339,   0.        ,   0.        , ...,   0.        ,\n",
       "          0.        ,   0.        ],\n",
       "       [-36.04365339,   0.        ,   0.        , ...,   0.        ,\n",
       "          0.        ,   0.        ],\n",
       "       [-36.04365339,   0.        ,   0.        , ...,   0.        ,\n",
       "          0.        ,   0.        ]])"
      ]
     },
     "execution_count": 25,
     "metadata": {},
     "output_type": "execute_result"
    }
   ],
   "source": [
    "features[0]"
   ]
  },
  {
   "cell_type": "code",
   "execution_count": 26,
   "metadata": {},
   "outputs": [
    {
     "data": {
      "text/plain": [
       "<matplotlib.image.AxesImage at 0x1e87f2c4cf8>"
      ]
     },
     "execution_count": 26,
     "metadata": {},
     "output_type": "execute_result"
    },
    {
     "data": {
      "image/png": "[encoded data removed]",
      "text/plain": [
       "<Figure size 432x288 with 1 Axes>"
      ]
     },
     "metadata": {
      "needs_background": "light"
     },
     "output_type": "display_data"
    }
   ],
   "source": [
    "plt.imshow(features[0].T)"
   ]
  },
  {
   "cell_type": "code",
   "execution_count": 27,
   "metadata": {},
   "outputs": [
    {
     "data": {
      "text/plain": [
       "(2452, 168, 30)"
      ]
     },
     "execution_count": 27,
     "metadata": {},
     "output_type": "execute_result"
    }
   ],
   "source": [
    "#need to stack these features, so need to add one demenssion\n",
    "features = np.vstack([feature[np.newaxis, :, :] for feature in features])\n",
    "features.shape"
   ]
  },
  {
   "cell_type": "code",
   "execution_count": 28,
   "metadata": {},
   "outputs": [
    {
     "data": {
      "text/plain": [
       "array([0, 1, 2, 3, 4, 5, 6, 7])"
      ]
     },
     "execution_count": 28,
     "metadata": {},
     "output_type": "execute_result"
    }
   ],
   "source": [
    "np.unique(Emotion)"
   ]
  },
  {
   "cell_type": "code",
   "execution_count": 29,
   "metadata": {},
   "outputs": [],
   "source": [
    "#one hot code, it is classification not logistic regression, so change numbers to one hot code\n",
    "labels = np_utils.to_categorical(Emotion)"
   ]
  },
  {
   "cell_type": "code",
   "execution_count": 30,
   "metadata": {},
   "outputs": [
    {
     "data": {
      "text/plain": [
       "(2452, 8)"
      ]
     },
     "execution_count": 30,
     "metadata": {},
     "output_type": "execute_result"
    }
   ],
   "source": [
    "labels.shape"
   ]
  },
  {
   "cell_type": "code",
   "execution_count": 41,
   "metadata": {},
   "outputs": [],
   "source": [
    "train, x_test, train, y_test = train_test_split(features, labels, test_size=0.2, random_state=42)\n",
    "x_train, x_val, y_train, y_val = train_test_split(features, labels, test_size=0.2, random_state=42)"
   ]
  },
  {
   "cell_type": "code",
   "execution_count": 42,
   "metadata": {},
   "outputs": [],
   "source": [
    "def build_model(input_shape, num_classes):\n",
    "    model = models.Sequential()\n",
    "    model.add(layers.LSTM(128, input_shape=(input_shape[0], input_shape[1])))\n",
    "    model.add(layers.BatchNormalization())\n",
    "    model.add(layers.Dropout(0.5))\n",
    "    model.add(layers.Dense(32, activation='relu'))\n",
    "    model.add(layers.Dense(16, activation='tanh'))\n",
    "    model.add(layers.Dense(num_classes, activation='softmax'))\n",
    "    model.compile(loss='categorical_crossentropy',\n",
    "                  optimizer='adam',\n",
    "                  metrics=['accuracy'])\n",
    "    return model"
   ]
  },
  {
   "cell_type": "code",
   "execution_count": 33,
   "metadata": {},
   "outputs": [],
   "source": [
    "model = build_model(input_shape=(features.shape[1], features.shape[2]), num_classes=labels.shape[1])"
   ]
  },
  {
   "cell_type": "code",
   "execution_count": 34,
   "metadata": {},
   "outputs": [
    {
     "data": {
      "text/plain": [
       "(2452, 8)"
      ]
     },
     "execution_count": 34,
     "metadata": {},
     "output_type": "execute_result"
    }
   ],
   "source": [
    "labels.shape"
   ]
  },
  {
   "cell_type": "code",
   "execution_count": 35,
   "metadata": {},
   "outputs": [
    {
     "data": {
      "text/plain": [
       "(2452, 168, 30)"
      ]
     },
     "execution_count": 35,
     "metadata": {},
     "output_type": "execute_result"
    }
   ],
   "source": [
    "features.shape"
   ]
  },
  {
   "cell_type": "code",
   "execution_count": 36,
   "metadata": {},
   "outputs": [],
   "source": [
    "lr_reducer = ReduceLROnPlateau(monitor='val_loss', \n",
    "                               factor=0.2,\n",
    "                               patience=5,\n",
    "                               min_lr=1e-6,\n",
    "                               verbose=1)"
   ]
  },
  {
   "cell_type": "code",
   "execution_count": 43,
   "metadata": {},
   "outputs": [
    {
     "name": "stdout",
     "output_type": "stream",
     "text": [
      "Train on 1961 samples, validate on 491 samples\n",
      "Epoch 1/50\n",
      "1961/1961 [==============================] - 6s 3ms/sample - loss: 0.1348 - accuracy: 0.9730 - val_loss: 1.0386 - val_accuracy: 0.7251\n",
      "Epoch 2/50\n",
      "1961/1961 [==============================] - 7s 4ms/sample - loss: 0.1272 - accuracy: 0.9765 - val_loss: 1.0391 - val_accuracy: 0.7251\n",
      "Epoch 3/50\n",
      "1961/1961 [==============================] - 9s 5ms/sample - loss: 0.1363 - accuracy: 0.9725 - val_loss: 1.0397 - val_accuracy: 0.7251\n",
      "Epoch 4/50\n",
      "1961/1961 [==============================] - 9s 4ms/sample - loss: 0.1223 - accuracy: 0.9755 - val_loss: 1.0407 - val_accuracy: 0.7271\n",
      "Epoch 5/50\n",
      "1961/1961 [==============================] - 9s 5ms/sample - loss: 0.1359 - accuracy: 0.9699 - val_loss: 1.0389 - val_accuracy: 0.7251\n",
      "Epoch 6/50\n",
      "1952/1961 [============================>.] - ETA: 0s - loss: 0.1310 - accuracy: 0.9764\n",
      "Epoch 00006: ReduceLROnPlateau reducing learning rate to 1e-06.\n",
      "1961/1961 [==============================] - 9s 5ms/sample - loss: 0.1314 - accuracy: 0.9765 - val_loss: 1.0394 - val_accuracy: 0.7251\n",
      "Epoch 7/50\n",
      "1961/1961 [==============================] - 9s 4ms/sample - loss: 0.1207 - accuracy: 0.9786 - val_loss: 1.0396 - val_accuracy: 0.7251\n",
      "Epoch 8/50\n",
      "1961/1961 [==============================] - 9s 5ms/sample - loss: 0.1246 - accuracy: 0.9750 - val_loss: 1.0406 - val_accuracy: 0.7271\n",
      "Epoch 9/50\n",
      "1961/1961 [==============================] - 9s 5ms/sample - loss: 0.1234 - accuracy: 0.9776 - val_loss: 1.0409 - val_accuracy: 0.7271\n",
      "Epoch 10/50\n",
      "1961/1961 [==============================] - 9s 4ms/sample - loss: 0.1190 - accuracy: 0.9786 - val_loss: 1.0409 - val_accuracy: 0.7271\n",
      "Epoch 11/50\n",
      "1961/1961 [==============================] - 9s 5ms/sample - loss: 0.1234 - accuracy: 0.9786 - val_loss: 1.0415 - val_accuracy: 0.7271\n",
      "Epoch 12/50\n",
      "1961/1961 [==============================] - 9s 5ms/sample - loss: 0.1269 - accuracy: 0.9755 - val_loss: 1.0408 - val_accuracy: 0.7271\n",
      "Epoch 13/50\n",
      "1961/1961 [==============================] - 9s 4ms/sample - loss: 0.1218 - accuracy: 0.9771 - val_loss: 1.0415 - val_accuracy: 0.7271\n",
      "Epoch 14/50\n",
      "1961/1961 [==============================] - 9s 5ms/sample - loss: 0.1290 - accuracy: 0.9755 - val_loss: 1.0420 - val_accuracy: 0.7271\n",
      "Epoch 15/50\n",
      "1961/1961 [==============================] - 9s 5ms/sample - loss: 0.1335 - accuracy: 0.9720 - val_loss: 1.0418 - val_accuracy: 0.7271\n",
      "Epoch 16/50\n",
      "1961/1961 [==============================] - 9s 4ms/sample - loss: 0.1174 - accuracy: 0.9827 - val_loss: 1.0420 - val_accuracy: 0.7271\n",
      "Epoch 17/50\n",
      "1961/1961 [==============================] - 9s 5ms/sample - loss: 0.1270 - accuracy: 0.9791 - val_loss: 1.0425 - val_accuracy: 0.7271\n",
      "Epoch 18/50\n",
      "1961/1961 [==============================] - 9s 5ms/sample - loss: 0.1279 - accuracy: 0.9786 - val_loss: 1.0429 - val_accuracy: 0.7271\n",
      "Epoch 19/50\n",
      "1961/1961 [==============================] - 9s 5ms/sample - loss: 0.1260 - accuracy: 0.9786 - val_loss: 1.0431 - val_accuracy: 0.7271\n",
      "Epoch 20/50\n",
      "1961/1961 [==============================] - 9s 5ms/sample - loss: 0.1215 - accuracy: 0.9771 - val_loss: 1.0430 - val_accuracy: 0.7251\n",
      "Epoch 21/50\n",
      "1961/1961 [==============================] - 9s 5ms/sample - loss: 0.1231 - accuracy: 0.9765 - val_loss: 1.0429 - val_accuracy: 0.7251\n",
      "Epoch 22/50\n",
      "1961/1961 [==============================] - 9s 5ms/sample - loss: 0.1256 - accuracy: 0.9765 - val_loss: 1.0441 - val_accuracy: 0.7251\n",
      "Epoch 23/50\n",
      "1961/1961 [==============================] - 10s 5ms/sample - loss: 0.1242 - accuracy: 0.9760 - val_loss: 1.0440 - val_accuracy: 0.7251\n",
      "Epoch 24/50\n",
      "1961/1961 [==============================] - 9s 5ms/sample - loss: 0.1236 - accuracy: 0.9776 - val_loss: 1.0431 - val_accuracy: 0.7251\n",
      "Epoch 25/50\n",
      "1961/1961 [==============================] - 9s 5ms/sample - loss: 0.1277 - accuracy: 0.9745 - val_loss: 1.0439 - val_accuracy: 0.7251\n",
      "Epoch 26/50\n",
      "1961/1961 [==============================] - 10s 5ms/sample - loss: 0.1286 - accuracy: 0.9760 - val_loss: 1.0442 - val_accuracy: 0.7251\n",
      "Epoch 27/50\n",
      "1961/1961 [==============================] - 10s 5ms/sample - loss: 0.1263 - accuracy: 0.9760 - val_loss: 1.0440 - val_accuracy: 0.7251\n",
      "Epoch 28/50\n",
      "1961/1961 [==============================] - 9s 5ms/sample - loss: 0.1258 - accuracy: 0.9806 - val_loss: 1.0450 - val_accuracy: 0.7251\n",
      "Epoch 29/50\n",
      "1961/1961 [==============================] - 11s 5ms/sample - loss: 0.1243 - accuracy: 0.9771 - val_loss: 1.0447 - val_accuracy: 0.7251\n",
      "Epoch 30/50\n",
      "1961/1961 [==============================] - 10s 5ms/sample - loss: 0.1204 - accuracy: 0.9776 - val_loss: 1.0449 - val_accuracy: 0.7251\n",
      "Epoch 31/50\n",
      "1961/1961 [==============================] - 9s 5ms/sample - loss: 0.1261 - accuracy: 0.9745 - val_loss: 1.0441 - val_accuracy: 0.7251\n",
      "Epoch 32/50\n",
      "1961/1961 [==============================] - 9s 5ms/sample - loss: 0.1280 - accuracy: 0.9750 - val_loss: 1.0446 - val_accuracy: 0.7251\n",
      "Epoch 33/50\n",
      "1961/1961 [==============================] - 10s 5ms/sample - loss: 0.1274 - accuracy: 0.9776 - val_loss: 1.0434 - val_accuracy: 0.7251\n",
      "Epoch 34/50\n",
      "1961/1961 [==============================] - 9s 5ms/sample - loss: 0.1217 - accuracy: 0.9745 - val_loss: 1.0430 - val_accuracy: 0.7251\n",
      "Epoch 35/50\n",
      "1961/1961 [==============================] - 9s 5ms/sample - loss: 0.1210 - accuracy: 0.9755 - val_loss: 1.0438 - val_accuracy: 0.7251\n",
      "Epoch 36/50\n",
      "1961/1961 [==============================] - 9s 4ms/sample - loss: 0.1266 - accuracy: 0.9760 - val_loss: 1.0446 - val_accuracy: 0.7251\n",
      "Epoch 37/50\n",
      "1961/1961 [==============================] - 9s 5ms/sample - loss: 0.1195 - accuracy: 0.9755 - val_loss: 1.0441 - val_accuracy: 0.7230\n",
      "Epoch 38/50\n",
      "1961/1961 [==============================] - 9s 5ms/sample - loss: 0.1188 - accuracy: 0.9791 - val_loss: 1.0435 - val_accuracy: 0.7230\n",
      "Epoch 39/50\n",
      "1961/1961 [==============================] - 9s 4ms/sample - loss: 0.1198 - accuracy: 0.9781 - val_loss: 1.0439 - val_accuracy: 0.7251\n",
      "Epoch 40/50\n",
      "1961/1961 [==============================] - 9s 4ms/sample - loss: 0.1194 - accuracy: 0.9796 - val_loss: 1.0440 - val_accuracy: 0.7251\n",
      "Epoch 41/50\n",
      "1961/1961 [==============================] - 9s 4ms/sample - loss: 0.1160 - accuracy: 0.9806 - val_loss: 1.0433 - val_accuracy: 0.7251\n",
      "Epoch 42/50\n",
      "1961/1961 [==============================] - 9s 5ms/sample - loss: 0.1230 - accuracy: 0.9771 - val_loss: 1.0455 - val_accuracy: 0.7230\n",
      "Epoch 43/50\n",
      "1961/1961 [==============================] - 10s 5ms/sample - loss: 0.1287 - accuracy: 0.9750 - val_loss: 1.0455 - val_accuracy: 0.7230\n",
      "Epoch 44/50\n",
      "1961/1961 [==============================] - 10s 5ms/sample - loss: 0.1244 - accuracy: 0.9765 - val_loss: 1.0449 - val_accuracy: 0.7230\n",
      "Epoch 45/50\n",
      "1961/1961 [==============================] - 9s 5ms/sample - loss: 0.1274 - accuracy: 0.9745 - val_loss: 1.0468 - val_accuracy: 0.7230\n",
      "Epoch 46/50\n",
      "1961/1961 [==============================] - 10s 5ms/sample - loss: 0.1321 - accuracy: 0.9714 - val_loss: 1.0476 - val_accuracy: 0.7251\n",
      "Epoch 47/50\n",
      "1961/1961 [==============================] - 9s 5ms/sample - loss: 0.1136 - accuracy: 0.9796 - val_loss: 1.0471 - val_accuracy: 0.7230\n",
      "Epoch 48/50\n",
      "1961/1961 [==============================] - 10s 5ms/sample - loss: 0.1232 - accuracy: 0.9791 - val_loss: 1.0469 - val_accuracy: 0.7251\n",
      "Epoch 49/50\n",
      "1961/1961 [==============================] - 9s 5ms/sample - loss: 0.1136 - accuracy: 0.9827 - val_loss: 1.0459 - val_accuracy: 0.7251\n",
      "Epoch 50/50\n",
      "1961/1961 [==============================] - 9s 5ms/sample - loss: 0.1241 - accuracy: 0.9781 - val_loss: 1.0460 - val_accuracy: 0.7251\n"
     ]
    }
   ],
   "source": [
    "hist = model.fit(x_train, y_train, batch_size=32, epochs=50, validation_data=(x_val, y_val), callbacks=[lr_reducer])"
   ]
  },
  {
   "cell_type": "code",
   "execution_count": 44,
   "metadata": {},
   "outputs": [],
   "source": [
    "def draw_hist(hist):\n",
    "    acc = hist.history['accuracy']\n",
    "    val_acc = hist.history['val_accuracy']\n",
    "    loss = hist.history['loss']\n",
    "    val_loss = hist.history['val_loss']\n",
    "\n",
    "    epochs = range(1, len(acc) + 1)\n",
    "\n",
    "    # \"bo\" is for \"blue dot\"\n",
    "    plt.figure(figsize=(8, 4.5))\n",
    "    plt.plot(epochs, loss, 'bo', label='Training loss')\n",
    "    # b is for \"solid blue line\"\n",
    "    plt.plot(epochs, val_loss, 'b', label='Validation loss')\n",
    "    plt.title('Training and validation loss')\n",
    "    plt.xlabel('Epochs')\n",
    "    plt.ylabel('Loss')\n",
    "    plt.legend()\n",
    "    plt.show()\n",
    "\n",
    "    plt.clf()   # clear figure\n",
    "    acc_values = acc\n",
    "    val_acc_values = val_acc\n",
    "\n",
    "    plt.figure(figsize=(8, 4.5))\n",
    "    plt.plot(epochs, acc, 'bo', label='Training acc')\n",
    "    plt.plot(epochs, val_acc, 'b', label='Validation acc')\n",
    "    plt.title('Training and validation accuracy')\n",
    "    plt.xlabel('Epochs')\n",
    "    plt.ylabel('Loss')\n",
    "    plt.legend()\n",
    "    plt.show()"
   ]
  },
  {
   "cell_type": "code",
   "execution_count": 45,
   "metadata": {},
   "outputs": [],
   "source": [
    "def plot_confusion_matrix(y_true, y_pred, classes,\n",
    "                          normalize=False,\n",
    "                          title=None,\n",
    "                          cmap=plt.cm.Blues):\n",
    "    \"\"\"\n",
    "    This function prints and plots the confusion matrix.\n",
    "    Normalization can be applied by setting `normalize=True`.\n",
    "    \"\"\"\n",
    "    if not title:\n",
    "        if normalize:\n",
    "            title = 'Normalized confusion matrix'\n",
    "        else:\n",
    "            title = 'Confusion matrix, without normalization'\n",
    "\n",
    "    # Compute confusion matrix\n",
    "    cm = confusion_matrix(y_true, y_pred)\n",
    "    # Only use the labels that appear in the data\n",
    "\n",
    "    print('unique labels:', unique_labels(y_true, y_pred))\n",
    "    classes = np.array(classes)[unique_labels(y_true, y_pred)]\n",
    "    if normalize:\n",
    "        cm = cm.astype('float') / cm.sum(axis=1)[:, np.newaxis]\n",
    "        print(\"Normalized confusion matrix\")\n",
    "    else:\n",
    "        print('Confusion matrix, without normalization')\n",
    "\n",
    "\n",
    "    fig, ax = plt.subplots()\n",
    "    fig.set_figheight(9)\n",
    "    fig.set_figwidth(9)\n",
    "    im = ax.imshow(cm, interpolation='nearest', cmap=cmap)\n",
    "    ax.figure.colorbar(im, ax=ax)\n",
    "    # We want to show all ticks...\n",
    "    ax.set(xticks=np.arange(cm.shape[1]),\n",
    "           yticks=np.arange(cm.shape[0]),\n",
    "           # ... and label them with the respective list entries\n",
    "           xticklabels=classes, yticklabels=classes,\n",
    "           title=title,\n",
    "           ylabel='True label',\n",
    "           xlabel='Predicted label')\n",
    "\n",
    "    # Rotate the tick labels and set their alignment.\n",
    "    plt.setp(ax.get_xticklabels(), rotation=45, ha=\"right\",\n",
    "             rotation_mode=\"anchor\")\n",
    "\n",
    "    # Loop over data dimensions and create text annotations.\n",
    "    fmt = '.2f' if normalize else 'd'\n",
    "    thresh = cm.max() / 2.\n",
    "    for i in range(cm.shape[0]):\n",
    "        for j in range(cm.shape[1]):\n",
    "            ax.text(j, i, format(cm[i, j], fmt),\n",
    "                    ha=\"center\", va=\"center\",\n",
    "                    color=\"white\" if cm[i, j] > thresh else \"black\")\n",
    "    fig.tight_layout()\n",
    "    return ax"
   ]
  },
  {
   "cell_type": "code",
   "execution_count": 46,
   "metadata": {},
   "outputs": [
    {
     "name": "stdout",
     "output_type": "stream",
     "text": [
      "1.045985987375807 0.7250509\n",
      "Classification report: \n",
      "              precision    recall  f1-score   support\n",
      "\n",
      "           0       0.60      0.60      0.60        35\n",
      "           1       0.72      0.88      0.79        80\n",
      "           2       0.77      0.75      0.76        76\n",
      "           3       0.76      0.62      0.68        78\n",
      "           4       0.77      0.80      0.78        79\n",
      "           5       0.77      0.70      0.73        66\n",
      "           6       0.58      0.63      0.60        35\n",
      "           7       0.69      0.69      0.69        42\n",
      "\n",
      "    accuracy                           0.73       491\n",
      "   macro avg       0.71      0.71      0.70       491\n",
      "weighted avg       0.73      0.73      0.72       491\n",
      "\n",
      "Confusion matrix: \n",
      "[[21  7  1  2  0  1  2  1]\n",
      " [ 2 70  0  4  0  3  1  0]\n",
      " [ 1  5 57  2  4  1  1  5]\n",
      " [ 5 13  2 48  2  4  3  1]\n",
      " [ 2  0  5  1 63  3  4  1]\n",
      " [ 2  1  3  5  4 46  2  3]\n",
      " [ 2  1  1  1  6  0 22  2]\n",
      " [ 0  0  5  0  3  2  3 29]]\n"
     ]
    },
    {
     "data": {
      "image/png": "[encoded data removed]",
      "text/plain": [
       "<Figure size 576x324 with 1 Axes>"
      ]
     },
     "metadata": {
      "needs_background": "light"
     },
     "output_type": "display_data"
    },
    {
     "data": {
      "text/plain": [
       "<Figure size 432x288 with 0 Axes>"
      ]
     },
     "metadata": {},
     "output_type": "display_data"
    },
    {
     "data": {
      "image/png": "[encoded data removed]",
      "text/plain": [
       "<Figure size 576x324 with 1 Axes>"
      ]
     },
     "metadata": {
      "needs_background": "light"
     },
     "output_type": "display_data"
    },
    {
     "name": "stdout",
     "output_type": "stream",
     "text": [
      "unique labels: [0 1 2 3 4 5 6 7]\n",
      "Normalized confusion matrix\n"
     ]
    },
    {
     "data": {
      "text/plain": [
       "<matplotlib.axes._subplots.AxesSubplot at 0x1e8312c66a0>"
      ]
     },
     "execution_count": 46,
     "metadata": {},
     "output_type": "execute_result"
    },
    {
     "data": {
      "image/png": "[encoded data removed]",
      "text/plain": [
       "<Figure size 648x648 with 2 Axes>"
      ]
     },
     "metadata": {
      "needs_background": "light"
     },
     "output_type": "display_data"
    }
   ],
   "source": [
    "test_loss, test_acc = model.evaluate(x_test, y_test, verbose=0)\n",
    "print(test_loss, test_acc)\n",
    "pred_labels = model.predict(x_test)\n",
    "print('Classification report: ')\n",
    "print(classification_report(np.argmax(y_test, axis=1), np.argmax(pred_labels, axis=1)))\n",
    "print('Confusion matrix: ')\n",
    "print(confusion_matrix(np.argmax(y_test, axis=1), np.argmax(pred_labels, axis=1)))\n",
    "draw_hist(hist) \n",
    "plot_confusion_matrix(np.argmax(y_test, axis=1), np.argmax(pred_labels, axis=1), normalize=True, classes=[str(i) for i in range(10)])"
   ]
  },
  {
   "cell_type": "code",
   "execution_count": null,
   "metadata": {},
   "outputs": [],
   "source": []
  }
 ],
 "metadata": {
  "kernelspec": {
   "display_name": "Python 3",
   "language": "python",
   "name": "python3"
  },
  "language_info": {
   "codemirror_mode": {
    "name": "ipython",
    "version": 3
   },
   "file_extension": ".py",
   "mimetype": "text/x-python",
   "name": "python",
   "nbconvert_exporter": "python",
   "pygments_lexer": "ipython3",
   "version": "3.7.3"
  }
 },
 "nbformat": 4,
 "nbformat_minor": 4
}

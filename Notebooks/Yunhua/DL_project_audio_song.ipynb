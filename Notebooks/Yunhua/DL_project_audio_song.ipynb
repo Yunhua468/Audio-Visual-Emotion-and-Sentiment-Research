{
 "cells": [
  {
   "cell_type": "code",
   "execution_count": 1,
   "metadata": {},
   "outputs": [
    {
     "name": "stderr",
     "output_type": "stream",
     "text": [
      "Using TensorFlow backend.\n"
     ]
    }
   ],
   "source": [
    "import os\n",
    "import pandas as pd\n",
    "import numpy as np\n",
    "from tqdm import tqdm\n",
    "import scipy.io.wavfile as wav\n",
    "from speechpy.feature import mfcc\n",
    "import librosa\n",
    "import matplotlib.pyplot as plt\n",
    "from sklearn.model_selection import train_test_split\n",
    "from sklearn.metrics import accuracy_score\n",
    "from sklearn.metrics import confusion_matrix\n",
    "from sklearn.metrics import classification_report\n",
    "\n",
    "import tensorflow as tf\n",
    "from tensorflow.keras import layers\n",
    "from tensorflow.keras import models\n",
    "from tensorflow.keras import backend as K\n",
    "from tensorflow.keras.callbacks import ReduceLROnPlateau\n",
    "from tensorflow import keras\n",
    "from keras.utils import np_utils\n",
    "from sklearn.utils.multiclass import unique_labels"
   ]
  },
  {
   "cell_type": "markdown",
   "metadata": {},
   "source": [
    "**Load the data set**"
   ]
  },
  {
   "cell_type": "code",
   "execution_count": 2,
   "metadata": {},
   "outputs": [],
   "source": [
    "FILEPATH = 'C:\\\\Users\\\\ZhaoY\\\\Downloads\\\\DL_Project\\\\dataset\\\\Audio_Song_Actors_01-24\\\\'\n",
    "dir_list = os.listdir(FILEPATH)"
   ]
  },
  {
   "cell_type": "code",
   "execution_count": 3,
   "metadata": {},
   "outputs": [
    {
     "name": "stdout",
     "output_type": "stream",
     "text": [
      "C:\\Users\\ZhaoY\\Downloads\\DL_Project\\dataset\\Audio_Song_Actors_01-24\\ hahaha\n"
     ]
    }
   ],
   "source": [
    "#get the paths\n",
    "dirts = []\n",
    "filepath_delete = True\n",
    "for root, dirt,file in os.walk(FILEPATH):\n",
    "    if filepath_delete == True:\n",
    "        print(root, \"hahaha\")\n",
    "        filepath_delete = False\n",
    "    else:\n",
    "        dirts.append(root)     "
   ]
  },
  {
   "cell_type": "code",
   "execution_count": 4,
   "metadata": {},
   "outputs": [],
   "source": [
    "#get the files in every path\n",
    "files = []\n",
    "for dirt in dirts:\n",
    "    for root, dt, file in os.walk(dirt):\n",
    "        for fl in file:\n",
    "            files.append(os.path.join(dirt,fl))  "
   ]
  },
  {
   "cell_type": "code",
   "execution_count": 5,
   "metadata": {},
   "outputs": [
    {
     "data": {
      "text/plain": [
       "'C:\\\\Users\\\\ZhaoY\\\\Downloads\\\\DL_Project\\\\dataset\\\\Audio_Song_Actors_01-24\\\\Actor_01\\\\03-02-01-01-01-02-01.wav'"
      ]
     },
     "execution_count": 5,
     "metadata": {},
     "output_type": "execute_result"
    }
   ],
   "source": [
    "files[1]"
   ]
  },
  {
   "cell_type": "code",
   "execution_count": 6,
   "metadata": {},
   "outputs": [],
   "source": [
    "filename = []\n",
    "Actor = []\n",
    "for file in files:\n",
    "    filename.append(file.split('\\\\')[-1])\n",
    "    Actor.append(file.split('\\\\')[-2])"
   ]
  },
  {
   "cell_type": "code",
   "execution_count": 7,
   "metadata": {},
   "outputs": [
    {
     "data": {
      "text/plain": [
       "'03-02-01-01-01-01-01.wav'"
      ]
     },
     "execution_count": 7,
     "metadata": {},
     "output_type": "execute_result"
    }
   ],
   "source": [
    "filename[0]"
   ]
  },
  {
   "cell_type": "code",
   "execution_count": 8,
   "metadata": {},
   "outputs": [
    {
     "data": {
      "text/plain": [
       "'Actor_24'"
      ]
     },
     "execution_count": 8,
     "metadata": {},
     "output_type": "execute_result"
    }
   ],
   "source": [
    "Actor[-1]"
   ]
  },
  {
   "cell_type": "code",
   "execution_count": 9,
   "metadata": {},
   "outputs": [],
   "source": [
    "Modality = []\n",
    "Vocal_channel = []\n",
    "Emotion = []\n",
    "Emotional_intensity = []\n",
    "Statement = []\n",
    "Repetition = []\n",
    "\n",
    "for name in filename:\n",
    "    Modality.append(name.split('-')[0])\n",
    "    Vocal_channel.append(name.split('-')[1])\n",
    "    Emotion.append(int(name.split('-')[2])-1)\n",
    "    Emotional_intensity.append(name.split('-')[3])\n",
    "    Statement.append(name.split('-')[4])\n",
    "    Repetition.append(name.split('-')[5])"
   ]
  },
  {
   "cell_type": "code",
   "execution_count": 10,
   "metadata": {},
   "outputs": [],
   "source": [
    "df = pd.DataFrame({'files': files, \n",
    "                   'modalities': Modality,\n",
    "                   'vocal_channels': Vocal_channel, \n",
    "                   'emotions': Emotion,\n",
    "                   'emotional_intensities': Emotional_intensity,\n",
    "                   'statements': Statement,\n",
    "                   'repetitiona': Repetition})"
   ]
  },
  {
   "cell_type": "code",
   "execution_count": 11,
   "metadata": {},
   "outputs": [
    {
     "data": {
      "text/html": [
       "<div>\n",
       "<style scoped>\n",
       "    .dataframe tbody tr th:only-of-type {\n",
       "        vertical-align: middle;\n",
       "    }\n",
       "\n",
       "    .dataframe tbody tr th {\n",
       "        vertical-align: top;\n",
       "    }\n",
       "\n",
       "    .dataframe thead th {\n",
       "        text-align: right;\n",
       "    }\n",
       "</style>\n",
       "<table border=\"1\" class=\"dataframe\">\n",
       "  <thead>\n",
       "    <tr style=\"text-align: right;\">\n",
       "      <th></th>\n",
       "      <th>files</th>\n",
       "      <th>modalities</th>\n",
       "      <th>vocal_channels</th>\n",
       "      <th>emotions</th>\n",
       "      <th>emotional_intensities</th>\n",
       "      <th>statements</th>\n",
       "      <th>repetitiona</th>\n",
       "    </tr>\n",
       "  </thead>\n",
       "  <tbody>\n",
       "    <tr>\n",
       "      <th>0</th>\n",
       "      <td>C:\\Users\\ZhaoY\\Downloads\\DL_Project\\dataset\\Au...</td>\n",
       "      <td>03</td>\n",
       "      <td>02</td>\n",
       "      <td>0</td>\n",
       "      <td>01</td>\n",
       "      <td>01</td>\n",
       "      <td>01</td>\n",
       "    </tr>\n",
       "  </tbody>\n",
       "</table>\n",
       "</div>"
      ],
      "text/plain": [
       "                                               files modalities  \\\n",
       "0  C:\\Users\\ZhaoY\\Downloads\\DL_Project\\dataset\\Au...         03   \n",
       "\n",
       "  vocal_channels  emotions emotional_intensities statements repetitiona  \n",
       "0             02         0                    01         01          01  "
      ]
     },
     "execution_count": 11,
     "metadata": {},
     "output_type": "execute_result"
    }
   ],
   "source": [
    "df.head(1)"
   ]
  },
  {
   "cell_type": "code",
   "execution_count": 12,
   "metadata": {},
   "outputs": [
    {
     "name": "stdout",
     "output_type": "stream",
     "text": [
      "<class 'pandas.core.frame.DataFrame'>\n",
      "RangeIndex: 1012 entries, 0 to 1011\n",
      "Data columns (total 7 columns):\n",
      "files                    1012 non-null object\n",
      "modalities               1012 non-null object\n",
      "vocal_channels           1012 non-null object\n",
      "emotions                 1012 non-null int64\n",
      "emotional_intensities    1012 non-null object\n",
      "statements               1012 non-null object\n",
      "repetitiona              1012 non-null object\n",
      "dtypes: int64(1), object(6)\n",
      "memory usage: 55.4+ KB\n"
     ]
    }
   ],
   "source": [
    "df.info()"
   ]
  },
  {
   "cell_type": "code",
   "execution_count": 13,
   "metadata": {},
   "outputs": [
    {
     "data": {
      "text/plain": [
       "5    184\n",
       "4    184\n",
       "3    184\n",
       "2    184\n",
       "1    184\n",
       "0     92\n",
       "Name: emotions, dtype: int64"
      ]
     },
     "execution_count": 13,
     "metadata": {},
     "output_type": "execute_result"
    }
   ],
   "source": [
    "df.emotions.value_counts()"
   ]
  },
  {
   "cell_type": "code",
   "execution_count": 14,
   "metadata": {},
   "outputs": [
    {
     "data": {
      "text/plain": [
       "(array([ 92.,   0., 184.,   0., 184.,   0., 184.,   0., 184., 184.]),\n",
       " array([0. , 0.5, 1. , 1.5, 2. , 2.5, 3. , 3.5, 4. , 4.5, 5. ]),\n",
       " <a list of 10 Patch objects>)"
      ]
     },
     "execution_count": 14,
     "metadata": {},
     "output_type": "execute_result"
    },
    {
     "data": {
      "image/png": "[encoded data removed]",
      "text/plain": [
       "<Figure size 432x288 with 1 Axes>"
      ]
     },
     "metadata": {
      "needs_background": "light"
     },
     "output_type": "display_data"
    }
   ],
   "source": [
    "plt.hist(df.emotions)"
   ]
  },
  {
   "cell_type": "code",
   "execution_count": 15,
   "metadata": {},
   "outputs": [
    {
     "name": "stdout",
     "output_type": "stream",
     "text": [
      "1012\n"
     ]
    }
   ],
   "source": [
    "print(len(files))"
   ]
  },
  {
   "cell_type": "code",
   "execution_count": 16,
   "metadata": {},
   "outputs": [],
   "source": [
    "mean_signal_length = 0\n",
    "signals = []\n",
    "for fname in files:\n",
    "    signal, fs = librosa.load(fname, sr=16000, mono=True)\n",
    "    mean_signal_length += len(signal)\n",
    "    signals.append(signal)\n",
    "mean_signal_length = mean_signal_length/(len(files))"
   ]
  },
  {
   "cell_type": "code",
   "execution_count": 17,
   "metadata": {
    "scrolled": true
   },
   "outputs": [
    {
     "name": "stdout",
     "output_type": "stream",
     "text": [
      "74387\n"
     ]
    }
   ],
   "source": [
    "mean_signal_length = int(mean_signal_length) \n",
    "print(mean_signal_length)"
   ]
  },
  {
   "cell_type": "code",
   "execution_count": 18,
   "metadata": {},
   "outputs": [],
   "source": [
    "def get_feature_vector_from_mfcc(signal, mean_signal_length: int, flatten: bool) -> np.ndarray:\n",
    "    \"\"\"\n",
    "    Make feature vector from MFCC for the given wav file.\n",
    "\n",
    "    Args:\n",
    "        file_path (str): path to the .wav file that needs to be read.\n",
    "        flatten (bool) : Boolean indicating whether to flatten mfcc obtained.\n",
    "        mfcc_len (int): Number of cepestral co efficients to be consider.\n",
    "\n",
    "    Returns:\n",
    "        numpy.ndarray: feature vector of the wav file made from mfcc.\n",
    "    \"\"\"\n",
    "    #fs, signal = wav.read(file_path)\n",
    "    #signal, fs = librosa.load(file_path, sr=16000, mono=True)\n",
    "    s_len = len(signal)\n",
    "\n",
    "    # pad the signals to have same size if lesser than required\n",
    "    # else slice them    \n",
    "    \n",
    "    if s_len < mean_signal_length:\n",
    "        pad_len = mean_signal_length - s_len\n",
    "        pad_rem = pad_len % 2\n",
    "        pad_len //= 2\n",
    "        signal = np.pad(signal, (pad_len, pad_len + pad_rem),\n",
    "                        'constant', constant_values=0)\n",
    "    else:\n",
    "        pad_len = s_len - mean_signal_length\n",
    "        pad_len //= 2\n",
    "        signal = signal[pad_len:pad_len + mean_signal_length]\n",
    "        \n",
    "    # sample/frame = mean_signal_length*frame_length\n",
    "    mel_coefficients = mfcc(signal, fs, frame_length=0.048, frame_stride=0.024, num_filters=30, num_cepstral=30, low_frequency=60, high_frequency=7600)\n",
    "    if flatten:\n",
    "        # Flatten the data\n",
    "        mel_coefficients = np.ravel(mel_coefficients)\n",
    "    return mel_coefficients"
   ]
  },
  {
   "cell_type": "code",
   "execution_count": 19,
   "metadata": {},
   "outputs": [],
   "source": [
    "features = []\n",
    "for signal in signals:\n",
    "    features.append(get_feature_vector_from_mfcc(signal, mean_signal_length, flatten=False))"
   ]
  },
  {
   "cell_type": "code",
   "execution_count": 20,
   "metadata": {},
   "outputs": [
    {
     "data": {
      "text/plain": [
       "array([[-36.04365339,   0.        ,   0.        , ...,   0.        ,\n",
       "          0.        ,   0.        ],\n",
       "       [-36.04365339,   0.        ,   0.        , ...,   0.        ,\n",
       "          0.        ,   0.        ],\n",
       "       [-36.04365339,   0.        ,   0.        , ...,   0.        ,\n",
       "          0.        ,   0.        ],\n",
       "       ...,\n",
       "       [-36.04365339,   0.        ,   0.        , ...,   0.        ,\n",
       "          0.        ,   0.        ],\n",
       "       [-36.04365339,   0.        ,   0.        , ...,   0.        ,\n",
       "          0.        ,   0.        ],\n",
       "       [-36.04365339,   0.        ,   0.        , ...,   0.        ,\n",
       "          0.        ,   0.        ]])"
      ]
     },
     "execution_count": 20,
     "metadata": {},
     "output_type": "execute_result"
    }
   ],
   "source": [
    "features[0]"
   ]
  },
  {
   "cell_type": "code",
   "execution_count": 21,
   "metadata": {},
   "outputs": [
    {
     "data": {
      "text/plain": [
       "<matplotlib.image.AxesImage at 0x2a0d915cd68>"
      ]
     },
     "execution_count": 21,
     "metadata": {},
     "output_type": "execute_result"
    },
    {
     "data": {
      "image/png": "[encoded data removed]",
      "text/plain": [
       "<Figure size 432x288 with 1 Axes>"
      ]
     },
     "metadata": {
      "needs_background": "light"
     },
     "output_type": "display_data"
    }
   ],
   "source": [
    "plt.imshow(features[0].T)"
   ]
  },
  {
   "cell_type": "code",
   "execution_count": 22,
   "metadata": {},
   "outputs": [
    {
     "data": {
      "text/plain": [
       "(1012, 191, 30)"
      ]
     },
     "execution_count": 22,
     "metadata": {},
     "output_type": "execute_result"
    }
   ],
   "source": [
    "#need to stack these features, so need to add one demenssion\n",
    "features = np.vstack([feature[np.newaxis, :, :] for feature in features])\n",
    "features.shape"
   ]
  },
  {
   "cell_type": "code",
   "execution_count": 23,
   "metadata": {},
   "outputs": [
    {
     "data": {
      "text/plain": [
       "array([0, 1, 2, 3, 4, 5])"
      ]
     },
     "execution_count": 23,
     "metadata": {},
     "output_type": "execute_result"
    }
   ],
   "source": [
    "np.unique(Emotion)"
   ]
  },
  {
   "cell_type": "code",
   "execution_count": 24,
   "metadata": {},
   "outputs": [],
   "source": [
    "#one hot code, it is classification not logistic regression, so change numbers to one hot code\n",
    "labels = np_utils.to_categorical(Emotion)"
   ]
  },
  {
   "cell_type": "code",
   "execution_count": 25,
   "metadata": {},
   "outputs": [
    {
     "data": {
      "text/plain": [
       "(1012, 6)"
      ]
     },
     "execution_count": 25,
     "metadata": {},
     "output_type": "execute_result"
    }
   ],
   "source": [
    "labels.shape"
   ]
  },
  {
   "cell_type": "code",
   "execution_count": 26,
   "metadata": {},
   "outputs": [],
   "source": [
    "x_train, x_test, y_train, y_test = train_test_split(features, labels, test_size=0.2, random_state=42)"
   ]
  },
  {
   "cell_type": "code",
   "execution_count": 27,
   "metadata": {},
   "outputs": [],
   "source": [
    "def build_model(input_shape, num_classes):\n",
    "    model = models.Sequential()\n",
    "    model.add(layers.LSTM(128, input_shape=(input_shape[0], input_shape[1])))\n",
    "    model.add(layers.BatchNormalization())\n",
    "    model.add(layers.Dropout(0.5))\n",
    "    model.add(layers.Dense(32, activation='relu'))\n",
    "    model.add(layers.Dense(16, activation='tanh'))\n",
    "    model.add(layers.Dense(num_classes, activation='softmax'))\n",
    "    model.compile(loss='categorical_crossentropy',\n",
    "                  optimizer='adam',\n",
    "                  metrics=['accuracy'])\n",
    "    return model"
   ]
  },
  {
   "cell_type": "code",
   "execution_count": 33,
   "metadata": {},
   "outputs": [],
   "source": [
    "model = build_model(input_shape=(features.shape[1], features.shape[2]), num_classes=labels.shape[1])"
   ]
  },
  {
   "cell_type": "code",
   "execution_count": 34,
   "metadata": {},
   "outputs": [
    {
     "data": {
      "text/plain": [
       "(1012, 6)"
      ]
     },
     "execution_count": 34,
     "metadata": {},
     "output_type": "execute_result"
    }
   ],
   "source": [
    "labels.shape"
   ]
  },
  {
   "cell_type": "code",
   "execution_count": 35,
   "metadata": {},
   "outputs": [
    {
     "data": {
      "text/plain": [
       "(1012, 191, 30)"
      ]
     },
     "execution_count": 35,
     "metadata": {},
     "output_type": "execute_result"
    }
   ],
   "source": [
    "features.shape"
   ]
  },
  {
   "cell_type": "code",
   "execution_count": 36,
   "metadata": {},
   "outputs": [],
   "source": [
    "lr_reducer = ReduceLROnPlateau(monitor='val_loss', \n",
    "                               factor=0.2,\n",
    "                               patience=5,\n",
    "                               min_lr=1e-6,\n",
    "                               verbose=1)"
   ]
  },
  {
   "cell_type": "code",
   "execution_count": 37,
   "metadata": {},
   "outputs": [
    {
     "name": "stdout",
     "output_type": "stream",
     "text": [
      "Train on 809 samples, validate on 203 samples\n",
      "Epoch 1/34\n",
      "809/809 [==============================] - 10s 13ms/sample - loss: 2.0010 - accuracy: 0.2077 - val_loss: 1.8034 - val_accuracy: 0.2118\n",
      "Epoch 2/34\n",
      "809/809 [==============================] - 7s 8ms/sample - loss: 1.7431 - accuracy: 0.2608 - val_loss: 1.7649 - val_accuracy: 0.2266\n",
      "Epoch 3/34\n",
      "809/809 [==============================] - 6s 7ms/sample - loss: 1.7045 - accuracy: 0.2930 - val_loss: 1.7225 - val_accuracy: 0.2709\n",
      "Epoch 4/34\n",
      "809/809 [==============================] - 7s 8ms/sample - loss: 1.6402 - accuracy: 0.3239 - val_loss: 1.7098 - val_accuracy: 0.2562\n",
      "Epoch 5/34\n",
      "809/809 [==============================] - 6s 7ms/sample - loss: 1.5903 - accuracy: 0.3572 - val_loss: 1.6493 - val_accuracy: 0.2709\n",
      "Epoch 6/34\n",
      "809/809 [==============================] - 6s 7ms/sample - loss: 1.5118 - accuracy: 0.3869 - val_loss: 1.5930 - val_accuracy: 0.3153\n",
      "Epoch 7/34\n",
      "809/809 [==============================] - 6s 7ms/sample - loss: 1.4507 - accuracy: 0.4030 - val_loss: 1.5068 - val_accuracy: 0.3596\n",
      "Epoch 8/34\n",
      "809/809 [==============================] - 6s 7ms/sample - loss: 1.3727 - accuracy: 0.4215 - val_loss: 1.5216 - val_accuracy: 0.3399\n",
      "Epoch 9/34\n",
      "809/809 [==============================] - 6s 7ms/sample - loss: 1.3125 - accuracy: 0.4524 - val_loss: 1.4529 - val_accuracy: 0.3547\n",
      "Epoch 10/34\n",
      "809/809 [==============================] - 6s 8ms/sample - loss: 1.2874 - accuracy: 0.4660 - val_loss: 1.4912 - val_accuracy: 0.3695\n",
      "Epoch 11/34\n",
      "809/809 [==============================] - 6s 7ms/sample - loss: 1.2690 - accuracy: 0.4598 - val_loss: 1.3777 - val_accuracy: 0.4089\n",
      "Epoch 12/34\n",
      "809/809 [==============================] - 7s 9ms/sample - loss: 1.2313 - accuracy: 0.5093 - val_loss: 1.7329 - val_accuracy: 0.3300\n",
      "Epoch 13/34\n",
      "809/809 [==============================] - 6s 8ms/sample - loss: 1.2089 - accuracy: 0.5142 - val_loss: 1.3763 - val_accuracy: 0.4433\n",
      "Epoch 14/34\n",
      "809/809 [==============================] - 6s 8ms/sample - loss: 1.1929 - accuracy: 0.5093 - val_loss: 1.3103 - val_accuracy: 0.4286\n",
      "Epoch 15/34\n",
      "809/809 [==============================] - 6s 8ms/sample - loss: 1.0928 - accuracy: 0.5711 - val_loss: 1.2847 - val_accuracy: 0.4778\n",
      "Epoch 16/34\n",
      "809/809 [==============================] - 6s 7ms/sample - loss: 1.0465 - accuracy: 0.5822 - val_loss: 1.2899 - val_accuracy: 0.4729\n",
      "Epoch 17/34\n",
      "809/809 [==============================] - 6s 7ms/sample - loss: 0.9987 - accuracy: 0.6094 - val_loss: 1.2548 - val_accuracy: 0.4729\n",
      "Epoch 18/34\n",
      "809/809 [==============================] - 6s 7ms/sample - loss: 0.9297 - accuracy: 0.6205 - val_loss: 1.2372 - val_accuracy: 0.4631\n",
      "Epoch 19/34\n",
      "809/809 [==============================] - 6s 7ms/sample - loss: 0.9633 - accuracy: 0.6316 - val_loss: 1.2760 - val_accuracy: 0.4729\n",
      "Epoch 20/34\n",
      "809/809 [==============================] - 6s 7ms/sample - loss: 0.9188 - accuracy: 0.6292 - val_loss: 1.2928 - val_accuracy: 0.5074\n",
      "Epoch 21/34\n",
      "809/809 [==============================] - 5s 7ms/sample - loss: 0.9282 - accuracy: 0.6218 - val_loss: 1.1910 - val_accuracy: 0.5271\n",
      "Epoch 22/34\n",
      "809/809 [==============================] - 5s 7ms/sample - loss: 0.8577 - accuracy: 0.6551 - val_loss: 1.0724 - val_accuracy: 0.5813\n",
      "Epoch 23/34\n",
      "809/809 [==============================] - 5s 7ms/sample - loss: 0.8109 - accuracy: 0.6860 - val_loss: 1.1709 - val_accuracy: 0.5172\n",
      "Epoch 24/34\n",
      "809/809 [==============================] - 5s 7ms/sample - loss: 0.7962 - accuracy: 0.6996 - val_loss: 1.1176 - val_accuracy: 0.5813\n",
      "Epoch 25/34\n",
      "809/809 [==============================] - 5s 7ms/sample - loss: 0.7325 - accuracy: 0.7206 - val_loss: 1.0275 - val_accuracy: 0.5911\n",
      "Epoch 26/34\n",
      "809/809 [==============================] - 5s 7ms/sample - loss: 0.6587 - accuracy: 0.7651 - val_loss: 1.0405 - val_accuracy: 0.5911\n",
      "Epoch 27/34\n",
      "809/809 [==============================] - 6s 7ms/sample - loss: 0.6350 - accuracy: 0.7824 - val_loss: 1.0362 - val_accuracy: 0.6059\n",
      "Epoch 28/34\n",
      "809/809 [==============================] - 6s 7ms/sample - loss: 0.5922 - accuracy: 0.7862 - val_loss: 0.9880 - val_accuracy: 0.6502\n",
      "Epoch 29/34\n",
      "809/809 [==============================] - 6s 7ms/sample - loss: 0.5478 - accuracy: 0.8022 - val_loss: 0.8807 - val_accuracy: 0.6650\n",
      "Epoch 30/34\n",
      "809/809 [==============================] - 6s 8ms/sample - loss: 0.4683 - accuracy: 0.8443 - val_loss: 1.0598 - val_accuracy: 0.6108\n",
      "Epoch 31/34\n",
      "809/809 [==============================] - 6s 7ms/sample - loss: 0.4987 - accuracy: 0.8356 - val_loss: 0.8868 - val_accuracy: 0.6897\n",
      "Epoch 32/34\n",
      "809/809 [==============================] - 6s 7ms/sample - loss: 0.4333 - accuracy: 0.8677 - val_loss: 0.7655 - val_accuracy: 0.6995\n",
      "Epoch 33/34\n",
      "809/809 [==============================] - 5s 7ms/sample - loss: 0.3288 - accuracy: 0.9036 - val_loss: 0.8288 - val_accuracy: 0.7143\n",
      "Epoch 34/34\n",
      "809/809 [==============================] - 5s 7ms/sample - loss: 0.2873 - accuracy: 0.9110 - val_loss: 1.0423 - val_accuracy: 0.6749\n"
     ]
    }
   ],
   "source": [
    "hist = model.fit(x_train, y_train, batch_size=32, epochs=34, validation_data=(x_test, y_test), callbacks=[lr_reducer])"
   ]
  },
  {
   "cell_type": "code",
   "execution_count": 38,
   "metadata": {},
   "outputs": [],
   "source": [
    "def draw_hist(hist):\n",
    "    acc = hist.history['accuracy']\n",
    "    val_acc = hist.history['val_accuracy']\n",
    "    loss = hist.history['loss']\n",
    "    val_loss = hist.history['val_loss']\n",
    "\n",
    "    epochs = range(1, len(acc) + 1)\n",
    "\n",
    "    # \"bo\" is for \"blue dot\"\n",
    "    plt.figure(figsize=(8, 4.5))\n",
    "    plt.plot(epochs, loss, 'bo', label='Training loss')\n",
    "    # b is for \"solid blue line\"\n",
    "    plt.plot(epochs, val_loss, 'b', label='Validation loss')\n",
    "    plt.title('Training and validation loss')\n",
    "    plt.xlabel('Epochs')\n",
    "    plt.ylabel('Loss')\n",
    "    plt.legend()\n",
    "    plt.show()\n",
    "\n",
    "    plt.clf()   # clear figure\n",
    "    acc_values = acc\n",
    "    val_acc_values = val_acc\n",
    "\n",
    "    plt.figure(figsize=(8, 4.5))\n",
    "    plt.plot(epochs, acc, 'bo', label='Training acc')\n",
    "    plt.plot(epochs, val_acc, 'b', label='Validation acc')\n",
    "    plt.title('Training and validation accuracy')\n",
    "    plt.xlabel('Epochs')\n",
    "    plt.ylabel('Loss')\n",
    "    plt.legend()\n",
    "    plt.show()"
   ]
  },
  {
   "cell_type": "code",
   "execution_count": 39,
   "metadata": {},
   "outputs": [],
   "source": [
    "def plot_confusion_matrix(y_true, y_pred, classes,\n",
    "                          normalize=False,\n",
    "                          title=None,\n",
    "                          cmap=plt.cm.Blues):\n",
    "    \"\"\"\n",
    "    This function prints and plots the confusion matrix.\n",
    "    Normalization can be applied by setting `normalize=True`.\n",
    "    \"\"\"\n",
    "    if not title:\n",
    "        if normalize:\n",
    "            title = 'Normalized confusion matrix'\n",
    "        else:\n",
    "            title = 'Confusion matrix, without normalization'\n",
    "\n",
    "    # Compute confusion matrix\n",
    "    cm = confusion_matrix(y_true, y_pred)\n",
    "    # Only use the labels that appear in the data\n",
    "\n",
    "    print('unique labels:', unique_labels(y_true, y_pred))\n",
    "    classes = np.array(classes)[unique_labels(y_true, y_pred)]\n",
    "    if normalize:\n",
    "        cm = cm.astype('float') / cm.sum(axis=1)[:, np.newaxis]\n",
    "        print(\"Normalized confusion matrix\")\n",
    "    else:\n",
    "        print('Confusion matrix, without normalization')\n",
    "\n",
    "\n",
    "    fig, ax = plt.subplots()\n",
    "    fig.set_figheight(9)\n",
    "    fig.set_figwidth(9)\n",
    "    im = ax.imshow(cm, interpolation='nearest', cmap=cmap)\n",
    "    ax.figure.colorbar(im, ax=ax)\n",
    "    # We want to show all ticks...\n",
    "    ax.set(xticks=np.arange(cm.shape[1]),\n",
    "           yticks=np.arange(cm.shape[0]),\n",
    "           # ... and label them with the respective list entries\n",
    "           xticklabels=classes, yticklabels=classes,\n",
    "           title=title,\n",
    "           ylabel='True label',\n",
    "           xlabel='Predicted label')\n",
    "\n",
    "    # Rotate the tick labels and set their alignment.\n",
    "    plt.setp(ax.get_xticklabels(), rotation=45, ha=\"right\",\n",
    "             rotation_mode=\"anchor\")\n",
    "\n",
    "    # Loop over data dimensions and create text annotations.\n",
    "    fmt = '.2f' if normalize else 'd'\n",
    "    thresh = cm.max() / 2.\n",
    "    for i in range(cm.shape[0]):\n",
    "        for j in range(cm.shape[1]):\n",
    "            ax.text(j, i, format(cm[i, j], fmt),\n",
    "                    ha=\"center\", va=\"center\",\n",
    "                    color=\"white\" if cm[i, j] > thresh else \"black\")\n",
    "    fig.tight_layout()\n",
    "    return ax"
   ]
  },
  {
   "cell_type": "code",
   "execution_count": 40,
   "metadata": {},
   "outputs": [
    {
     "name": "stdout",
     "output_type": "stream",
     "text": [
      "1.0422830640388827 0.67487687\n",
      "Classification report: \n",
      "              precision    recall  f1-score   support\n",
      "\n",
      "           0       0.70      0.67      0.68        21\n",
      "           1       0.74      0.68      0.71        41\n",
      "           2       0.59      0.80      0.68        30\n",
      "           3       0.86      0.31      0.45        39\n",
      "           4       0.72      0.89      0.80        38\n",
      "           5       0.58      0.74      0.65        34\n",
      "\n",
      "    accuracy                           0.67       203\n",
      "   macro avg       0.70      0.68      0.66       203\n",
      "weighted avg       0.71      0.67      0.66       203\n",
      "\n",
      "Confusion matrix: \n",
      "[[14  2  1  0  0  4]\n",
      " [ 2 28 10  0  1  0]\n",
      " [ 0  0 24  0  5  1]\n",
      " [ 3  8  2 12  1 13]\n",
      " [ 0  0  3  1 34  0]\n",
      " [ 1  0  1  1  6 25]]\n"
     ]
    },
    {
     "data": {
      "image/png": "[encoded data removed]",
      "text/plain": [
       "<Figure size 576x324 with 1 Axes>"
      ]
     },
     "metadata": {
      "needs_background": "light"
     },
     "output_type": "display_data"
    },
    {
     "data": {
      "text/plain": [
       "<Figure size 432x288 with 0 Axes>"
      ]
     },
     "metadata": {},
     "output_type": "display_data"
    },
    {
     "data": {
      "image/png": "[encoded data removed]",
      "text/plain": [
       "<Figure size 576x324 with 1 Axes>"
      ]
     },
     "metadata": {
      "needs_background": "light"
     },
     "output_type": "display_data"
    },
    {
     "name": "stdout",
     "output_type": "stream",
     "text": [
      "unique labels: [0 1 2 3 4 5]\n",
      "Normalized confusion matrix\n"
     ]
    },
    {
     "data": {
      "text/plain": [
       "<matplotlib.axes._subplots.AxesSubplot at 0x2a0e2f06160>"
      ]
     },
     "execution_count": 40,
     "metadata": {},
     "output_type": "execute_result"
    },
    {
     "data": {
      "image/png": "[encoded data removed]",
      "text/plain": [
       "<Figure size 648x648 with 2 Axes>"
      ]
     },
     "metadata": {
      "needs_background": "light"
     },
     "output_type": "display_data"
    }
   ],
   "source": [
    "test_loss, test_acc = model.evaluate(x_test, y_test, verbose=0)\n",
    "print(test_loss, test_acc)\n",
    "pred_labels = model.predict(x_test)\n",
    "print('Classification report: ')\n",
    "print(classification_report(np.argmax(y_test, axis=1), np.argmax(pred_labels, axis=1)))\n",
    "print('Confusion matrix: ')\n",
    "print(confusion_matrix(np.argmax(y_test, axis=1), np.argmax(pred_labels, axis=1)))\n",
    "draw_hist(hist) \n",
    "plot_confusion_matrix(np.argmax(y_test, axis=1), np.argmax(pred_labels, axis=1), normalize=True, classes=[str(i) for i in range(10)])"
   ]
  },
  {
   "cell_type": "code",
   "execution_count": null,
   "metadata": {},
   "outputs": [],
   "source": []
  }
 ],
 "metadata": {
  "kernelspec": {
   "display_name": "Python 3",
   "language": "python",
   "name": "python3"
  },
  "language_info": {
   "codemirror_mode": {
    "name": "ipython",
    "version": 3
   },
   "file_extension": ".py",
   "mimetype": "text/x-python",
   "name": "python",
   "nbconvert_exporter": "python",
   "pygments_lexer": "ipython3",
   "version": "3.7.3"
  }
 },
 "nbformat": 4,
 "nbformat_minor": 4
}

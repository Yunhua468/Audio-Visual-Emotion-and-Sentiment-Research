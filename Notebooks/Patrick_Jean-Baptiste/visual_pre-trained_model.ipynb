{
 "cells": [
  {
   "attachments": {},
   "cell_type": "markdown",
   "metadata": {},
   "source": [
    "Patrick Jean-Baptiste\n",
    "\n",
    "The CUNY Graduate Center\n",
    "\n",
    "# Description: Visual Pre-Trained Model\n",
    "\n",
    "This notebook employs a pre-trained VGG16 model for recognizing emotions in images. The VGG16 model is pre-loaded with weights trained on ImageNet. The images of actors' faces expressing an emotion were extracted in a previous notebook."
   ]
  },
  {
   "cell_type": "code",
   "execution_count": 1,
   "metadata": {},
   "outputs": [],
   "source": [
    "import cv2\n",
    "import os\n",
    "import numpy as np\n",
    "import pandas as pd\n",
    "import tensorflow as tf\n",
    "import matplotlib.pyplot as plt\n",
    "\n",
    "from get_data import get_data\n",
    "from match_files import match_files"
   ]
  },
  {
   "cell_type": "markdown",
   "metadata": {},
   "source": [
    "Retrieve the images of the actors' faces expressing an emotion along with the corresponding labels that indicate the type of emotion expressed in the images."
   ]
  },
  {
   "cell_type": "code",
   "execution_count": 2,
   "metadata": {},
   "outputs": [],
   "source": [
    "img_dir = \"Emotion_Images\"\n",
    "Emotion_Images = []\n",
    "Emotion_Labels = []\n",
    "Emotion_File_Names = []\n",
    "\n",
    "for idx, img_file in enumerate(os.listdir(img_dir)):\n",
    "\n",
    "    # Read an image of an actor's face expressing an emotion.\n",
    "    img = cv2.imread(os.path.join(img_dir, img_file))\n",
    "\n",
    "    # Increase the size of the image.\n",
    "    img = cv2.resize(img, (224, 224), interpolation = cv2.INTER_AREA)\n",
    "  \n",
    "    # Append the image of an expressed emotion to an array.\n",
    "    Emotion_Images.append(img)\n",
    "\n",
    "    # Append the label indicating the type of emotion \n",
    "    # expressed to an array.\n",
    "    Emotion_Labels.append(int(img_file[7]))\n",
    "\n",
    "    # Append the name of the file that contains the image.\n",
    "    Emotion_File_Names.append(img_file)\n",
    "\n",
    "\n",
    "Emotion_Images = np.array(Emotion_Images)  \n",
    "Emotion_Labels = np.array(Emotion_Labels)\n",
    "Emotion_File_Names = np.array(Emotion_File_Names)\n",
    "img_size = Emotion_Images.shape[1]\n",
    "\n",
    "# Convert the labels into a one-hot array.\n",
    "Labels_One_Hot = np.zeros((len(Emotion_Labels), 8))\n",
    "\n",
    "for i in range(len(Emotion_Labels)):\n",
    "     Labels_One_Hot[i,(Emotion_Labels[i] - 1)] = 1 \n",
    "    \n",
    "    \n",
    "Labels_One_Hot = Labels_One_Hot.astype(int)"
   ]
  },
  {
   "cell_type": "markdown",
   "metadata": {},
   "source": [
    "Print the shape of the array containing the images of expressed emotion."
   ]
  },
  {
   "cell_type": "code",
   "execution_count": 3,
   "metadata": {},
   "outputs": [
    {
     "name": "stdout",
     "output_type": "stream",
     "text": [
      "(4902, 224, 224, 3)\n"
     ]
    }
   ],
   "source": [
    "print(Emotion_Images.shape)"
   ]
  },
  {
   "cell_type": "markdown",
   "metadata": {},
   "source": [
    "Print the shape of the array containing the labels that correspond to the types of emotion expressed."
   ]
  },
  {
   "cell_type": "code",
   "execution_count": 4,
   "metadata": {},
   "outputs": [
    {
     "name": "stdout",
     "output_type": "stream",
     "text": [
      "(4902,)\n"
     ]
    }
   ],
   "source": [
    "print(Emotion_Labels.shape)"
   ]
  },
  {
   "cell_type": "markdown",
   "metadata": {},
   "source": [
    "Split the audio emotion data into a train, validation, and test set. "
   ]
  },
  {
   "cell_type": "code",
   "execution_count": 5,
   "metadata": {},
   "outputs": [],
   "source": [
    "train = pd.read_csv(\"DatasetSplitCSV/train.csv\",header=None)\n",
    "val = pd.read_csv(\"DatasetSplitCSV/valid.csv\",header=None)\n",
    "test = pd.read_csv(\"DatasetSplitCSV/test.csv\",header=None)"
   ]
  },
  {
   "cell_type": "code",
   "execution_count": 6,
   "metadata": {},
   "outputs": [
    {
     "data": {
      "text/html": [
       "<div>\n",
       "<style scoped>\n",
       "    .dataframe tbody tr th:only-of-type {\n",
       "        vertical-align: middle;\n",
       "    }\n",
       "\n",
       "    .dataframe tbody tr th {\n",
       "        vertical-align: top;\n",
       "    }\n",
       "\n",
       "    .dataframe thead th {\n",
       "        text-align: right;\n",
       "    }\n",
       "</style>\n",
       "<table border=\"1\" class=\"dataframe\">\n",
       "  <thead>\n",
       "    <tr style=\"text-align: right;\">\n",
       "      <th></th>\n",
       "      <th>0</th>\n",
       "      <th>1</th>\n",
       "    </tr>\n",
       "  </thead>\n",
       "  <tbody>\n",
       "    <tr>\n",
       "      <th>count</th>\n",
       "      <td>1470</td>\n",
       "      <td>1470</td>\n",
       "    </tr>\n",
       "    <tr>\n",
       "      <th>unique</th>\n",
       "      <td>1470</td>\n",
       "      <td>8</td>\n",
       "    </tr>\n",
       "    <tr>\n",
       "      <th>top</th>\n",
       "      <td>03-01-05-02-02-02-24.wav</td>\n",
       "      <td>sad</td>\n",
       "    </tr>\n",
       "    <tr>\n",
       "      <th>freq</th>\n",
       "      <td>1</td>\n",
       "      <td>232</td>\n",
       "    </tr>\n",
       "  </tbody>\n",
       "</table>\n",
       "</div>"
      ],
      "text/plain": [
       "                               0     1\n",
       "count                       1470  1470\n",
       "unique                      1470     8\n",
       "top     03-01-05-02-02-02-24.wav   sad\n",
       "freq                           1   232"
      ]
     },
     "execution_count": 6,
     "metadata": {},
     "output_type": "execute_result"
    }
   ],
   "source": [
    "train.describe()"
   ]
  },
  {
   "cell_type": "code",
   "execution_count": 7,
   "metadata": {},
   "outputs": [
    {
     "data": {
      "text/html": [
       "<div>\n",
       "<style scoped>\n",
       "    .dataframe tbody tr th:only-of-type {\n",
       "        vertical-align: middle;\n",
       "    }\n",
       "\n",
       "    .dataframe tbody tr th {\n",
       "        vertical-align: top;\n",
       "    }\n",
       "\n",
       "    .dataframe thead th {\n",
       "        text-align: right;\n",
       "    }\n",
       "</style>\n",
       "<table border=\"1\" class=\"dataframe\">\n",
       "  <thead>\n",
       "    <tr style=\"text-align: right;\">\n",
       "      <th></th>\n",
       "      <th>0</th>\n",
       "      <th>1</th>\n",
       "    </tr>\n",
       "  </thead>\n",
       "  <tbody>\n",
       "    <tr>\n",
       "      <th>count</th>\n",
       "      <td>491</td>\n",
       "      <td>491</td>\n",
       "    </tr>\n",
       "    <tr>\n",
       "      <th>unique</th>\n",
       "      <td>491</td>\n",
       "      <td>8</td>\n",
       "    </tr>\n",
       "    <tr>\n",
       "      <th>top</th>\n",
       "      <td>03-01-05-01-01-02-08.wav</td>\n",
       "      <td>happy</td>\n",
       "    </tr>\n",
       "    <tr>\n",
       "      <th>freq</th>\n",
       "      <td>1</td>\n",
       "      <td>88</td>\n",
       "    </tr>\n",
       "  </tbody>\n",
       "</table>\n",
       "</div>"
      ],
      "text/plain": [
       "                               0      1\n",
       "count                        491    491\n",
       "unique                       491      8\n",
       "top     03-01-05-01-01-02-08.wav  happy\n",
       "freq                           1     88"
      ]
     },
     "execution_count": 7,
     "metadata": {},
     "output_type": "execute_result"
    }
   ],
   "source": [
    "val.describe()"
   ]
  },
  {
   "cell_type": "code",
   "execution_count": 8,
   "metadata": {},
   "outputs": [
    {
     "data": {
      "text/html": [
       "<div>\n",
       "<style scoped>\n",
       "    .dataframe tbody tr th:only-of-type {\n",
       "        vertical-align: middle;\n",
       "    }\n",
       "\n",
       "    .dataframe tbody tr th {\n",
       "        vertical-align: top;\n",
       "    }\n",
       "\n",
       "    .dataframe thead th {\n",
       "        text-align: right;\n",
       "    }\n",
       "</style>\n",
       "<table border=\"1\" class=\"dataframe\">\n",
       "  <thead>\n",
       "    <tr style=\"text-align: right;\">\n",
       "      <th></th>\n",
       "      <th>0</th>\n",
       "      <th>1</th>\n",
       "    </tr>\n",
       "  </thead>\n",
       "  <tbody>\n",
       "    <tr>\n",
       "      <th>count</th>\n",
       "      <td>491</td>\n",
       "      <td>491</td>\n",
       "    </tr>\n",
       "    <tr>\n",
       "      <th>unique</th>\n",
       "      <td>491</td>\n",
       "      <td>8</td>\n",
       "    </tr>\n",
       "    <tr>\n",
       "      <th>top</th>\n",
       "      <td>03-02-05-02-02-02-09.wav</td>\n",
       "      <td>calm</td>\n",
       "    </tr>\n",
       "    <tr>\n",
       "      <th>freq</th>\n",
       "      <td>1</td>\n",
       "      <td>78</td>\n",
       "    </tr>\n",
       "  </tbody>\n",
       "</table>\n",
       "</div>"
      ],
      "text/plain": [
       "                               0     1\n",
       "count                        491   491\n",
       "unique                       491     8\n",
       "top     03-02-05-02-02-02-09.wav  calm\n",
       "freq                           1    78"
      ]
     },
     "execution_count": 8,
     "metadata": {},
     "output_type": "execute_result"
    }
   ],
   "source": [
    "test.describe()"
   ]
  },
  {
   "cell_type": "markdown",
   "metadata": {},
   "source": [
    "Retrieve the names of the image files along with the corresponding labels that correlate to the train, validation, and test sets from the audio emotion data."
   ]
  },
  {
   "cell_type": "code",
   "execution_count": 9,
   "metadata": {},
   "outputs": [],
   "source": [
    "train_files, train_labels = get_data(train)\n",
    "val_files, val_labels = get_data(val)\n",
    "test_files, test_labels = get_data(test)"
   ]
  },
  {
   "cell_type": "markdown",
   "metadata": {},
   "source": [
    "Match the image file names with the images of expressed emotion in order to create the train, validation, and test sets for visual emotion."
   ]
  },
  {
   "cell_type": "code",
   "execution_count": 10,
   "metadata": {},
   "outputs": [],
   "source": [
    "X_train, y_train = match_files(Emotion_File_Names, Emotion_Images, Emotion_Labels, train_files)\n",
    "X_val, y_val = match_files(Emotion_File_Names, Emotion_Images, Emotion_Labels, val_files)\n",
    "X_test, y_test = match_files(Emotion_File_Names, Emotion_Images, Emotion_Labels, test_files)"
   ]
  },
  {
   "cell_type": "markdown",
   "metadata": {},
   "source": [
    "Import the VGG16 model pre-loaded with weights trained on ImageNet."
   ]
  },
  {
   "cell_type": "code",
   "execution_count": 11,
   "metadata": {},
   "outputs": [],
   "source": [
    "vgg16_model = tf.keras.applications.vgg16.VGG16(weights='imagenet', include_top=True)"
   ]
  },
  {
   "cell_type": "markdown",
   "metadata": {},
   "source": [
    "Print each layer of the VGG16 model."
   ]
  },
  {
   "cell_type": "code",
   "execution_count": 12,
   "metadata": {},
   "outputs": [
    {
     "name": "stdout",
     "output_type": "stream",
     "text": [
      "<tensorflow.python.keras.engine.input_layer.InputLayer object at 0x00000177A752DD30>\n",
      "<tensorflow.python.keras.layers.convolutional.Conv2D object at 0x0000017781613CF8>\n",
      "<tensorflow.python.keras.layers.convolutional.Conv2D object at 0x00000177A752D8D0>\n",
      "<tensorflow.python.keras.layers.pooling.MaxPooling2D object at 0x00000177A7543A20>\n",
      "<tensorflow.python.keras.layers.convolutional.Conv2D object at 0x00000177D3DC2860>\n",
      "<tensorflow.python.keras.layers.convolutional.Conv2D object at 0x00000177D3DD54E0>\n",
      "<tensorflow.python.keras.layers.pooling.MaxPooling2D object at 0x00000177D3DCEDD8>\n",
      "<tensorflow.python.keras.layers.convolutional.Conv2D object at 0x00000177D3DCEDA0>\n",
      "<tensorflow.python.keras.layers.convolutional.Conv2D object at 0x00000177D3DE9908>\n",
      "<tensorflow.python.keras.layers.convolutional.Conv2D object at 0x00000177B1383A90>\n",
      "<tensorflow.python.keras.layers.pooling.MaxPooling2D object at 0x00000177B1394CC0>\n",
      "<tensorflow.python.keras.layers.convolutional.Conv2D object at 0x00000177B13945F8>\n",
      "<tensorflow.python.keras.layers.convolutional.Conv2D object at 0x00000177B139B588>\n",
      "<tensorflow.python.keras.layers.convolutional.Conv2D object at 0x00000177B13A87B8>\n",
      "<tensorflow.python.keras.layers.pooling.MaxPooling2D object at 0x00000177B13AF780>\n",
      "<tensorflow.python.keras.layers.convolutional.Conv2D object at 0x00000177B13BA8D0>\n",
      "<tensorflow.python.keras.layers.convolutional.Conv2D object at 0x00000177F5AB4EB8>\n",
      "<tensorflow.python.keras.layers.convolutional.Conv2D object at 0x00000177F5AB47B8>\n",
      "<tensorflow.python.keras.layers.pooling.MaxPooling2D object at 0x00000177F5ABDEB8>\n",
      "<tensorflow.python.keras.layers.core.Flatten object at 0x00000177F5AC6748>\n",
      "<tensorflow.python.keras.layers.core.Dense object at 0x00000177F5AC6E48>\n",
      "<tensorflow.python.keras.layers.core.Dense object at 0x00000177F5ACF160>\n",
      "<tensorflow.python.keras.layers.core.Dense object at 0x00000177F5ADBA90>\n"
     ]
    }
   ],
   "source": [
    "for layer in (vgg16_model.layers):\n",
    "    layer.trainable = False\n",
    "    print(layer)"
   ]
  },
  {
   "cell_type": "markdown",
   "metadata": {},
   "source": [
    "Create the visual pre-trained model."
   ]
  },
  {
   "cell_type": "code",
   "execution_count": 13,
   "metadata": {},
   "outputs": [],
   "source": [
    "visual_pre_trained_model = tf.keras.Model(inputs=vgg16_model.input, \n",
    "                            outputs=tf.keras.layers.Dense(8, activation=\"softmax\")(vgg16_model.layers[-2].output))"
   ]
  },
  {
   "cell_type": "markdown",
   "metadata": {},
   "source": [
    "Print the summary of the visual pre-trained model."
   ]
  },
  {
   "cell_type": "code",
   "execution_count": 14,
   "metadata": {},
   "outputs": [
    {
     "name": "stdout",
     "output_type": "stream",
     "text": [
      "Model: \"model\"\n",
      "_________________________________________________________________\n",
      "Layer (type)                 Output Shape              Param #   \n",
      "=================================================================\n",
      "input_1 (InputLayer)         [(None, 224, 224, 3)]     0         \n",
      "_________________________________________________________________\n",
      "block1_conv1 (Conv2D)        (None, 224, 224, 64)      1792      \n",
      "_________________________________________________________________\n",
      "block1_conv2 (Conv2D)        (None, 224, 224, 64)      36928     \n",
      "_________________________________________________________________\n",
      "block1_pool (MaxPooling2D)   (None, 112, 112, 64)      0         \n",
      "_________________________________________________________________\n",
      "block2_conv1 (Conv2D)        (None, 112, 112, 128)     73856     \n",
      "_________________________________________________________________\n",
      "block2_conv2 (Conv2D)        (None, 112, 112, 128)     147584    \n",
      "_________________________________________________________________\n",
      "block2_pool (MaxPooling2D)   (None, 56, 56, 128)       0         \n",
      "_________________________________________________________________\n",
      "block3_conv1 (Conv2D)        (None, 56, 56, 256)       295168    \n",
      "_________________________________________________________________\n",
      "block3_conv2 (Conv2D)        (None, 56, 56, 256)       590080    \n",
      "_________________________________________________________________\n",
      "block3_conv3 (Conv2D)        (None, 56, 56, 256)       590080    \n",
      "_________________________________________________________________\n",
      "block3_pool (MaxPooling2D)   (None, 28, 28, 256)       0         \n",
      "_________________________________________________________________\n",
      "block4_conv1 (Conv2D)        (None, 28, 28, 512)       1180160   \n",
      "_________________________________________________________________\n",
      "block4_conv2 (Conv2D)        (None, 28, 28, 512)       2359808   \n",
      "_________________________________________________________________\n",
      "block4_conv3 (Conv2D)        (None, 28, 28, 512)       2359808   \n",
      "_________________________________________________________________\n",
      "block4_pool (MaxPooling2D)   (None, 14, 14, 512)       0         \n",
      "_________________________________________________________________\n",
      "block5_conv1 (Conv2D)        (None, 14, 14, 512)       2359808   \n",
      "_________________________________________________________________\n",
      "block5_conv2 (Conv2D)        (None, 14, 14, 512)       2359808   \n",
      "_________________________________________________________________\n",
      "block5_conv3 (Conv2D)        (None, 14, 14, 512)       2359808   \n",
      "_________________________________________________________________\n",
      "block5_pool (MaxPooling2D)   (None, 7, 7, 512)         0         \n",
      "_________________________________________________________________\n",
      "flatten (Flatten)            (None, 25088)             0         \n",
      "_________________________________________________________________\n",
      "fc1 (Dense)                  (None, 4096)              102764544 \n",
      "_________________________________________________________________\n",
      "fc2 (Dense)                  (None, 4096)              16781312  \n",
      "_________________________________________________________________\n",
      "dense (Dense)                (None, 8)                 32776     \n",
      "=================================================================\n",
      "Total params: 134,293,320\n",
      "Trainable params: 32,776\n",
      "Non-trainable params: 134,260,544\n",
      "_________________________________________________________________\n"
     ]
    }
   ],
   "source": [
    "visual_pre_trained_model.summary()"
   ]
  },
  {
   "cell_type": "markdown",
   "metadata": {},
   "source": [
    "Compile the visual pre-trained model."
   ]
  },
  {
   "cell_type": "code",
   "execution_count": 15,
   "metadata": {},
   "outputs": [],
   "source": [
    "visual_pre_trained_model.compile(loss='mse', \n",
    "                        optimizer=tf.keras.optimizers.SGD(learning_rate=0.01), \n",
    "                        metrics=['mse', 'RootMeanSquaredError', 'mae', 'accuracy']) "
   ]
  },
  {
   "cell_type": "markdown",
   "metadata": {},
   "source": [
    "Train the visual pre-trained model."
   ]
  },
  {
   "cell_type": "code",
   "execution_count": 16,
   "metadata": {},
   "outputs": [
    {
     "name": "stdout",
     "output_type": "stream",
     "text": [
      "Train on 2824 samples, validate on 942 samples\n",
      "Epoch 1/5\n",
      "2824/2824 [==============================] - 1484s 526ms/sample - loss: 0.1158 - mse: 0.1158 - RootMeanSquaredError: 0.3403 - mae: 0.2134 - accuracy: 0.1863 - val_loss: 0.1081 - val_mse: 0.1081 - val_RootMeanSquaredError: 0.3288 - val_mae: 0.2076 - val_accuracy: 0.2335\n",
      "Epoch 2/5\n",
      "2824/2824 [==============================] - 1340s 475ms/sample - loss: 0.1068 - mse: 0.1068 - RootMeanSquaredError: 0.3268 - mae: 0.2053 - accuracy: 0.2574 - val_loss: 0.1049 - val_mse: 0.1049 - val_RootMeanSquaredError: 0.3238 - val_mae: 0.2044 - val_accuracy: 0.2643\n",
      "Epoch 3/5\n",
      "2824/2824 [==============================] - 1404s 497ms/sample - loss: 0.1040 - mse: 0.1040 - RootMeanSquaredError: 0.3225 - mae: 0.2019 - accuracy: 0.2886 - val_loss: 0.1016 - val_mse: 0.1016 - val_RootMeanSquaredError: 0.3188 - val_mae: 0.2003 - val_accuracy: 0.3174\n",
      "Epoch 4/5\n",
      "2824/2824 [==============================] - 1331s 471ms/sample - loss: 0.1021 - mse: 0.1021 - RootMeanSquaredError: 0.3196 - mae: 0.1993 - accuracy: 0.3059 - val_loss: 0.1026 - val_mse: 0.1026 - val_RootMeanSquaredError: 0.3204 - val_mae: 0.2007 - val_accuracy: 0.2877\n",
      "Epoch 5/5\n",
      "2824/2824 [==============================] - 1392s 493ms/sample - loss: 0.1007 - mse: 0.1007 - RootMeanSquaredError: 0.3173 - mae: 0.1975 - accuracy: 0.3183 - val_loss: 0.0991 - val_mse: 0.0991 - val_RootMeanSquaredError: 0.3148 - val_mae: 0.1921 - val_accuracy: 0.3514\n"
     ]
    }
   ],
   "source": [
    "early = tf.keras.callbacks.EarlyStopping(monitor='val_loss', min_delta=0, patience=100, verbose=1, mode='auto')\n",
    "\n",
    "history = visual_pre_trained_model.fit(X_train, y_train, validation_data=(X_val, y_val), epochs=5, batch_size=100, \n",
    "                                   callbacks=[early])"
   ]
  },
  {
   "cell_type": "markdown",
   "metadata": {},
   "source": [
    "Plot the training mean squared error, root mean squared error, mean absolute error, and accuracy for the visual pre-trained model."
   ]
  },
  {
   "cell_type": "code",
   "execution_count": 17,
   "metadata": {},
   "outputs": [
    {
     "data": {
      "image/png": "[encoded data removed]",
      "text/plain": [
       "<Figure size 432x288 with 1 Axes>"
      ]
     },
     "metadata": {
      "needs_background": "light"
     },
     "output_type": "display_data"
    }
   ],
   "source": [
    "plt.title('Visual Pre-Trained Model Training History')\n",
    "plt.xlabel('Epochs')\n",
    "plt.ylabel('Metric Value')\n",
    "plt.plot(history.history['loss'], label='LOSS')\n",
    "plt.plot(history.history['mse'], label='MSE')\n",
    "plt.plot(history.history['RootMeanSquaredError'], label='RMSE')\n",
    "plt.plot(history.history['mae'], label='MAE')\n",
    "plt.plot(history.history['accuracy'], label='ACC')\n",
    "plt.legend()\n",
    "plt.show()"
   ]
  },
  {
   "cell_type": "markdown",
   "metadata": {},
   "source": [
    "Plot the validation mean squared error, root mean squared error, mean absolute error, and accuracy for the visual pre-trained model."
   ]
  },
  {
   "cell_type": "code",
   "execution_count": 18,
   "metadata": {},
   "outputs": [
    {
     "data": {
      "image/png": "[encoded data removed]",
      "text/plain": [
       "<Figure size 432x288 with 1 Axes>"
      ]
     },
     "metadata": {
      "needs_background": "light"
     },
     "output_type": "display_data"
    }
   ],
   "source": [
    "plt.title('Visual Pre-Trained Model Validation History')\n",
    "plt.xlabel('Epochs')\n",
    "plt.ylabel('Metric Value')\n",
    "plt.plot(history.history['val_loss'], label='LOSS')\n",
    "plt.plot(history.history['val_mse'], label='MSE')\n",
    "plt.plot(history.history['val_RootMeanSquaredError'], label='RMSE')\n",
    "plt.plot(history.history['val_mae'], label='MAE')\n",
    "plt.plot(history.history['val_accuracy'], label='ACC')\n",
    "plt.legend()\n",
    "plt.show()"
   ]
  },
  {
   "cell_type": "markdown",
   "metadata": {},
   "source": [
    "Evaluate the visual pre-trained model."
   ]
  },
  {
   "cell_type": "code",
   "execution_count": 19,
   "metadata": {},
   "outputs": [
    {
     "name": "stdout",
     "output_type": "stream",
     "text": [
      "948/948 [==============================] - 341s 359ms/sample - loss: 0.1014 - mse: 0.1014 - RootMeanSquaredError: 0.3184 - mae: 0.1943 - accuracy: 0.3143\n"
     ]
    }
   ],
   "source": [
    "scores = visual_pre_trained_model.evaluate(X_test, y_test)"
   ]
  },
  {
   "cell_type": "markdown",
   "metadata": {},
   "source": [
    "The pre-trained VGG16 model did slightly improve the emotion recognition accuarcy compared to best visual model in the previous notebook, which was the second visual model. Since the VGG16 model is pre-trained on a large number of images, that could have led to the increase in emotion recognition accuracy. Increasing the number epochs for training could further improve the emotion recognition performance. Regardless, the second visual model and the pre-trained VGG16 model produced poor results for visual emotion recognition. "
   ]
  }
 ],
 "metadata": {
  "kernelspec": {
   "display_name": "Python 3",
   "language": "python",
   "name": "python3"
  },
  "language_info": {
   "codemirror_mode": {
    "name": "ipython",
    "version": 3
   },
   "file_extension": ".py",
   "mimetype": "text/x-python",
   "name": "python",
   "nbconvert_exporter": "python",
   "pygments_lexer": "ipython3",
   "version": "3.7.3"
  }
 },
 "nbformat": 4,
 "nbformat_minor": 4
}

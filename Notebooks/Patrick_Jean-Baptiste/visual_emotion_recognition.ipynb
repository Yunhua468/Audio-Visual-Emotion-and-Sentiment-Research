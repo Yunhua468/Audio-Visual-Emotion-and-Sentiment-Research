{
 "cells": [
  {
   "cell_type": "markdown",
   "metadata": {},
   "source": [
    "Patrick Jean-Baptiste\n",
    "\n",
    "The CUNY Graduate Center\n",
    "\n",
    "# Description: Visual Emotion Recognition\n",
    "\n",
    "This notebook performs the visual emotion recognition using images of actors' faces expressing an emotion. The images were previously extracted from the video only and audio-visual files of the RAVDESS dataset for both speech and song. The labels that indicate the type of emotion expressed in the images were previously stored as well. The overall objective is to create a visual model using TensorFlow to recognize emotions from images."
   ]
  },
  {
   "cell_type": "code",
   "execution_count": 1,
   "metadata": {},
   "outputs": [],
   "source": [
    "import cv2\n",
    "import os\n",
    "import numpy as np\n",
    "import pandas as pd\n",
    "import tensorflow as tf\n",
    "import matplotlib.pyplot as plt\n",
    "\n",
    "from get_images import get_images\n",
    "from get_data import get_data\n",
    "from match_files import match_files"
   ]
  },
  {
   "cell_type": "markdown",
   "metadata": {},
   "source": [
    "Retrieve the images of the actors' faces expressing an emotion along with the corresponding labels that indicate the type of emotion expressed in the images."
   ]
  },
  {
   "cell_type": "code",
   "execution_count": 2,
   "metadata": {},
   "outputs": [],
   "source": [
    "img_dir = \"Emotion_Images\"\n",
    "\n",
    "Emotion_Images, Emotion_Labels, Emotion_File_Names, img_size = get_images(img_dir)"
   ]
  },
  {
   "cell_type": "markdown",
   "metadata": {},
   "source": [
    "Print the shape of the array containing the images of expressed emotion."
   ]
  },
  {
   "cell_type": "code",
   "execution_count": 3,
   "metadata": {},
   "outputs": [
    {
     "name": "stdout",
     "output_type": "stream",
     "text": [
      "(4902, 128, 128, 3)\n"
     ]
    }
   ],
   "source": [
    "print(Emotion_Images.shape)"
   ]
  },
  {
   "cell_type": "markdown",
   "metadata": {},
   "source": [
    "Print the shape of the array containing the labels that correspond to the types of emotion expressed."
   ]
  },
  {
   "cell_type": "code",
   "execution_count": 4,
   "metadata": {},
   "outputs": [
    {
     "name": "stdout",
     "output_type": "stream",
     "text": [
      "(4902,)\n"
     ]
    }
   ],
   "source": [
    "print(Emotion_Labels.shape)"
   ]
  },
  {
   "cell_type": "markdown",
   "metadata": {},
   "source": [
    "Split the audio emotion data into a train, validation, and test set. "
   ]
  },
  {
   "cell_type": "code",
   "execution_count": 5,
   "metadata": {},
   "outputs": [],
   "source": [
    "train = pd.read_csv(\"DatasetSplitCSV/train.csv\",header=None)\n",
    "val = pd.read_csv(\"DatasetSplitCSV/valid.csv\",header=None)\n",
    "test = pd.read_csv(\"DatasetSplitCSV/test.csv\",header=None)"
   ]
  },
  {
   "cell_type": "code",
   "execution_count": 6,
   "metadata": {},
   "outputs": [
    {
     "data": {
      "text/html": [
       "<div>\n",
       "<style scoped>\n",
       "    .dataframe tbody tr th:only-of-type {\n",
       "        vertical-align: middle;\n",
       "    }\n",
       "\n",
       "    .dataframe tbody tr th {\n",
       "        vertical-align: top;\n",
       "    }\n",
       "\n",
       "    .dataframe thead th {\n",
       "        text-align: right;\n",
       "    }\n",
       "</style>\n",
       "<table border=\"1\" class=\"dataframe\">\n",
       "  <thead>\n",
       "    <tr style=\"text-align: right;\">\n",
       "      <th></th>\n",
       "      <th>0</th>\n",
       "      <th>1</th>\n",
       "    </tr>\n",
       "  </thead>\n",
       "  <tbody>\n",
       "    <tr>\n",
       "      <th>count</th>\n",
       "      <td>1470</td>\n",
       "      <td>1470</td>\n",
       "    </tr>\n",
       "    <tr>\n",
       "      <th>unique</th>\n",
       "      <td>1470</td>\n",
       "      <td>8</td>\n",
       "    </tr>\n",
       "    <tr>\n",
       "      <th>top</th>\n",
       "      <td>03-01-03-02-02-01-07.wav</td>\n",
       "      <td>sad</td>\n",
       "    </tr>\n",
       "    <tr>\n",
       "      <th>freq</th>\n",
       "      <td>1</td>\n",
       "      <td>232</td>\n",
       "    </tr>\n",
       "  </tbody>\n",
       "</table>\n",
       "</div>"
      ],
      "text/plain": [
       "                               0     1\n",
       "count                       1470  1470\n",
       "unique                      1470     8\n",
       "top     03-01-03-02-02-01-07.wav   sad\n",
       "freq                           1   232"
      ]
     },
     "execution_count": 6,
     "metadata": {},
     "output_type": "execute_result"
    }
   ],
   "source": [
    "train.describe()"
   ]
  },
  {
   "cell_type": "code",
   "execution_count": 7,
   "metadata": {},
   "outputs": [
    {
     "data": {
      "text/html": [
       "<div>\n",
       "<style scoped>\n",
       "    .dataframe tbody tr th:only-of-type {\n",
       "        vertical-align: middle;\n",
       "    }\n",
       "\n",
       "    .dataframe tbody tr th {\n",
       "        vertical-align: top;\n",
       "    }\n",
       "\n",
       "    .dataframe thead th {\n",
       "        text-align: right;\n",
       "    }\n",
       "</style>\n",
       "<table border=\"1\" class=\"dataframe\">\n",
       "  <thead>\n",
       "    <tr style=\"text-align: right;\">\n",
       "      <th></th>\n",
       "      <th>0</th>\n",
       "      <th>1</th>\n",
       "    </tr>\n",
       "  </thead>\n",
       "  <tbody>\n",
       "    <tr>\n",
       "      <th>count</th>\n",
       "      <td>491</td>\n",
       "      <td>491</td>\n",
       "    </tr>\n",
       "    <tr>\n",
       "      <th>unique</th>\n",
       "      <td>491</td>\n",
       "      <td>8</td>\n",
       "    </tr>\n",
       "    <tr>\n",
       "      <th>top</th>\n",
       "      <td>03-02-04-01-02-02-20.wav</td>\n",
       "      <td>happy</td>\n",
       "    </tr>\n",
       "    <tr>\n",
       "      <th>freq</th>\n",
       "      <td>1</td>\n",
       "      <td>88</td>\n",
       "    </tr>\n",
       "  </tbody>\n",
       "</table>\n",
       "</div>"
      ],
      "text/plain": [
       "                               0      1\n",
       "count                        491    491\n",
       "unique                       491      8\n",
       "top     03-02-04-01-02-02-20.wav  happy\n",
       "freq                           1     88"
      ]
     },
     "execution_count": 7,
     "metadata": {},
     "output_type": "execute_result"
    }
   ],
   "source": [
    "val.describe()"
   ]
  },
  {
   "cell_type": "code",
   "execution_count": 8,
   "metadata": {},
   "outputs": [
    {
     "data": {
      "text/html": [
       "<div>\n",
       "<style scoped>\n",
       "    .dataframe tbody tr th:only-of-type {\n",
       "        vertical-align: middle;\n",
       "    }\n",
       "\n",
       "    .dataframe tbody tr th {\n",
       "        vertical-align: top;\n",
       "    }\n",
       "\n",
       "    .dataframe thead th {\n",
       "        text-align: right;\n",
       "    }\n",
       "</style>\n",
       "<table border=\"1\" class=\"dataframe\">\n",
       "  <thead>\n",
       "    <tr style=\"text-align: right;\">\n",
       "      <th></th>\n",
       "      <th>0</th>\n",
       "      <th>1</th>\n",
       "    </tr>\n",
       "  </thead>\n",
       "  <tbody>\n",
       "    <tr>\n",
       "      <th>count</th>\n",
       "      <td>491</td>\n",
       "      <td>491</td>\n",
       "    </tr>\n",
       "    <tr>\n",
       "      <th>unique</th>\n",
       "      <td>491</td>\n",
       "      <td>8</td>\n",
       "    </tr>\n",
       "    <tr>\n",
       "      <th>top</th>\n",
       "      <td>03-01-04-01-02-02-22.wav</td>\n",
       "      <td>fear</td>\n",
       "    </tr>\n",
       "    <tr>\n",
       "      <th>freq</th>\n",
       "      <td>1</td>\n",
       "      <td>78</td>\n",
       "    </tr>\n",
       "  </tbody>\n",
       "</table>\n",
       "</div>"
      ],
      "text/plain": [
       "                               0     1\n",
       "count                        491   491\n",
       "unique                       491     8\n",
       "top     03-01-04-01-02-02-22.wav  fear\n",
       "freq                           1    78"
      ]
     },
     "execution_count": 8,
     "metadata": {},
     "output_type": "execute_result"
    }
   ],
   "source": [
    "test.describe()"
   ]
  },
  {
   "cell_type": "markdown",
   "metadata": {},
   "source": [
    "Retrieve the names of the image files along with the corresponding labels that correlate to the train, validation, and test sets from the audio emotion data."
   ]
  },
  {
   "cell_type": "code",
   "execution_count": 9,
   "metadata": {},
   "outputs": [],
   "source": [
    "train_files, train_labels = get_data(train)\n",
    "val_files, val_labels = get_data(val)\n",
    "test_files, test_labels = get_data(test)"
   ]
  },
  {
   "cell_type": "markdown",
   "metadata": {},
   "source": [
    "Match the image file names with the images of expressed emotion in order to create the train, validation, and test sets for visual emotion."
   ]
  },
  {
   "cell_type": "code",
   "execution_count": 10,
   "metadata": {},
   "outputs": [],
   "source": [
    "X_train, y_train = match_files(Emotion_File_Names, Emotion_Images, Emotion_Labels, train_files)\n",
    "X_val, y_val = match_files(Emotion_File_Names, Emotion_Images, Emotion_Labels, val_files)\n",
    "X_test, y_test = match_files(Emotion_File_Names, Emotion_Images, Emotion_Labels, test_files)"
   ]
  },
  {
   "cell_type": "markdown",
   "metadata": {},
   "source": [
    "Define the visual model architecture."
   ]
  },
  {
   "cell_type": "code",
   "execution_count": 11,
   "metadata": {},
   "outputs": [],
   "source": [
    "def visual_model(img_size):\n",
    "    \n",
    "    # Create a sequential model.\n",
    "    model = tf.keras.models.Sequential()\n",
    "    model.add(tf.keras.layers.Conv2D(64, kernel_size=3, activation='relu', input_shape=(img_size, img_size, 3), \n",
    "                                 padding='valid', strides=1))\n",
    "    model.add(tf.keras.layers.MaxPool2D(pool_size=(2, 2), strides=(1, 1), padding='valid'))\n",
    "    model.add(tf.keras.layers.Conv2D(32, kernel_size=3, activation='relu', padding='valid', strides=1))\n",
    "    model.add(tf.keras.layers.MaxPool2D(pool_size=(2, 2), strides=(1, 1), padding='valid'))\n",
    "    model.add(tf.keras.layers.Conv2D(16, kernel_size=3, activation='relu', padding='valid', strides=1))\n",
    "    model.add(tf.keras.layers.MaxPool2D(pool_size=(2, 2), strides=(1, 1), padding='valid'))\n",
    "    model.add(tf.keras.layers.Flatten()) \n",
    "    model.add(tf.keras.layers.Dense(8, activation='softmax')) \n",
    "    \n",
    "    return model\n",
    "              \n"
   ]
  },
  {
   "cell_type": "markdown",
   "metadata": {},
   "source": [
    "Create the visual model."
   ]
  },
  {
   "cell_type": "code",
   "execution_count": 12,
   "metadata": {},
   "outputs": [],
   "source": [
    "visual_emotion_model = visual_model(img_size)"
   ]
  },
  {
   "cell_type": "markdown",
   "metadata": {},
   "source": [
    "Compile the visual model."
   ]
  },
  {
   "cell_type": "code",
   "execution_count": 13,
   "metadata": {},
   "outputs": [],
   "source": [
    "visual_emotion_model.compile(loss='mse', \n",
    "                    optimizer=tf.keras.optimizers.SGD(learning_rate=0.01), \n",
    "                    metrics=['mse', 'RootMeanSquaredError', 'mae', 'accuracy']) "
   ]
  },
  {
   "cell_type": "markdown",
   "metadata": {},
   "source": [
    "Train the visual model."
   ]
  },
  {
   "cell_type": "code",
   "execution_count": 14,
   "metadata": {},
   "outputs": [
    {
     "name": "stdout",
     "output_type": "stream",
     "text": [
      "Train on 2824 samples, validate on 942 samples\n",
      "Epoch 1/5\n",
      "2824/2824 [==============================] - 700s 248ms/sample - loss: 0.2106 - mse: 0.2106 - RootMeanSquaredError: 0.4589 - mae: 0.2109 - accuracy: 0.1565 - val_loss: 0.2102 - val_mse: 0.2102 - val_RootMeanSquaredError: 0.4585 - val_mae: 0.2102 - val_accuracy: 0.1592\n",
      "Epoch 2/5\n",
      "2824/2824 [==============================] - 816s 289ms/sample - loss: 0.2105 - mse: 0.2105 - RootMeanSquaredError: 0.4588 - mae: 0.2105 - accuracy: 0.1579 - val_loss: 0.2102 - val_mse: 0.2102 - val_RootMeanSquaredError: 0.4585 - val_mae: 0.2102 - val_accuracy: 0.1592\n",
      "Epoch 3/5\n",
      "2824/2824 [==============================] - 661s 234ms/sample - loss: 0.2105 - mse: 0.2105 - RootMeanSquaredError: 0.4588 - mae: 0.2105 - accuracy: 0.1579 - val_loss: 0.2102 - val_mse: 0.2102 - val_RootMeanSquaredError: 0.4585 - val_mae: 0.2102 - val_accuracy: 0.1592\n",
      "Epoch 4/5\n",
      "2824/2824 [==============================] - 1087s 385ms/sample - loss: 0.2105 - mse: 0.2105 - RootMeanSquaredError: 0.4588 - mae: 0.2105 - accuracy: 0.1579 - val_loss: 0.2102 - val_mse: 0.2102 - val_RootMeanSquaredError: 0.4585 - val_mae: 0.2102 - val_accuracy: 0.1592\n",
      "Epoch 5/5\n",
      "2824/2824 [==============================] - 985s 349ms/sample - loss: 0.2105 - mse: 0.2105 - RootMeanSquaredError: 0.4588 - mae: 0.2105 - accuracy: 0.1579 - val_loss: 0.2102 - val_mse: 0.2102 - val_RootMeanSquaredError: 0.4585 - val_mae: 0.2102 - val_accuracy: 0.1592\n"
     ]
    }
   ],
   "source": [
    "early = tf.keras.callbacks.EarlyStopping(monitor='val_loss', min_delta=0, patience=100, verbose=1, mode='auto')\n",
    "\n",
    "history = visual_emotion_model.fit(X_train, y_train, validation_data=(X_val, y_val), epochs=5, batch_size=150, \n",
    "                                   callbacks=[early])"
   ]
  },
  {
   "cell_type": "markdown",
   "metadata": {},
   "source": [
    "Evaluate the visual model."
   ]
  },
  {
   "cell_type": "code",
   "execution_count": 15,
   "metadata": {},
   "outputs": [
    {
     "name": "stdout",
     "output_type": "stream",
     "text": [
      "948/948 [==============================] - 36s 38ms/sample - loss: 0.2089 - mse: 0.2089 - RootMeanSquaredError: 0.4570 - mae: 0.2089 - accuracy: 0.1646\n"
     ]
    }
   ],
   "source": [
    "scores = visual_emotion_model.evaluate(X_test, y_test)"
   ]
  },
  {
   "cell_type": "markdown",
   "metadata": {},
   "source": [
    "Plot the training mean squared error, root mean squared error, mean absolute error, and accuracy for the visual model."
   ]
  },
  {
   "cell_type": "code",
   "execution_count": 16,
   "metadata": {},
   "outputs": [
    {
     "data": {
      "image/png": "[encoded data removed]",
      "text/plain": [
       "<Figure size 432x288 with 1 Axes>"
      ]
     },
     "metadata": {
      "needs_background": "light"
     },
     "output_type": "display_data"
    }
   ],
   "source": [
    "plt.title('Visual Model Training History')\n",
    "plt.xlabel('Epochs')\n",
    "plt.ylabel('Metric Value')\n",
    "plt.plot(history.history['loss'], label='LOSS')\n",
    "plt.plot(history.history['mse'], label='MSE')\n",
    "plt.plot(history.history['RootMeanSquaredError'], label='RMSE')\n",
    "plt.plot(history.history['mae'], label='MAE')\n",
    "plt.plot(history.history['accuracy'], label='ACC')\n",
    "plt.legend()\n",
    "plt.show()"
   ]
  },
  {
   "cell_type": "markdown",
   "metadata": {},
   "source": [
    "Plot the validation mean squared error, root mean squared error, mean absolute error, and accuracy for the visual model."
   ]
  },
  {
   "cell_type": "code",
   "execution_count": 17,
   "metadata": {},
   "outputs": [
    {
     "data": {
      "image/png": "[encoded data removed]",
      "text/plain": [
       "<Figure size 432x288 with 1 Axes>"
      ]
     },
     "metadata": {
      "needs_background": "light"
     },
     "output_type": "display_data"
    }
   ],
   "source": [
    "plt.title('Visual Model Validation History')\n",
    "plt.xlabel('Epochs')\n",
    "plt.ylabel('Metric Value')\n",
    "plt.plot(history.history['val_loss'], label='LOSS')\n",
    "plt.plot(history.history['val_mse'], label='MSE')\n",
    "plt.plot(history.history['val_RootMeanSquaredError'], label='RMSE')\n",
    "plt.plot(history.history['val_mae'], label='MAE')\n",
    "plt.plot(history.history['val_accuracy'], label='ACC')\n",
    "plt.legend()\n",
    "plt.show()"
   ]
  }
 ],
 "metadata": {
  "kernelspec": {
   "display_name": "Python 3",
   "language": "python",
   "name": "python3"
  },
  "language_info": {
   "codemirror_mode": {
    "name": "ipython",
    "version": 3
   },
   "file_extension": ".py",
   "mimetype": "text/x-python",
   "name": "python",
   "nbconvert_exporter": "python",
   "pygments_lexer": "ipython3",
   "version": "3.7.3"
  }
 },
 "nbformat": 4,
 "nbformat_minor": 4
}

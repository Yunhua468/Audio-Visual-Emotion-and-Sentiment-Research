{
 "cells": [
  {
   "attachments": {},
   "cell_type": "markdown",
   "metadata": {},
   "source": [
    "Patrick Jean-Baptiste\n",
    "\n",
    "The CUNY Graduate Center\n",
    "\n",
    "# Description: Visual Models\n",
    "\n",
    "This notebook builds different models for recognizing emotions in images. The visual models differ in the type of layers as well as the number of layers and nodes. The images of actors' faces expressing an emotion were extracted in a previous notebook."
   ]
  },
  {
   "cell_type": "code",
   "execution_count": 1,
   "metadata": {},
   "outputs": [],
   "source": [
    "import cv2\n",
    "import os\n",
    "import numpy as np\n",
    "import pandas as pd\n",
    "import tensorflow as tf\n",
    "import matplotlib.pyplot as plt\n",
    "\n",
    "from get_images import get_images\n",
    "from get_data import get_data\n",
    "from match_files import match_files"
   ]
  },
  {
   "cell_type": "markdown",
   "metadata": {},
   "source": [
    "Retrieve the images of the actors' faces expressing an emotion along with the corresponding labels that indicate the type of emotion expressed in the images."
   ]
  },
  {
   "cell_type": "code",
   "execution_count": 2,
   "metadata": {},
   "outputs": [],
   "source": [
    "img_dir = \"Emotion_Images\"\n",
    "\n",
    "Emotion_Images, Emotion_Labels, Emotion_File_Names, img_size = get_images(img_dir)"
   ]
  },
  {
   "cell_type": "markdown",
   "metadata": {},
   "source": [
    "Print the shape of the array containing the images of expressed emotion."
   ]
  },
  {
   "cell_type": "code",
   "execution_count": 3,
   "metadata": {},
   "outputs": [
    {
     "name": "stdout",
     "output_type": "stream",
     "text": [
      "(4902, 128, 128, 3)\n"
     ]
    }
   ],
   "source": [
    "print(Emotion_Images.shape)"
   ]
  },
  {
   "cell_type": "markdown",
   "metadata": {},
   "source": [
    "Print the shape of the array containing the labels that correspond to the types of emotion expressed."
   ]
  },
  {
   "cell_type": "code",
   "execution_count": 4,
   "metadata": {},
   "outputs": [
    {
     "name": "stdout",
     "output_type": "stream",
     "text": [
      "(4902,)\n"
     ]
    }
   ],
   "source": [
    "print(Emotion_Labels.shape)"
   ]
  },
  {
   "cell_type": "markdown",
   "metadata": {},
   "source": [
    "Split the audio emotion data into a train, validation, and test set. "
   ]
  },
  {
   "cell_type": "code",
   "execution_count": 5,
   "metadata": {},
   "outputs": [],
   "source": [
    "train = pd.read_csv(\"DatasetSplitCSV/train.csv\",header=None)\n",
    "val = pd.read_csv(\"DatasetSplitCSV/valid.csv\",header=None)\n",
    "test = pd.read_csv(\"DatasetSplitCSV/test.csv\",header=None)"
   ]
  },
  {
   "cell_type": "code",
   "execution_count": 6,
   "metadata": {},
   "outputs": [
    {
     "data": {
      "text/html": [
       "<div>\n",
       "<style scoped>\n",
       "    .dataframe tbody tr th:only-of-type {\n",
       "        vertical-align: middle;\n",
       "    }\n",
       "\n",
       "    .dataframe tbody tr th {\n",
       "        vertical-align: top;\n",
       "    }\n",
       "\n",
       "    .dataframe thead th {\n",
       "        text-align: right;\n",
       "    }\n",
       "</style>\n",
       "<table border=\"1\" class=\"dataframe\">\n",
       "  <thead>\n",
       "    <tr style=\"text-align: right;\">\n",
       "      <th></th>\n",
       "      <th>0</th>\n",
       "      <th>1</th>\n",
       "    </tr>\n",
       "  </thead>\n",
       "  <tbody>\n",
       "    <tr>\n",
       "      <th>count</th>\n",
       "      <td>1470</td>\n",
       "      <td>1470</td>\n",
       "    </tr>\n",
       "    <tr>\n",
       "      <th>unique</th>\n",
       "      <td>1470</td>\n",
       "      <td>8</td>\n",
       "    </tr>\n",
       "    <tr>\n",
       "      <th>top</th>\n",
       "      <td>03-01-03-02-01-01-24.wav</td>\n",
       "      <td>sad</td>\n",
       "    </tr>\n",
       "    <tr>\n",
       "      <th>freq</th>\n",
       "      <td>1</td>\n",
       "      <td>232</td>\n",
       "    </tr>\n",
       "  </tbody>\n",
       "</table>\n",
       "</div>"
      ],
      "text/plain": [
       "                               0     1\n",
       "count                       1470  1470\n",
       "unique                      1470     8\n",
       "top     03-01-03-02-01-01-24.wav   sad\n",
       "freq                           1   232"
      ]
     },
     "execution_count": 6,
     "metadata": {},
     "output_type": "execute_result"
    }
   ],
   "source": [
    "train.describe()"
   ]
  },
  {
   "cell_type": "code",
   "execution_count": 7,
   "metadata": {},
   "outputs": [
    {
     "data": {
      "text/html": [
       "<div>\n",
       "<style scoped>\n",
       "    .dataframe tbody tr th:only-of-type {\n",
       "        vertical-align: middle;\n",
       "    }\n",
       "\n",
       "    .dataframe tbody tr th {\n",
       "        vertical-align: top;\n",
       "    }\n",
       "\n",
       "    .dataframe thead th {\n",
       "        text-align: right;\n",
       "    }\n",
       "</style>\n",
       "<table border=\"1\" class=\"dataframe\">\n",
       "  <thead>\n",
       "    <tr style=\"text-align: right;\">\n",
       "      <th></th>\n",
       "      <th>0</th>\n",
       "      <th>1</th>\n",
       "    </tr>\n",
       "  </thead>\n",
       "  <tbody>\n",
       "    <tr>\n",
       "      <th>count</th>\n",
       "      <td>491</td>\n",
       "      <td>491</td>\n",
       "    </tr>\n",
       "    <tr>\n",
       "      <th>unique</th>\n",
       "      <td>491</td>\n",
       "      <td>8</td>\n",
       "    </tr>\n",
       "    <tr>\n",
       "      <th>top</th>\n",
       "      <td>03-01-07-01-02-01-15.wav</td>\n",
       "      <td>happy</td>\n",
       "    </tr>\n",
       "    <tr>\n",
       "      <th>freq</th>\n",
       "      <td>1</td>\n",
       "      <td>88</td>\n",
       "    </tr>\n",
       "  </tbody>\n",
       "</table>\n",
       "</div>"
      ],
      "text/plain": [
       "                               0      1\n",
       "count                        491    491\n",
       "unique                       491      8\n",
       "top     03-01-07-01-02-01-15.wav  happy\n",
       "freq                           1     88"
      ]
     },
     "execution_count": 7,
     "metadata": {},
     "output_type": "execute_result"
    }
   ],
   "source": [
    "val.describe()"
   ]
  },
  {
   "cell_type": "code",
   "execution_count": 8,
   "metadata": {},
   "outputs": [
    {
     "data": {
      "text/html": [
       "<div>\n",
       "<style scoped>\n",
       "    .dataframe tbody tr th:only-of-type {\n",
       "        vertical-align: middle;\n",
       "    }\n",
       "\n",
       "    .dataframe tbody tr th {\n",
       "        vertical-align: top;\n",
       "    }\n",
       "\n",
       "    .dataframe thead th {\n",
       "        text-align: right;\n",
       "    }\n",
       "</style>\n",
       "<table border=\"1\" class=\"dataframe\">\n",
       "  <thead>\n",
       "    <tr style=\"text-align: right;\">\n",
       "      <th></th>\n",
       "      <th>0</th>\n",
       "      <th>1</th>\n",
       "    </tr>\n",
       "  </thead>\n",
       "  <tbody>\n",
       "    <tr>\n",
       "      <th>count</th>\n",
       "      <td>491</td>\n",
       "      <td>491</td>\n",
       "    </tr>\n",
       "    <tr>\n",
       "      <th>unique</th>\n",
       "      <td>491</td>\n",
       "      <td>8</td>\n",
       "    </tr>\n",
       "    <tr>\n",
       "      <th>top</th>\n",
       "      <td>03-02-06-02-02-01-08.wav</td>\n",
       "      <td>fear</td>\n",
       "    </tr>\n",
       "    <tr>\n",
       "      <th>freq</th>\n",
       "      <td>1</td>\n",
       "      <td>78</td>\n",
       "    </tr>\n",
       "  </tbody>\n",
       "</table>\n",
       "</div>"
      ],
      "text/plain": [
       "                               0     1\n",
       "count                        491   491\n",
       "unique                       491     8\n",
       "top     03-02-06-02-02-01-08.wav  fear\n",
       "freq                           1    78"
      ]
     },
     "execution_count": 8,
     "metadata": {},
     "output_type": "execute_result"
    }
   ],
   "source": [
    "test.describe()"
   ]
  },
  {
   "cell_type": "markdown",
   "metadata": {},
   "source": [
    "Retrieve the names of the image files along with the corresponding labels that correlate to the train, validation, and test sets from the audio emotion data."
   ]
  },
  {
   "cell_type": "code",
   "execution_count": 9,
   "metadata": {},
   "outputs": [],
   "source": [
    "train_files, train_labels = get_data(train)\n",
    "val_files, val_labels = get_data(val)\n",
    "test_files, test_labels = get_data(test)"
   ]
  },
  {
   "cell_type": "markdown",
   "metadata": {},
   "source": [
    "Match the image file names with the images of expressed emotion in order to create the train, validation, and test sets for visual emotion."
   ]
  },
  {
   "cell_type": "code",
   "execution_count": 10,
   "metadata": {},
   "outputs": [],
   "source": [
    "X_train, y_train = match_files(Emotion_File_Names, Emotion_Images, Emotion_Labels, train_files)\n",
    "X_val, y_val = match_files(Emotion_File_Names, Emotion_Images, Emotion_Labels, val_files)\n",
    "X_test, y_test = match_files(Emotion_File_Names, Emotion_Images, Emotion_Labels, test_files)"
   ]
  },
  {
   "cell_type": "markdown",
   "metadata": {},
   "source": [
    "Define the architecture of the visual models."
   ]
  },
  {
   "cell_type": "code",
   "execution_count": 11,
   "metadata": {},
   "outputs": [],
   "source": [
    "def visual_model1(img_size):\n",
    "    \n",
    "    # Create a sequential model.\n",
    "    model = tf.keras.models.Sequential()\n",
    "    model.add(tf.keras.layers.Conv2D(16, kernel_size=3, activation='relu', input_shape=(img_size, img_size, 3)))\n",
    "    model.add(tf.keras.layers.MaxPool2D(pool_size=(2, 2)))\n",
    "    model.add(tf.keras.layers.Conv2D(4, kernel_size=3, activation='relu'))\n",
    "    model.add(tf.keras.layers.MaxPool2D(pool_size=(2, 2)))\n",
    "    model.add(tf.keras.layers.Flatten()) \n",
    "    model.add(tf.keras.layers.Dense(32, activation='relu')) \n",
    "    model.add(tf.keras.layers.Dense(8, activation='softmax'))\n",
    "    \n",
    "    return model\n",
    "\n",
    "\n",
    "def visual_model2(img_size):\n",
    "    \n",
    "    # Create a sequential model.\n",
    "    model = tf.keras.models.Sequential()\n",
    "    model.add(tf.keras.layers.Conv2D(64, kernel_size=3, activation='relu', input_shape=(img_size, img_size, 3), \n",
    "                                 padding='valid', strides=1))\n",
    "    model.add(tf.keras.layers.MaxPool2D(pool_size=(2, 2), strides=(1, 1), padding='valid'))\n",
    "    model.add(tf.keras.layers.Conv2D(32, kernel_size=3, activation='relu', padding='valid', strides=1))\n",
    "    model.add(tf.keras.layers.MaxPool2D(pool_size=(2, 2), strides=(1, 1), padding='valid'))\n",
    "    model.add(tf.keras.layers.Conv2D(16, kernel_size=3, activation='relu', padding='valid', strides=1))\n",
    "    model.add(tf.keras.layers.MaxPool2D(pool_size=(2, 2), strides=(1, 1), padding='valid'))\n",
    "    model.add(tf.keras.layers.Flatten()) \n",
    "    model.add(tf.keras.layers.Dense(8, activation='softmax')) \n",
    "    \n",
    "    return model\n",
    "\n",
    "\n",
    "def visual_model3(img_size):\n",
    "    \n",
    "    # Create a sequential model.\n",
    "    model = tf.keras.models.Sequential()\n",
    "    model.add(tf.keras.layers.Conv2D(64, kernel_size=3, activation='relu', input_shape=(img_size, img_size, 3), \n",
    "                                 padding='valid', strides=1))\n",
    "    model.add(tf.keras.layers.MaxPool2D(pool_size=(2, 2), strides=(1, 1), padding='valid'))\n",
    "    model.add(tf.keras.layers.Conv2D(32, kernel_size=3, activation='relu', padding='valid', strides=1))\n",
    "    model.add(tf.keras.layers.Conv2D(32, kernel_size=3, activation='relu', padding='valid', strides=1))\n",
    "    model.add(tf.keras.layers.Conv2D(32, kernel_size=3, activation='relu', padding='valid', strides=1))\n",
    "    model.add(tf.keras.layers.MaxPool2D(pool_size=(2, 2), strides=(1, 1), padding='valid'))\n",
    "    model.add(tf.keras.layers.Conv2D(16, kernel_size=3, activation='relu', padding='valid', strides=1))\n",
    "    model.add(tf.keras.layers.Conv2D(16, kernel_size=3, activation='relu', padding='valid', strides=1))\n",
    "    model.add(tf.keras.layers.MaxPool2D(pool_size=(2, 2), strides=(1, 1), padding='valid'))\n",
    "    model.add(tf.keras.layers.Flatten()) \n",
    "    model.add(tf.keras.layers.Dense(128, activation='relu')) \n",
    "    model.add(tf.keras.layers.Dense(8, activation='softmax')) \n",
    "    \n",
    "    return model\n",
    "              \n"
   ]
  },
  {
   "cell_type": "markdown",
   "metadata": {},
   "source": [
    "Create the visual models."
   ]
  },
  {
   "cell_type": "code",
   "execution_count": 12,
   "metadata": {},
   "outputs": [],
   "source": [
    "visual_emotion_model1 = visual_model1(img_size)\n",
    "visual_emotion_model2 = visual_model2(img_size)\n",
    "visual_emotion_model3 = visual_model3(img_size)"
   ]
  },
  {
   "cell_type": "markdown",
   "metadata": {},
   "source": [
    "Compile the visual models."
   ]
  },
  {
   "cell_type": "code",
   "execution_count": 13,
   "metadata": {},
   "outputs": [],
   "source": [
    "visual_emotion_model1.compile(loss='mae', \n",
    "                    optimizer=tf.keras.optimizers.SGD(learning_rate=0.001), \n",
    "                    metrics=['mse', 'RootMeanSquaredError', 'mae', 'accuracy'])\n",
    "\n",
    "visual_emotion_model2.compile(loss='mse', \n",
    "                    optimizer=tf.keras.optimizers.SGD(learning_rate=0.01), \n",
    "                    metrics=['mse', 'RootMeanSquaredError', 'mae', 'accuracy']) \n",
    "\n",
    "visual_emotion_model3.compile(loss='mse', \n",
    "                    optimizer=tf.keras.optimizers.Adam(learning_rate=0.01), \n",
    "                    metrics=['mse', 'RootMeanSquaredError', 'mae', 'accuracy']) "
   ]
  },
  {
   "cell_type": "markdown",
   "metadata": {},
   "source": [
    "Train the first visual model."
   ]
  },
  {
   "cell_type": "code",
   "execution_count": 14,
   "metadata": {},
   "outputs": [
    {
     "name": "stdout",
     "output_type": "stream",
     "text": [
      "Train on 2824 samples, validate on 942 samples\n",
      "Epoch 1/5\n",
      "2824/2824 [==============================] - 29s 10ms/sample - loss: 0.2299 - mse: 0.2297 - RootMeanSquaredError: 0.4793 - mae: 0.2299 - accuracy: 0.0804 - val_loss: 0.2272 - val_mse: 0.2272 - val_RootMeanSquaredError: 0.4766 - val_mae: 0.2272 - val_accuracy: 0.0913\n",
      "Epoch 2/5\n",
      "2824/2824 [==============================] - 27s 10ms/sample - loss: 0.2294 - mse: 0.2294 - RootMeanSquaredError: 0.4789 - mae: 0.2294 - accuracy: 0.0825 - val_loss: 0.2272 - val_mse: 0.2272 - val_RootMeanSquaredError: 0.4766 - val_mae: 0.2272 - val_accuracy: 0.0913\n",
      "Epoch 3/5\n",
      "2824/2824 [==============================] - 28s 10ms/sample - loss: 0.2294 - mse: 0.2294 - RootMeanSquaredError: 0.4789 - mae: 0.2294 - accuracy: 0.0825 - val_loss: 0.2272 - val_mse: 0.2272 - val_RootMeanSquaredError: 0.4766 - val_mae: 0.2272 - val_accuracy: 0.0913\n",
      "Epoch 4/5\n",
      "2824/2824 [==============================] - 30s 11ms/sample - loss: 0.2294 - mse: 0.2294 - RootMeanSquaredError: 0.4789 - mae: 0.2294 - accuracy: 0.0825 - val_loss: 0.2272 - val_mse: 0.2272 - val_RootMeanSquaredError: 0.4766 - val_mae: 0.2272 - val_accuracy: 0.0913\n",
      "Epoch 5/5\n",
      "2824/2824 [==============================] - 31s 11ms/sample - loss: 0.2294 - mse: 0.2294 - RootMeanSquaredError: 0.4789 - mae: 0.2294 - accuracy: 0.0825 - val_loss: 0.2272 - val_mse: 0.2272 - val_RootMeanSquaredError: 0.4766 - val_mae: 0.2272 - val_accuracy: 0.0913\n"
     ]
    }
   ],
   "source": [
    "early1 = tf.keras.callbacks.EarlyStopping(monitor='val_loss', min_delta=0, patience=150, verbose=1, mode='auto')\n",
    "\n",
    "history1 = visual_emotion_model1.fit(X_train, y_train, validation_data=(X_val, y_val), epochs=5, batch_size=75, \n",
    "                                   callbacks=[early1])"
   ]
  },
  {
   "cell_type": "markdown",
   "metadata": {},
   "source": [
    "Train the second visual model."
   ]
  },
  {
   "cell_type": "code",
   "execution_count": 15,
   "metadata": {},
   "outputs": [
    {
     "name": "stdout",
     "output_type": "stream",
     "text": [
      "Train on 2824 samples, validate on 942 samples\n",
      "Epoch 1/3\n",
      "2824/2824 [==============================] - 393s 139ms/sample - loss: 0.1910 - mse: 0.1910 - RootMeanSquaredError: 0.4371 - mae: 0.1911 - accuracy: 0.2355 - val_loss: 0.1863 - val_mse: 0.1863 - val_RootMeanSquaredError: 0.4316 - val_mae: 0.1863 - val_accuracy: 0.2548\n",
      "Epoch 2/3\n",
      "2824/2824 [==============================] - 411s 146ms/sample - loss: 0.1909 - mse: 0.1909 - RootMeanSquaredError: 0.4369 - mae: 0.1909 - accuracy: 0.2365 - val_loss: 0.1863 - val_mse: 0.1863 - val_RootMeanSquaredError: 0.4316 - val_mae: 0.1863 - val_accuracy: 0.2548\n",
      "Epoch 3/3\n",
      "2824/2824 [==============================] - 368s 130ms/sample - loss: 0.1909 - mse: 0.1909 - RootMeanSquaredError: 0.4369 - mae: 0.1909 - accuracy: 0.2365 - val_loss: 0.1863 - val_mse: 0.1863 - val_RootMeanSquaredError: 0.4316 - val_mae: 0.1863 - val_accuracy: 0.2548\n"
     ]
    }
   ],
   "source": [
    "early2 = tf.keras.callbacks.EarlyStopping(monitor='val_loss', min_delta=0, patience=100, verbose=1, mode='auto')\n",
    "\n",
    "history2 = visual_emotion_model2.fit(X_train, y_train, validation_data=(X_val, y_val), epochs=3, batch_size=100, \n",
    "                                   callbacks=[early2])"
   ]
  },
  {
   "cell_type": "markdown",
   "metadata": {},
   "source": [
    "Train the third visual model."
   ]
  },
  {
   "cell_type": "code",
   "execution_count": 16,
   "metadata": {},
   "outputs": [
    {
     "name": "stdout",
     "output_type": "stream",
     "text": [
      "Train on 2824 samples, validate on 942 samples\n",
      "Epoch 1/3\n",
      "2824/2824 [==============================] - 609s 216ms/sample - loss: 0.2423 - mse: 0.2423 - RootMeanSquaredError: 0.4923 - mae: 0.2437 - accuracy: 0.0258 - val_loss: 0.2500 - val_mse: 0.2500 - val_RootMeanSquaredError: 0.5000 - val_mae: 0.2500 - val_accuracy: 0.0000e+00\n",
      "Epoch 2/3\n",
      "2824/2824 [==============================] - 581s 206ms/sample - loss: 0.2500 - mse: 0.2500 - RootMeanSquaredError: 0.5000 - mae: 0.2500 - accuracy: 0.0000e+00 - val_loss: 0.2500 - val_mse: 0.2500 - val_RootMeanSquaredError: 0.5000 - val_mae: 0.2500 - val_accuracy: 0.0000e+00\n",
      "Epoch 3/3\n",
      "2824/2824 [==============================] - 624s 221ms/sample - loss: 0.2500 - mse: 0.2500 - RootMeanSquaredError: 0.5000 - mae: 0.2500 - accuracy: 0.0000e+00 - val_loss: 0.2500 - val_mse: 0.2500 - val_RootMeanSquaredError: 0.5000 - val_mae: 0.2500 - val_accuracy: 0.0000e+00\n"
     ]
    }
   ],
   "source": [
    "early3 = tf.keras.callbacks.EarlyStopping(monitor='val_loss', min_delta=0, patience=100, verbose=1, mode='auto')\n",
    "\n",
    "history3 = visual_emotion_model3.fit(X_train, y_train, validation_data=(X_val, y_val), epochs=3, batch_size=100, \n",
    "                                   callbacks=[early3])"
   ]
  },
  {
   "cell_type": "markdown",
   "metadata": {},
   "source": [
    "Plot the training mean squared error, root mean squared error, mean absolute error, and accuracy for the first visual model."
   ]
  },
  {
   "cell_type": "code",
   "execution_count": 17,
   "metadata": {},
   "outputs": [
    {
     "data": {
      "image/png": "[encoded data removed]",
      "text/plain": [
       "<Figure size 432x288 with 1 Axes>"
      ]
     },
     "metadata": {
      "needs_background": "light"
     },
     "output_type": "display_data"
    }
   ],
   "source": [
    "plt.title('Visual Model 1 Training History')\n",
    "plt.xlabel('Epochs')\n",
    "plt.ylabel('Metric Value')\n",
    "plt.plot(history1.history['loss'], label='LOSS')\n",
    "plt.plot(history1.history['mse'], label='MSE')\n",
    "plt.plot(history1.history['RootMeanSquaredError'], label='RMSE')\n",
    "plt.plot(history1.history['mae'], label='MAE')\n",
    "plt.plot(history1.history['accuracy'], label='ACC')\n",
    "plt.legend()\n",
    "plt.show()"
   ]
  },
  {
   "cell_type": "markdown",
   "metadata": {},
   "source": [
    "Plot the validation mean squared error, root mean squared error, mean absolute error, and accuracy for the first visual model."
   ]
  },
  {
   "cell_type": "code",
   "execution_count": 18,
   "metadata": {},
   "outputs": [
    {
     "data": {
      "image/png": "[encoded data removed]",
      "text/plain": [
       "<Figure size 432x288 with 1 Axes>"
      ]
     },
     "metadata": {
      "needs_background": "light"
     },
     "output_type": "display_data"
    }
   ],
   "source": [
    "plt.title('Visual Model 1 Validation History')\n",
    "plt.xlabel('Epochs')\n",
    "plt.ylabel('Metric Value')\n",
    "plt.plot(history1.history['val_loss'], label='LOSS')\n",
    "plt.plot(history1.history['val_mse'], label='MSE')\n",
    "plt.plot(history1.history['val_RootMeanSquaredError'], label='RMSE')\n",
    "plt.plot(history1.history['val_mae'], label='MAE')\n",
    "plt.plot(history1.history['val_accuracy'], label='ACC')\n",
    "plt.legend()\n",
    "plt.show()"
   ]
  },
  {
   "cell_type": "markdown",
   "metadata": {},
   "source": [
    "Plot the training mean squared error, root mean squared error, mean absolute error, and accuracy for the second visual model."
   ]
  },
  {
   "cell_type": "code",
   "execution_count": 19,
   "metadata": {},
   "outputs": [
    {
     "data": {
      "image/png": "[encoded data removed]",
      "text/plain": [
       "<Figure size 432x288 with 1 Axes>"
      ]
     },
     "metadata": {
      "needs_background": "light"
     },
     "output_type": "display_data"
    }
   ],
   "source": [
    "plt.title('Visual Model 2 Training History')\n",
    "plt.xlabel('Epochs')\n",
    "plt.ylabel('Metric Value')\n",
    "plt.plot(history2.history['loss'], label='LOSS')\n",
    "plt.plot(history2.history['mse'], label='MSE')\n",
    "plt.plot(history2.history['RootMeanSquaredError'], label='RMSE')\n",
    "plt.plot(history2.history['mae'], label='MAE')\n",
    "plt.plot(history2.history['accuracy'], label='ACC')\n",
    "plt.legend()\n",
    "plt.show()"
   ]
  },
  {
   "cell_type": "markdown",
   "metadata": {},
   "source": [
    "Plot the validation mean squared error, root mean squared error, mean absolute error, and accuracy for the second visual model."
   ]
  },
  {
   "cell_type": "code",
   "execution_count": 20,
   "metadata": {},
   "outputs": [
    {
     "data": {
      "image/png": "[encoded data removed]",
      "text/plain": [
       "<Figure size 432x288 with 1 Axes>"
      ]
     },
     "metadata": {
      "needs_background": "light"
     },
     "output_type": "display_data"
    }
   ],
   "source": [
    "plt.title('Visual Model 2 Validation History')\n",
    "plt.xlabel('Epochs')\n",
    "plt.ylabel('Metric Value')\n",
    "plt.plot(history2.history['val_loss'], label='LOSS')\n",
    "plt.plot(history2.history['val_mse'], label='MSE')\n",
    "plt.plot(history2.history['val_RootMeanSquaredError'], label='RMSE')\n",
    "plt.plot(history2.history['val_mae'], label='MAE')\n",
    "plt.plot(history2.history['val_accuracy'], label='ACC')\n",
    "plt.legend()\n",
    "plt.show()"
   ]
  },
  {
   "cell_type": "markdown",
   "metadata": {},
   "source": [
    "Plot the training mean squared error, root mean squared error, mean absolute error, and accuracy for the third visual model."
   ]
  },
  {
   "cell_type": "code",
   "execution_count": 21,
   "metadata": {},
   "outputs": [
    {
     "data": {
      "image/png": "[encoded data removed]",
      "text/plain": [
       "<Figure size 432x288 with 1 Axes>"
      ]
     },
     "metadata": {
      "needs_background": "light"
     },
     "output_type": "display_data"
    }
   ],
   "source": [
    "plt.title('Visual Model 3 Training History')\n",
    "plt.xlabel('Epochs')\n",
    "plt.ylabel('Metric Value')\n",
    "plt.plot(history3.history['loss'], label='LOSS')\n",
    "plt.plot(history3.history['mse'], label='MSE')\n",
    "plt.plot(history3.history['RootMeanSquaredError'], label='RMSE')\n",
    "plt.plot(history3.history['mae'], label='MAE')\n",
    "plt.plot(history3.history['accuracy'], label='ACC')\n",
    "plt.legend()\n",
    "plt.show()"
   ]
  },
  {
   "cell_type": "markdown",
   "metadata": {},
   "source": [
    "Plot the validation mean squared error, root mean squared error, mean absolute error, and accuracy for the third visual model."
   ]
  },
  {
   "cell_type": "code",
   "execution_count": 22,
   "metadata": {},
   "outputs": [
    {
     "data": {
      "image/png": "[encoded data removed]",
      "text/plain": [
       "<Figure size 432x288 with 1 Axes>"
      ]
     },
     "metadata": {
      "needs_background": "light"
     },
     "output_type": "display_data"
    }
   ],
   "source": [
    "plt.title('Visual Model 3 Validation History')\n",
    "plt.xlabel('Epochs')\n",
    "plt.ylabel('Metric Value')\n",
    "plt.plot(history3.history['val_loss'], label='LOSS')\n",
    "plt.plot(history3.history['val_mse'], label='MSE')\n",
    "plt.plot(history3.history['val_RootMeanSquaredError'], label='RMSE')\n",
    "plt.plot(history3.history['val_mae'], label='MAE')\n",
    "plt.plot(history3.history['val_accuracy'], label='ACC')\n",
    "plt.legend()\n",
    "plt.show()"
   ]
  },
  {
   "cell_type": "markdown",
   "metadata": {},
   "source": [
    "Evaluate the first visual model."
   ]
  },
  {
   "cell_type": "code",
   "execution_count": 23,
   "metadata": {},
   "outputs": [
    {
     "name": "stdout",
     "output_type": "stream",
     "text": [
      "948/948 [==============================] - 3s 3ms/sample - loss: 0.2331 - mse: 0.2331 - RootMeanSquaredError: 0.4828 - mae: 0.2331 - accuracy: 0.0675\n"
     ]
    }
   ],
   "source": [
    "scores1 = visual_emotion_model1.evaluate(X_test, y_test)"
   ]
  },
  {
   "cell_type": "markdown",
   "metadata": {},
   "source": [
    "Evaluate the second visual model."
   ]
  },
  {
   "cell_type": "code",
   "execution_count": 24,
   "metadata": {},
   "outputs": [
    {
     "name": "stdout",
     "output_type": "stream",
     "text": [
      "948/948 [==============================] - 27s 29ms/sample - loss: 0.1920 - mse: 0.1920 - RootMeanSquaredError: 0.4382 - mae: 0.1920 - accuracy: 0.2321\n"
     ]
    }
   ],
   "source": [
    "scores2 = visual_emotion_model2.evaluate(X_test, y_test)"
   ]
  },
  {
   "cell_type": "markdown",
   "metadata": {},
   "source": [
    "Evaluate the third visual model."
   ]
  },
  {
   "cell_type": "code",
   "execution_count": 25,
   "metadata": {},
   "outputs": [
    {
     "name": "stdout",
     "output_type": "stream",
     "text": [
      "948/948 [==============================] - 35s 37ms/sample - loss: 0.2500 - mse: 0.2500 - RootMeanSquaredError: 0.5000 - mae: 0.2500 - accuracy: 0.0000e+00\n"
     ]
    }
   ],
   "source": [
    "scores3 = visual_emotion_model3.evaluate(X_test, y_test)"
   ]
  },
  {
   "attachments": {},
   "cell_type": "markdown",
   "metadata": {},
   "source": [
    "The second visual model achieved the highest accuracy compared to the other two visual models. However, the second visual model still generated poor emotion recognition performance. Different model architectures and training parameters were experimented with, but they generated similar results to the second visual model at best. Perhaps increasing the number of training images in each emotion class and training with more epochs could improve the emotion recognition performance."
   ]
  }
 ],
 "metadata": {
  "kernelspec": {
   "display_name": "Python 3",
   "language": "python",
   "name": "python3"
  },
  "language_info": {
   "codemirror_mode": {
    "name": "ipython",
    "version": 3
   },
   "file_extension": ".py",
   "mimetype": "text/x-python",
   "name": "python",
   "nbconvert_exporter": "python",
   "pygments_lexer": "ipython3",
   "version": "3.7.3"
  }
 },
 "nbformat": 4,
 "nbformat_minor": 4
}
